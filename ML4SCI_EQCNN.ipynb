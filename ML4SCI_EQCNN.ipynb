{
  "nbformat": 4,
  "nbformat_minor": 0,
  "metadata": {
    "colab": {
      "provenance": []
    },
    "kernelspec": {
      "name": "python3",
      "display_name": "Python 3"
    },
    "language_info": {
      "name": "python"
    }
  },
  "cells": [
    {
      "cell_type": "markdown",
      "source": [
        "This is the project I am developing for my masters. Differently from the QNN equivariant to the Z2 x Z2 group task, this one proposes the idea of an **Equivariant Quantum Convolutional Neural Network!**"
      ],
      "metadata": {
        "id": "3jNNsFnkLl1p"
      }
    },
    {
      "cell_type": "markdown",
      "source": [
        "The original CNN/QCNN already is equivariant to the group of **discrete translations**. In our case, I extend this to the group of **discrete rotations** too. This notebook still has improvements to be made, like testing it on some dataset, but we can already see that equivariance is achieved by all qubit permutations in the Parametrized Quantum Circuit."
      ],
      "metadata": {
        "id": "wbh7KeacMdMH"
      }
    },
    {
      "cell_type": "code",
      "execution_count": null,
      "metadata": {
        "id": "mKktQ36WI79J"
      },
      "outputs": [],
      "source": [
        "!pip install pennylane"
      ]
    },
    {
      "cell_type": "markdown",
      "source": [
        "# Define our group representations (discrete rotations)"
      ],
      "metadata": {
        "id": "-fQ5ha34JoxM"
      }
    },
    {
      "cell_type": "code",
      "source": [
        "I = torch.Tensor([[1, 0, 0, 0],\n",
        "            [0, 1, 0, 0],\n",
        "            [0, 0, 1, 0],\n",
        "            [0, 0, 0, 1]])\n",
        "\n",
        "\n",
        "rot_90 = torch.Tensor([[0, 1, 0, 0],\n",
        "                    [0, 0, 1, 0],\n",
        "                    [0, 0, 0, 1],\n",
        "                    [1, 0, 0, 0]])\n",
        "\n",
        "\n",
        "rot_180 = torch.Tensor([[0, 0, 1, 0],\n",
        "                    [0, 0, 0, 1],\n",
        "                    [1, 0, 0, 0],\n",
        "                    [0, 1, 0, 0]])\n",
        "\n",
        "\n",
        "rot_270 = torch.Tensor([[0, 0, 0, 1],\n",
        "                        [1, 0, 0, 0],\n",
        "                        [0, 1, 0, 0],\n",
        "                        [0, 0, 1, 0]])"
      ],
      "metadata": {
        "id": "l7hfArGjJkyL"
      },
      "execution_count": 8,
      "outputs": []
    },
    {
      "cell_type": "code",
      "source": [
        "import pennylane as qml\n",
        "import numpy as np\n",
        "\n",
        "import time\n",
        "\n",
        "import torch.nn as nn\n",
        "\n",
        "from functools import partial\n",
        "\n",
        "dev = qml.device(\"default.qubit\", wires=4)\n",
        "\n",
        "\n",
        "def H_layer(nqubits):\n",
        "    \"\"\"Layer of single-qubit Hadamard gates.\n",
        "    \"\"\"\n",
        "    for idx in range(nqubits):\n",
        "        qml.Hadamard(wires=idx)\n",
        "\n",
        "\n",
        "def RY_layer(w, n_qubits, rot=0):\n",
        "    \"\"\"Layer of parametrized qubit rotations around the y axis.\n",
        "    \"\"\"\n",
        "    \n",
        "    if rot == 90:\n",
        "        w = rot_90.T @ w\n",
        "    if rot == 180:\n",
        "        w = rot_180.T @ w\n",
        "    if rot == 270:\n",
        "        w = rot_270.T @ w\n",
        "\n",
        "    for idx, element in enumerate(w):\n",
        "        qml.RY(element, wires=idx)\n",
        "\n",
        "\n",
        "@qml.qnode(dev, interface=\"torch\")\n",
        "def quantum_net(q_input_features, q_weights_flat, q_depth, n_qubits, rot=0):\n",
        "    \"\"\"\n",
        "    The variational quantum circuit.\n",
        "    \"\"\"\n",
        "\n",
        "    # Reshape weights\n",
        "    q_weights = q_weights_flat.reshape(q_depth, n_qubits)\n",
        "\n",
        "    # Start from state |+> , unbiased w.r.t. |0> and |1>\n",
        "    H_layer(n_qubits)\n",
        "\n",
        "    # Embed features in the quantum node. This one has always rot = 0\n",
        "    RY_layer(q_input_features, n_qubits, 0)\n",
        "\n",
        "    # Sequence of trainable variational layers\n",
        "    for k in range(q_depth):\n",
        "        RY_layer(q_weights[k],  n_qubits, rot) # (k - rot/90) % q_depth implements the rotation as simple permutations.\n",
        "\n",
        "    # Expectation values in the Z basis\n",
        "    exp_vals = [qml.expval(qml.PauliZ(position)) for position in range(n_qubits)]\n",
        "\n",
        "    return tuple(exp_vals)\n",
        "\n",
        "\n",
        "\n",
        "class EQCNN(nn.Module):\n",
        "    \"\"\"\n",
        "    Torch module implementing the *dressed* quantum net.\n",
        "    \"\"\"\n",
        "\n",
        "    def __init__(self, q_depth, q_delta, n_qubits, check_equivariance = False, device=\"cpu\"):\n",
        "        \"\"\"\n",
        "        Definition of the *dressed* layout.\n",
        "        \"\"\"\n",
        "\n",
        "        super().__init__()\n",
        "\n",
        "        self.device = device\n",
        "        self.n_qubits = n_qubits\n",
        "        self.q_depth = q_depth\n",
        "        self.q_params = nn.Parameter(q_delta * torch.randn(q_depth * n_qubits))\n",
        "\n",
        "        self.post_net = nn.Linear(196, 10) # 10 classes for MNIST\n",
        "\n",
        "        # important for final invariance!\n",
        "        self.projection_layer = partial(torch.mean, dim=(-2,-1))#(-3, -2, -1))\n",
        "\n",
        "        if check_equivariance:\n",
        "            self.check_equivariance()\n",
        "\n",
        "    def forward(self, input_features):\n",
        "        \"\"\"\n",
        "        Defining how tensors are supposed to move through the *dressed* quantum\n",
        "        net.\n",
        "        \"\"\"\n",
        "        \n",
        "        bsz = input_features.shape[0]\n",
        "        size = 28\n",
        "\n",
        "\n",
        "        #CHECK RESCALING OVER pi/2\n",
        "        input_features = input_features.view(bsz, size, size) * np.pi/2\n",
        "\n",
        "\n",
        "        # this will contain the tensor where the pooling op will be done\n",
        "        global_out = torch.Tensor(0, 1)#self.n_qubits)\n",
        "        global_out = global_out.to(self.device)\n",
        "\n",
        "        for c in range(0, size, 2):\n",
        "            for r in range(0, size, 2):\n",
        "\n",
        "                # 1 because original return is like [1.0, 0.2, -0.9, 0.5], after max pool <=> [1.0]\n",
        "                tmp = torch.Tensor(0, 1)\n",
        "                elements = torch.transpose(torch.cat((input_features[:, c, r], input_features[:, c, r+1], input_features[:, c+1, r], input_features[:, c+1, r+1])).view(4, bsz), 0, 1)\n",
        "                for e in elements:\n",
        "\n",
        "                    # Apply the quantum circuit to each element of the batch and append to q_out\n",
        "                    q_out = torch.Tensor(0, self.n_qubits)\n",
        "                    q_out = q_out.to(self.device)\n",
        "                    for rotation in [0, 90, 180, 270]:\n",
        "                        q_out_elem = quantum_net(e, self.q_params, self.q_depth, self.n_qubits, rotation).float().unsqueeze(0)\n",
        "                        q_out = torch.cat((q_out, q_out_elem))\n",
        "\n",
        "                    # projection layer for obtaining equivariance!!!\n",
        "                    q_out = self.projection_layer(q_out).unsqueeze(0).unsqueeze(0) #torch.max(self.projection_layer(q_out)).unsqueeze(0).unsqueeze(0)\n",
        "\n",
        "                    tmp = torch.cat((tmp, q_out))\n",
        "\n",
        "                if len(global_out) > 0:\n",
        "                    global_out = torch.cat((global_out, tmp), -1) #check if axis is right, if pooling is being done on right dimension\n",
        "                else:\n",
        "                    global_out = torch.cat((global_out, tmp), 0)\n",
        "                \n",
        "        # return post processing layer!!!\n",
        "        global_out = self.post_net(global_out)\n",
        "\n",
        "        return global_out\n",
        "\n",
        "\n",
        "\n",
        "\n",
        "    def check_equivariance(self):\n",
        "\n",
        "        print(\"[*] Creating random tensor for equivariance testing..\")\n",
        "        rand_tensor = torch.rand(4).unsqueeze(0)\n",
        "        rand_tensor = torch.cat((rand_tensor, (rot_90.T @ rand_tensor[0]).unsqueeze(0)))\n",
        "        rand_tensor = torch.cat((rand_tensor, (rot_180.T @ rand_tensor[0]).unsqueeze(0)))\n",
        "        rand_tensor = torch.cat((rand_tensor, (rot_270.T @ rand_tensor[0]).unsqueeze(0)))\n",
        "        print(\"\\n[+] New tensor x = \", rand_tensor, \"\\n\")\n",
        "        \n",
        "        thetas = [\"0  \", \"π/2\", \"π  \", \"3π/2\"]\n",
        "        for e, theta in zip(rand_tensor, thetas):\n",
        "            q_out = torch.Tensor(0, self.n_qubits)\n",
        "            q_out = q_out.to(self.device)\n",
        "            for rotation in [0, 90, 180, 270]:\n",
        "                q_out_elem = quantum_net(e, self.q_params, self.q_depth, self.n_qubits, rotation).float().unsqueeze(0)\n",
        "                q_out = torch.cat((q_out, q_out_elem))\n",
        "\n",
        "            # q_out = torch.max(q_out, dim=0).values#.unsqueeze(0)#self.projection_layer(q_out).unsqueeze(0) #torch.max(self.projection_layer(q_out)).unsqueeze(0).unsqueeze(0)\n",
        "\n",
        "            q_out = self.projection_layer(q_out).unsqueeze(0)\n",
        "            print(\"(ℒ_θ(x) | θ = {}) = \".format(theta), q_out)\n"
      ],
      "metadata": {
        "id": "e4eD-JsqJk0v"
      },
      "execution_count": 20,
      "outputs": []
    },
    {
      "cell_type": "markdown",
      "source": [
        "# Let's check for equivariance!"
      ],
      "metadata": {
        "id": "OJ8M5sNCLFGY"
      }
    },
    {
      "cell_type": "code",
      "source": [
        "equivariant_model = EQCNN(q_depth=1, q_delta=0.1, n_qubits=4, check_equivariance=True)"
      ],
      "metadata": {
        "colab": {
          "base_uri": "https://localhost:8080/"
        },
        "id": "rRnpm43mJk3G",
        "outputId": "a0fcef6c-322a-4a09-98b7-712c6982b769"
      },
      "execution_count": 21,
      "outputs": [
        {
          "output_type": "stream",
          "name": "stdout",
          "text": [
            "[*] Creating random tensor for equivariance testing..\n",
            "\n",
            "[+] New tensor x =  tensor([[0.1234, 0.1259, 0.8803, 0.0018],\n",
            "        [0.0018, 0.1234, 0.1259, 0.8803],\n",
            "        [0.8803, 0.0018, 0.1234, 0.1259],\n",
            "        [0.1259, 0.8803, 0.0018, 0.1234]]) \n",
            "\n",
            "(ℒ_θ(x) | θ = 0  ) =  tensor([-0.2583], grad_fn=<UnsqueezeBackward0>)\n",
            "(ℒ_θ(x) | θ = π/2) =  tensor([-0.2583], grad_fn=<UnsqueezeBackward0>)\n",
            "(ℒ_θ(x) | θ = π  ) =  tensor([-0.2583], grad_fn=<UnsqueezeBackward0>)\n",
            "(ℒ_θ(x) | θ = 3π/2) =  tensor([-0.2583], grad_fn=<UnsqueezeBackward0>)\n"
          ]
        }
      ]
    },
    {
      "cell_type": "code",
      "source": [],
      "metadata": {
        "id": "bypSLe6BJcTS"
      },
      "execution_count": null,
      "outputs": []
    }
  ]
}