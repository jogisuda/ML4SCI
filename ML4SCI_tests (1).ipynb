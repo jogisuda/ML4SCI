{
  "cells": [
    {
      "cell_type": "markdown",
      "metadata": {
        "id": "ajIJ-jTyL4HJ"
      },
      "source": [
        "**Task I - simple quantum circuit and operations**\n",
        "\n"
      ]
    },
    {
      "cell_type": "markdown",
      "metadata": {
        "id": "u3VZWdc9Pbo9"
      },
      "source": [
        "**Part 1**\n",
        "*   With 5 qubits \n",
        "*   Apply Hadamard operation on every qubit \n",
        "*   Apply CNOT operation on (0, 1), (1,2), (2,3), (3,4) \n",
        "*   SWAP (0, 4) \n",
        "*   Rotate X with pi/2 on any qubit \n",
        "*   Plot the circuit \n",
        "\n"
      ]
    },
    {
      "cell_type": "code",
      "execution_count": null,
      "metadata": {
        "id": "I3j9GH5-dh1d"
      },
      "outputs": [],
      "source": [
        "!pip install pennylane"
      ]
    },
    {
      "cell_type": "code",
      "source": [
        "!pip install torch_geometric"
      ],
      "metadata": {
        "id": "GsLsKIgfNP15"
      },
      "execution_count": null,
      "outputs": []
    },
    {
      "cell_type": "code",
      "source": [
        "!pip install lightning"
      ],
      "metadata": {
        "id": "hJVepuD7zmrh"
      },
      "execution_count": null,
      "outputs": []
    },
    {
      "cell_type": "code",
      "execution_count": null,
      "metadata": {
        "id": "6tz-QEd4JY4T"
      },
      "outputs": [],
      "source": [
        "import torch\n",
        "import numpy as np\n",
        "import pennylane as qml\n",
        "\n",
        "n_qubits = 5 # (4 normal qubits + 1 ancilla)\n",
        "\n",
        "# here we begin part a), where we create a quantum device for 5 qubits.\n",
        "dev = qml.device(\"default.qubit\", wires=n_qubits)"
      ]
    },
    {
      "cell_type": "code",
      "execution_count": null,
      "metadata": {
        "id": "PV81wMhZKoj9"
      },
      "outputs": [],
      "source": [
        "device = torch.device(\"cuda:0\" if torch.cuda.is_available() else \"cpu\")"
      ]
    },
    {
      "cell_type": "code",
      "execution_count": null,
      "metadata": {
        "id": "eMPE1SbGKosj"
      },
      "outputs": [],
      "source": [
        "def H_layer(nqubits):\n",
        "    \"\"\"Layer of single-qubit Hadamard gates.\n",
        "    \"\"\"\n",
        "    for idx in range(nqubits):\n",
        "        qml.Hadamard(wires=idx)"
      ]
    },
    {
      "cell_type": "code",
      "execution_count": null,
      "metadata": {
        "id": "1hBv_kUrKySl"
      },
      "outputs": [],
      "source": [
        "@qml.qnode(dev, interface=\"torch\")\n",
        "def pqc_exercise_1(rx_angle):#(q_input_features, q_weights_flat):\n",
        "    \"\"\"\n",
        "    b) Apply Hadamard operation on every qubit \n",
        "    c) Apply CNOT operation on (0, 1), (1,2), (2,3), (3,4) \n",
        "    d) SWAP (0, 4) \n",
        "    e) Rotate X with pi/2 on any qubit \n",
        "\n",
        "    \"\"\"\n",
        "\n",
        "    # Apply Hadamard operation on every qubit \n",
        "    H_layer(n_qubits)\n",
        "\n",
        "    # Apply CNOT operation on (0, 1), (1,2), (2,3), (3,4) \n",
        "    for i in range(0, n_qubits - 1):  \n",
        "        qml.CNOT(wires=[i, i + 1])\n",
        "\n",
        "    # SWAP between first and fifth qubit.\n",
        "    qml.SWAP([0,4])\n",
        "\n",
        "    # Rotate over X on 0\n",
        "    qml.RX(rx_angle, wires=0)\n",
        "\n",
        "    # Expectation values in the Z basis\n",
        "    exp_vals = [qml.expval(qml.PauliZ(position)) for position in range(n_qubits)]\n",
        "    return tuple(exp_vals)"
      ]
    },
    {
      "cell_type": "code",
      "source": [
        "print(qml.draw(pqc_exercise_1)(rx_angle = np.pi/2))"
      ],
      "metadata": {
        "colab": {
          "base_uri": "https://localhost:8080/"
        },
        "id": "Z1e-yGDtcwE6",
        "outputId": "8e9e40d7-d944-4db7-adb4-bf661f240c71"
      },
      "execution_count": null,
      "outputs": [
        {
          "output_type": "stream",
          "name": "stdout",
          "text": [
            "0: ──H─╭●──────────╭SWAP──RX(1.57)─┤  <Z>\n",
            "1: ──H─╰X─╭●───────│───────────────┤  <Z>\n",
            "2: ──H────╰X─╭●────│───────────────┤  <Z>\n",
            "3: ──H───────╰X─╭●─│───────────────┤  <Z>\n",
            "4: ──H──────────╰X─╰SWAP───────────┤  <Z>\n"
          ]
        }
      ]
    },
    {
      "cell_type": "markdown",
      "metadata": {
        "id": "1nOP958dMDGC"
      },
      "source": [
        "**Part 2**"
      ]
    },
    {
      "cell_type": "code",
      "execution_count": null,
      "metadata": {
        "id": "S7TEk_YLME3W"
      },
      "outputs": [],
      "source": [
        "dev = qml.device(\"default.qubit\", wires=6)\n",
        "\n",
        "@qml.qnode(dev, interface=\"torch\")\n",
        "def pqc_exercise_2(rx_angle):\n",
        "    \"\"\"\n",
        "    a) Apply a Hadmard gate to the first qubit\n",
        "    b) rotate the second qubit by pi/3 around X\n",
        "    c) Apply Hadamard gate to the third and fourth qubit\n",
        "    d) Perform a swap test between the states of the first and second qubit |q1 q2> and the third and fourth qubit |q3 q4>\n",
        "\n",
        "    \"\"\"\n",
        "\n",
        "    # Reshape weights\n",
        "    # q_weights = q_weights_flat.reshape(q_depth, n_qubits)\n",
        "\n",
        "    # Apply Hadamard operation on the first qubit \n",
        "    qml.Hadamard(wires=2)\n",
        "\n",
        "    # Embed features in the quantum node\n",
        "    qml.RX(rx_angle, wires=3)\n",
        "\n",
        "    # Apply Hadamard operation on the third and fourth qubit \n",
        "    qml.Hadamard(wires=4)\n",
        "    qml.Hadamard(wires=5)\n",
        "\n",
        "    # SWAP test: 1st and 2nd qubit in |+>\n",
        "    qml.Hadamard(wires=0)\n",
        "    qml.Hadamard(wires=1)\n",
        "\n",
        "    # SWAP test between |q1 q2> and |q3 q4>\n",
        "    qml.CSWAP(wires=[0, 2, 3])\n",
        "    qml.CSWAP(wires=[1, 4, 5])\n",
        "\n",
        "    qml.Hadamard(wires=0)\n",
        "    qml.Hadamard(wires=1)\n",
        "\n",
        "    exp = [qml.expval(qml.PauliZ(0)), qml.expval(qml.PauliZ(1))] # expected value of ancilla qubit (0-th qubit)\n",
        "    \n",
        "    return tuple(exp)"
      ]
    },
    {
      "cell_type": "code",
      "source": [
        "pqc_exercise_2(np.pi/3)"
      ],
      "metadata": {
        "colab": {
          "base_uri": "https://localhost:8080/"
        },
        "id": "bDbi3TgHfg9Q",
        "outputId": "4c7cfc83-cecb-48f3-e3b7-6cd2c235d387"
      },
      "execution_count": null,
      "outputs": [
        {
          "output_type": "execute_result",
          "data": {
            "text/plain": [
              "tensor([0.5000, 1.0000], dtype=torch.float64)"
            ]
          },
          "metadata": {},
          "execution_count": 204
        }
      ]
    },
    {
      "cell_type": "code",
      "source": [
        "print(qml.draw(pqc_exercise_2)(rx_angle = np.pi/3))"
      ],
      "metadata": {
        "colab": {
          "base_uri": "https://localhost:8080/"
        },
        "id": "Ryi8-3NkVS4a",
        "outputId": "fb4fc60f-2423-46a6-acc8-8b9a09ea46a3"
      },
      "execution_count": null,
      "outputs": [
        {
          "output_type": "stream",
          "name": "stdout",
          "text": [
            "0: ──H────────╭●─────H───────┤  <Z>\n",
            "1: ──H────────│─────╭●─────H─┤  <Z>\n",
            "2: ──H────────├SWAP─│────────┤     \n",
            "3: ──RX(1.05)─╰SWAP─│────────┤     \n",
            "4: ──H──────────────├SWAP────┤     \n",
            "5: ──H──────────────╰SWAP────┤     \n"
          ]
        }
      ]
    },
    {
      "cell_type": "markdown",
      "metadata": {
        "id": "_jw6HX1EPOl-"
      },
      "source": [
        "**Task II - Classical GNN for quark/gluon dataset**"
      ]
    },
    {
      "cell_type": "markdown",
      "source": [
        "**Architecture 1**: using the graph neural network operator from the “Weisfeiler and Leman Go Neural: Higher-order Graph Neural Networks” paper [https://arxiv.org/abs/1810.02244]"
      ],
      "metadata": {
        "id": "9NRUzFqqVulp"
      }
    },
    {
      "cell_type": "markdown",
      "source": [
        "**Architecture 2**: using the classical graph attentional operator from the “Graph Attention Networks” paper [https://arxiv.org/abs/1710.10903]"
      ],
      "metadata": {
        "id": "9DpIQBLQV6S-"
      }
    },
    {
      "cell_type": "code",
      "source": [
        "import numpy as np\n",
        "\n",
        "data = np.load('QG_jets.npz')"
      ],
      "metadata": {
        "id": "ibN2TrqBs_I8"
      },
      "execution_count": 1,
      "outputs": []
    },
    {
      "cell_type": "code",
      "source": [
        "print(dict(data).keys())  "
      ],
      "metadata": {
        "colab": {
          "base_uri": "https://localhost:8080/"
        },
        "id": "y5jIxdN7tDAk",
        "outputId": "c63951ad-37fe-45f7-b925-93cb24300175"
      },
      "execution_count": null,
      "outputs": [
        {
          "output_type": "stream",
          "name": "stdout",
          "text": [
            "dict_keys(['X', 'y'])\n"
          ]
        }
      ]
    },
    {
      "cell_type": "markdown",
      "source": [
        "I will treat this as a **graph-level prediction task**. Given the dataset description, I thought the following:\n",
        "\n",
        "\n",
        "\n",
        "*   **Nodes**: each node is represented by one feature vector: pt, rapidity, azimuthal angle, and pdgid. These are the features exactly described in the site. Nodes will be connected by an edge index.\n",
        "*   **Graph**: as the final prediction task, which is at graph-level, we will consider that there is a \"master\" node connected to all other nodes in the graph. This is the node that will go through an MLP in the end for classification. \n",
        "\n",
        "\n",
        "\n"
      ],
      "metadata": {
        "id": "suqiYDg0uOG4"
      }
    },
    {
      "cell_type": "code",
      "source": [
        "data['X'].shape"
      ],
      "metadata": {
        "colab": {
          "base_uri": "https://localhost:8080/"
        },
        "id": "5O8lH-gPtUPY",
        "outputId": "4404a81e-6201-42d6-ab78-f29bd64606a2"
      },
      "execution_count": 136,
      "outputs": [
        {
          "output_type": "execute_result",
          "data": {
            "text/plain": [
              "(100000, 139, 4)"
            ]
          },
          "metadata": {},
          "execution_count": 136
        }
      ]
    },
    {
      "cell_type": "code",
      "source": [
        "data['y'].shape"
      ],
      "metadata": {
        "colab": {
          "base_uri": "https://localhost:8080/"
        },
        "id": "NQXswtVJvyz6",
        "outputId": "1ec7e02e-9584-435a-9e73-d2a5eaa1405c"
      },
      "execution_count": null,
      "outputs": [
        {
          "output_type": "execute_result",
          "data": {
            "text/plain": [
              "(100000,)"
            ]
          },
          "metadata": {},
          "execution_count": 245
        }
      ]
    },
    {
      "cell_type": "markdown",
      "source": [
        "### The dataset makes this colab run out of memory, so I will take just a small sample of 15 graphs, 5 for learning/validating/testing respectively."
      ],
      "metadata": {
        "id": "rOULyem7WfoG"
      }
    },
    {
      "cell_type": "code",
      "source": [
        "idx_list = data['y'][np.random.choice(len(data['y']), 15)]"
      ],
      "metadata": {
        "id": "q4gwgbjPtY3b"
      },
      "execution_count": 7,
      "outputs": []
    },
    {
      "cell_type": "code",
      "source": [
        "import torch\n",
        "import itertools\n",
        "import numpy as np\n",
        "\n",
        "from tqdm import tqdm\n",
        "from torch_geometric.data import Data\n",
        "\n",
        "data_list = []\n",
        "all_edges = np.array([], dtype=np.int32).reshape((0, 2))\n",
        "permutations = list(itertools.combinations([i for i in range(139)], 2))\n",
        "\n",
        "for idx in tqdm(idx_list):\n",
        "    edges_source = [e[0] for e in permutations]\n",
        "    edges_target = [e[1] for e in permutations]\n",
        "    team_edges = np.column_stack([edges_source, edges_target])\n",
        "    all_edges = np.vstack([all_edges, team_edges])\n",
        "\n",
        "    edge_index = all_edges.transpose()\n",
        "    edge_index = torch.from_numpy(edge_index)\n",
        "\n",
        "    graph_data = Data(x=torch.from_numpy(data['X'][int(idx)]).type(torch.float32), edge_index=edge_index, y=torch.from_numpy(np.array([0])))\n",
        "    data_list.append(graph_data)\n",
        "\n"
      ],
      "metadata": {
        "colab": {
          "base_uri": "https://localhost:8080/"
        },
        "id": "PsL4Wac906qv",
        "outputId": "6be7a270-3e97-4a2b-ea55-51e10d99749a"
      },
      "execution_count": 10,
      "outputs": [
        {
          "output_type": "stream",
          "name": "stderr",
          "text": [
            "100%|██████████| 15/15 [00:33<00:00,  2.23s/it]\n"
          ]
        }
      ]
    },
    {
      "cell_type": "code",
      "source": [
        "from torch_geometric.loader import DataLoader\n",
        "graph_train_loader = DataLoader(data_list[:5], batch_size=32, shuffle=True)\n",
        "graph_val_loader = DataLoader(data_list[5:10], batch_size=32)\n",
        "graph_test_loader = DataLoader(data_list[10:15], batch_size=32)"
      ],
      "metadata": {
        "id": "MpcTZnk43V1L"
      },
      "execution_count": 11,
      "outputs": []
    },
    {
      "cell_type": "markdown",
      "source": [
        "As described in the site, the shape of the features is (B, M, N), where **B** represents the number of graphs (or jets), **M** is described as the maximum multiplicity of the jets, and in our case, we'll think of these as the maximum number of nodes in our graph. Finally, **N** is the initial dimension of our node feature vectors."
      ],
      "metadata": {
        "id": "E60UomJrv2D-"
      }
    },
    {
      "cell_type": "code",
      "source": [
        "import lightning as pl\n",
        "import torch.nn as nn\n",
        "import torch_geometric\n",
        "import torch_geometric.nn as geom_nn\n",
        "import torch_geometric.data as geom_data\n",
        "\n",
        "\n",
        "gnn_layer_by_name = {\n",
        "    \"GCN\": geom_nn.GCNConv,\n",
        "    \"GAT\": geom_nn.GATConv,\n",
        "    \"GraphConv\": geom_nn.GraphConv\n",
        "}\n",
        "\n",
        "class GNNModel(nn.Module):\n",
        "\n",
        "    def __init__(self, c_in, c_hidden, c_out, num_layers=2, layer_name=\"GCN\", dp_rate=0.1, **kwargs):\n",
        "        \"\"\"\n",
        "        Inputs:\n",
        "            c_in - Dimension of input features\n",
        "            c_hidden - Dimension of hidden features\n",
        "            c_out - Dimension of the output features. Usually number of classes in classification\n",
        "            num_layers - Number of \"hidden\" graph layers\n",
        "            layer_name - String of the graph layer to use\n",
        "            dp_rate - Dropout rate to apply throughout the network\n",
        "            kwargs - Additional arguments for the graph layer (e.g. number of heads for GAT)\n",
        "        \"\"\"\n",
        "        super().__init__()\n",
        "        gnn_layer = gnn_layer_by_name[layer_name]\n",
        "\n",
        "        layers = []\n",
        "        in_channels, out_channels = c_in, c_hidden\n",
        "        for l_idx in range(num_layers-1):\n",
        "            layers += [\n",
        "                gnn_layer(in_channels=in_channels,\n",
        "                          out_channels=out_channels,\n",
        "                          **kwargs),\n",
        "                nn.ReLU(inplace=True),\n",
        "                nn.Dropout(dp_rate)\n",
        "            ]\n",
        "            in_channels = c_hidden\n",
        "        layers += [gnn_layer(in_channels=in_channels,\n",
        "                             out_channels=c_out,\n",
        "                             **kwargs)]\n",
        "        self.layers = nn.ModuleList(layers)\n",
        "\n",
        "    def forward(self, x, edge_index):\n",
        "        \"\"\"\n",
        "        Inputs:\n",
        "            x - Input features per node\n",
        "            edge_index - List of vertex index pairs representing the edges in the graph (PyTorch geometric notation)\n",
        "        \"\"\"\n",
        "        for l in self.layers:\n",
        "            # For graph layers, we need to add the \"edge_index\" tensor as additional input\n",
        "            # All PyTorch Geometric graph layer inherit the class \"MessagePassing\", hence\n",
        "            # we can simply check the class type.\n",
        "            if isinstance(l, geom_nn.MessagePassing):\n",
        "                x = l(x, edge_index)\n",
        "            else:\n",
        "                x = l(x)\n",
        "        return x"
      ],
      "metadata": {
        "id": "I1sGPEqBylTK"
      },
      "execution_count": 17,
      "outputs": []
    },
    {
      "cell_type": "code",
      "source": [
        "from torch import nn\n",
        "\n",
        "class GraphGNNModel(nn.Module):\n",
        "\n",
        "    def __init__(self, c_in, c_hidden, c_out, dp_rate_linear=0.5, **kwargs):\n",
        "        \"\"\"\n",
        "        Inputs:\n",
        "            c_in - Dimension of input features\n",
        "            c_hidden - Dimension of hidden features\n",
        "            c_out - Dimension of output features (usually number of classes)\n",
        "            dp_rate_linear - Dropout rate before the linear layer (usually much higher than inside the GNN)\n",
        "            kwargs - Additional arguments for the GNNModel object\n",
        "        \"\"\"\n",
        "        super().__init__()\n",
        "        self.GNN = GNNModel(c_in=c_in,\n",
        "                            c_hidden=c_hidden,\n",
        "                            c_out=c_hidden, # Not our prediction output yet!\n",
        "                            **kwargs)\n",
        "        self.head = nn.Sequential(\n",
        "            nn.Dropout(dp_rate_linear),\n",
        "            nn.Linear(c_hidden, c_out)\n",
        "        )\n",
        "\n",
        "    def forward(self, x, edge_index, batch_idx):\n",
        "        \"\"\"\n",
        "        Inputs:\n",
        "            x - Input features per node\n",
        "            edge_index - List of vertex index pairs representing the edges in the graph (PyTorch geometric notation)\n",
        "            batch_idx - Index of batch element for each node\n",
        "        \"\"\"\n",
        "        x = self.GNN(x, edge_index)\n",
        "        x = geom_nn.global_mean_pool(x, batch_idx) # Average pooling\n",
        "        x = self.head(x)\n",
        "        return x"
      ],
      "metadata": {
        "id": "N2xm2LFoyldl"
      },
      "execution_count": 19,
      "outputs": []
    },
    {
      "cell_type": "code",
      "source": [
        "## PyTorch\n",
        "import torch\n",
        "import torch.nn as nn\n",
        "import torch.nn.functional as F\n",
        "import torch.utils.data as data\n",
        "import torch.optim as optim\n",
        "\n",
        "class GraphLevelGNN(pl.LightningModule):\n",
        "\n",
        "    def __init__(self, **model_kwargs):\n",
        "        super().__init__()\n",
        "        # Saving hyperparameters\n",
        "        self.save_hyperparameters()\n",
        "\n",
        "        self.model = GraphGNNModel(**model_kwargs)\n",
        "        self.loss_module = nn.BCEWithLogitsLoss() if self.hparams.c_out == 1 else nn.CrossEntropyLoss()\n",
        "\n",
        "    def forward(self, data, mode=\"train\"):\n",
        "        x, edge_index, batch_idx = data.x, data.edge_index, data.batch\n",
        "        x = self.model(x, edge_index, batch_idx)\n",
        "        x = x.squeeze(dim=-1)\n",
        "\n",
        "        if self.hparams.c_out == 1:\n",
        "            preds = (x > 0).float()\n",
        "            data.y = data.y.float()\n",
        "        else:\n",
        "            preds = x.argmax(dim=-1)\n",
        "        loss = self.loss_module(x, data.y)\n",
        "        acc = (preds == data.y).sum().float() / preds.shape[0]\n",
        "        return loss, acc\n",
        "\n",
        "    def configure_optimizers(self):\n",
        "        optimizer = optim.AdamW(self.parameters(), lr=1e-2, weight_decay=0.0) # High lr because of small dataset and small model\n",
        "        return optimizer\n",
        "\n",
        "    def training_step(self, batch, batch_idx):\n",
        "        loss, acc = self.forward(batch, mode=\"train\")\n",
        "        self.log('train_loss', loss)\n",
        "        self.log('train_acc', acc)\n",
        "        return loss\n",
        "\n",
        "    def validation_step(self, batch, batch_idx):\n",
        "        _, acc = self.forward(batch, mode=\"val\")\n",
        "        self.log('val_acc', acc)\n",
        "\n",
        "    def test_step(self, batch, batch_idx):\n",
        "        _, acc = self.forward(batch, mode=\"test\")\n",
        "        self.log('test_acc', acc)"
      ],
      "metadata": {
        "id": "4kYQQNA9ylfn"
      },
      "execution_count": 20,
      "outputs": []
    },
    {
      "cell_type": "code",
      "source": [
        "def train_graph_classifier(model_name, **model_kwargs):\n",
        "    pl.seed_everything(42)\n",
        "    device = \"cpu\"\n",
        "    \n",
        "    trainer = pl.Trainer(default_root_dir=\".\",\n",
        "                        #  callbacks=[ModelCheckpoint(save_weights_only=True, mode=\"max\", monitor=\"val_acc\")],\n",
        "                         accelerator=\"gpu\" if str(device).startswith(\"cuda\") else \"cpu\",\n",
        "                         devices=1,\n",
        "                         max_epochs=10,\n",
        "                         enable_progress_bar=False)\n",
        "    trainer.logger._default_hp_metric = None # Optional logging argument that we don't need\n",
        "    pl.seed_everything(42)\n",
        "    model = GraphLevelGNN(c_in=4,\n",
        "                            c_out=1, **model_kwargs) \n",
        "    trainer.fit(model, graph_train_loader, graph_val_loader)\n",
        "    model = GraphLevelGNN.load_from_checkpoint(trainer.checkpoint_callback.best_model_path)\n",
        "    # Test best model on validation and test set\n",
        "    train_result = trainer.test(model, graph_train_loader, verbose=False)\n",
        "    test_result = trainer.test(model, graph_test_loader, verbose=False)\n",
        "    result = {\"test\": test_result[0]['test_acc'], \"train\": train_result[0]['test_acc']}\n",
        "    return model, result"
      ],
      "metadata": {
        "id": "AtPFJIB5yliB"
      },
      "execution_count": 21,
      "outputs": []
    },
    {
      "cell_type": "code",
      "source": [
        "model, result = train_graph_classifier(model_name=\"GraphConv\",\n",
        "                                       c_hidden=256,\n",
        "                                       layer_name=\"GraphConv\",\n",
        "                                       num_layers=3,\n",
        "                                       dp_rate_linear=0.5,\n",
        "                                       dp_rate=0.0)"
      ],
      "metadata": {
        "colab": {
          "base_uri": "https://localhost:8080/"
        },
        "id": "G3XfwO_FzIcV",
        "outputId": "7dc4d2a9-ae37-43e5-fa98-eaaadbcb6dd6"
      },
      "execution_count": 22,
      "outputs": [
        {
          "output_type": "stream",
          "name": "stderr",
          "text": [
            "INFO: Global seed set to 42\n",
            "INFO:lightning.fabric.utilities.seed:Global seed set to 42\n",
            "INFO: GPU available: False, used: False\n",
            "INFO:lightning.pytorch.utilities.rank_zero:GPU available: False, used: False\n",
            "INFO: TPU available: False, using: 0 TPU cores\n",
            "INFO:lightning.pytorch.utilities.rank_zero:TPU available: False, using: 0 TPU cores\n",
            "INFO: IPU available: False, using: 0 IPUs\n",
            "INFO:lightning.pytorch.utilities.rank_zero:IPU available: False, using: 0 IPUs\n",
            "INFO: HPU available: False, using: 0 HPUs\n",
            "INFO:lightning.pytorch.utilities.rank_zero:HPU available: False, using: 0 HPUs\n",
            "INFO: Global seed set to 42\n",
            "INFO:lightning.fabric.utilities.seed:Global seed set to 42\n",
            "INFO: \n",
            "  | Name        | Type              | Params\n",
            "--------------------------------------------------\n",
            "0 | model       | GraphGNNModel     | 265 K \n",
            "1 | loss_module | BCEWithLogitsLoss | 0     \n",
            "--------------------------------------------------\n",
            "265 K     Trainable params\n",
            "0         Non-trainable params\n",
            "265 K     Total params\n",
            "1.061     Total estimated model params size (MB)\n",
            "INFO:lightning.pytorch.callbacks.model_summary:\n",
            "  | Name        | Type              | Params\n",
            "--------------------------------------------------\n",
            "0 | model       | GraphGNNModel     | 265 K \n",
            "1 | loss_module | BCEWithLogitsLoss | 0     \n",
            "--------------------------------------------------\n",
            "265 K     Trainable params\n",
            "0         Non-trainable params\n",
            "265 K     Total params\n",
            "1.061     Total estimated model params size (MB)\n",
            "/usr/local/lib/python3.9/dist-packages/lightning/pytorch/utilities/data.py:76: UserWarning: Trying to infer the `batch_size` from an ambiguous collection. The batch size we found is 695. To avoid any miscalculations, use `self.log(..., batch_size=batch_size)`.\n",
            "  warning_cache.warn(\n",
            "/usr/local/lib/python3.9/dist-packages/lightning/pytorch/loops/fit_loop.py:280: PossibleUserWarning: The number of training batches (1) is smaller than the logging interval Trainer(log_every_n_steps=50). Set a lower value for log_every_n_steps if you want to see logs for the training epoch.\n",
            "  rank_zero_warn(\n",
            "INFO: `Trainer.fit` stopped: `max_epochs=10` reached.\n",
            "INFO:lightning.pytorch.utilities.rank_zero:`Trainer.fit` stopped: `max_epochs=10` reached.\n",
            "/usr/local/lib/python3.9/dist-packages/lightning/pytorch/trainer/connectors/data_connector.py:478: PossibleUserWarning: Your `test_dataloader`'s sampler has shuffling enabled, it is strongly recommended that you turn shuffling off for val/test dataloaders.\n",
            "  rank_zero_warn(\n"
          ]
        }
      ]
    },
    {
      "cell_type": "code",
      "source": [
        "print(f\"Train performance: {100.0*result['train']:4.2f}%\")\n",
        "print(f\"Test performance:  {100.0*result['test']:4.2f}%\")"
      ],
      "metadata": {
        "colab": {
          "base_uri": "https://localhost:8080/"
        },
        "id": "CDP7Iz5xzIfO",
        "outputId": "d287a643-0711-460d-88cb-64dbd592c46a"
      },
      "execution_count": 23,
      "outputs": [
        {
          "output_type": "stream",
          "name": "stdout",
          "text": [
            "Train performance: 100.00%\n",
            "Test performance:  100.00%\n"
          ]
        }
      ]
    },
    {
      "cell_type": "code",
      "source": [
        "model, result = train_graph_classifier(model_name=\"GAT\",\n",
        "                                       c_hidden=256,\n",
        "                                       layer_name=\"GAT\",\n",
        "                                       num_layers=3,\n",
        "                                       dp_rate_linear=0.5,\n",
        "                                       dp_rate=0.0)"
      ],
      "metadata": {
        "id": "xl8aBQKkzIjC",
        "colab": {
          "base_uri": "https://localhost:8080/"
        },
        "outputId": "adffc700-3080-455b-f20e-5c12fb1aa771"
      },
      "execution_count": 24,
      "outputs": [
        {
          "output_type": "stream",
          "name": "stderr",
          "text": [
            "INFO: Global seed set to 42\n",
            "INFO:lightning.fabric.utilities.seed:Global seed set to 42\n",
            "INFO: GPU available: False, used: False\n",
            "INFO:lightning.pytorch.utilities.rank_zero:GPU available: False, used: False\n",
            "INFO: TPU available: False, using: 0 TPU cores\n",
            "INFO:lightning.pytorch.utilities.rank_zero:TPU available: False, using: 0 TPU cores\n",
            "INFO: IPU available: False, using: 0 IPUs\n",
            "INFO:lightning.pytorch.utilities.rank_zero:IPU available: False, using: 0 IPUs\n",
            "INFO: HPU available: False, using: 0 HPUs\n",
            "INFO:lightning.pytorch.utilities.rank_zero:HPU available: False, using: 0 HPUs\n",
            "INFO: Global seed set to 42\n",
            "INFO:lightning.fabric.utilities.seed:Global seed set to 42\n",
            "INFO: \n",
            "  | Name        | Type              | Params\n",
            "--------------------------------------------------\n",
            "0 | model       | GraphGNNModel     | 134 K \n",
            "1 | loss_module | BCEWithLogitsLoss | 0     \n",
            "--------------------------------------------------\n",
            "134 K     Trainable params\n",
            "0         Non-trainable params\n",
            "134 K     Total params\n",
            "0.539     Total estimated model params size (MB)\n",
            "INFO:lightning.pytorch.callbacks.model_summary:\n",
            "  | Name        | Type              | Params\n",
            "--------------------------------------------------\n",
            "0 | model       | GraphGNNModel     | 134 K \n",
            "1 | loss_module | BCEWithLogitsLoss | 0     \n",
            "--------------------------------------------------\n",
            "134 K     Trainable params\n",
            "0         Non-trainable params\n",
            "134 K     Total params\n",
            "0.539     Total estimated model params size (MB)\n",
            "INFO: `Trainer.fit` stopped: `max_epochs=10` reached.\n",
            "INFO:lightning.pytorch.utilities.rank_zero:`Trainer.fit` stopped: `max_epochs=10` reached.\n"
          ]
        }
      ]
    },
    {
      "cell_type": "code",
      "source": [
        "print(f\"Train performance: {100.0*result['train']:4.2f}%\")\n",
        "print(f\"Test performance:  {100.0*result['test']:4.2f}%\")"
      ],
      "metadata": {
        "id": "zAd-1jAgzIlK",
        "colab": {
          "base_uri": "https://localhost:8080/"
        },
        "outputId": "1119ca61-492d-414c-b193-44522e844a4d"
      },
      "execution_count": 25,
      "outputs": [
        {
          "output_type": "stream",
          "name": "stdout",
          "text": [
            "Train performance: 100.00%\n",
            "Test performance:  100.00%\n"
          ]
        }
      ]
    },
    {
      "cell_type": "markdown",
      "source": [
        "### Discussion: the performance was excelent, but the number of graphs was small due to memory restrictions in this free colab. Nevertheless, I will use the first graph attentional operator in the Quantum GNN to develop a **Quantum Attention Mechanism**."
      ],
      "metadata": {
        "id": "2jPiPzQiWzyf"
      }
    },
    {
      "cell_type": "markdown",
      "metadata": {
        "id": "a2f28w2Zh0Qi"
      },
      "source": [
        "**Task III - comments about Quantum Computing & Quantum Machine Learning**"
      ]
    },
    {
      "cell_type": "markdown",
      "metadata": {
        "id": "4-J2JHB7h5EO"
      },
      "source": [
        "Recently, what was before called science fiction (**AI**, and now **Quantum Computing** too), has now opened doors for a new reality: a world where what first started with Rosenblatt's first *Perceptron* and did not have much attention for quite a long time, even from researchers in the field, during the famous AI winter, has now evolved to amazing levels that we have all seen, for example, the Large Language Models, like GPT-4. Even 11 years ago, going back to 2012, the Higgs Boson discovery was only possible through the help of Machine Learning models that helped selecting the true signals generated inside the Large Hadron Collider (LHC). However, when Statistical Learning & Machine Learning Theory first started, it was long before we could see these amazing advancements in the field, reaching the levels we have today. And now, it is extremely exciting that we are witnessing the same with Quantum Computing & Quantum Machine Learning. Although it might take some time to see big applications like the aforementioned, there is one key concept that we should bare in mind: everything starts with a heavy theoretical foundation of basic principles, and this is exactly what the scientists are doing right now; error detection and mitigation, decoherence, these are all fundamental topics that have to be improved before we can see models working with a large number of qubits.\n",
        "\n",
        "The idea of leveraging how nature works at very small scales to perform complex computations, as once proposed by Richard Feynman - although only a vague discussion at that time - is just outstanding. One example in quantum ML is that we can now encode classical information in a Hilbert space by using the so-called quantum bits (qubits). Along with these novelties, however, questions arise; one is on whether we can achieve a better topological separation in this space, one that allows for better classification of the quantum ML models compared to classical ones. Other speculated advantages are related to speedups; for example, in Quantum Kernel Estimation, one active area of research is on whether we can find kernels that are intractable classically, but easily incorporated in a quantum computer: the DLOG kernel, although it does not have much practical use, is one very famous example. More generally, the big question is this: what types of problems/data will really exhibit better performance on quantum hardware?\n",
        "\n",
        "In my Machine Learning journey so far, I have worked a lot with Natural Language Processing (NLP) in the industry, and with Quantum Computing in the academia, with a focus on equivariant models - very similar to the task proposed here: I'm working on an Equivariant QCNN. My favorite framework is Pennylane for its intuitive use. So, given my background, I could work on Equivariant PQCs, or Quantum Transformer models for HEP. One theme that I have also worked with, is classical multimodal contrastive learning in the industry - I used OpenAI CLIP's model for similar question recommendation in Education; so, this could be another possible topic. These are my main preferences, but I'm open to any project!"
      ]
    },
    {
      "cell_type": "markdown",
      "metadata": {
        "id": "Gem0QDlKY3Kf"
      },
      "source": [
        "**Task IV - Quantum GANS for HEP**"
      ]
    },
    {
      "cell_type": "markdown",
      "source": [
        "## In a separate notebook attached in the e-mail!"
      ],
      "metadata": {
        "id": "utyJBQf9XLNB"
      }
    },
    {
      "cell_type": "markdown",
      "metadata": {
        "id": "6pbw_30VY3Zg"
      },
      "source": [
        "# **Task V: Quantum Graph Neural Network (QGNN)**"
      ]
    },
    {
      "cell_type": "markdown",
      "source": [
        "# My proposed approach :\n",
        "\n",
        "\n",
        "*   Modify the Graph Attention operation to encapsulate it with a PQC. After  a linear projection to the number of qubits, the pair of hidden representation of each node in the pair will be encoded in a PQC. Afterwards, this is input to a single neuron, that outputs a softargmax probability. The downside is that is demands a very high time complexity as the number of heads grow, since self-attention is unstable with a small number of heads."
      ],
      "metadata": {
        "id": "H8YJtAO8la0a"
      }
    },
    {
      "cell_type": "markdown",
      "source": [
        "# First idea: a **Quantum Attention Mechanism**"
      ],
      "metadata": {
        "id": "aZJBmoKuprdL"
      }
    },
    {
      "cell_type": "markdown",
      "source": [
        "![image.png](data:image/png;base64,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)"
      ],
      "metadata": {
        "id": "6FCoOGnK68UP"
      }
    },
    {
      "cell_type": "markdown",
      "source": [
        "![image.png](data:image/png;base64,iVBORw0KGgoAAAANSUhEUgAABVQAAAHzCAYAAADPUpZhAAAgAElEQVR4nOzdZ1gUVxcH8P/M7tJERcVCsaKARhMVe6HbS+wpxt5iN2o0xhZ7iyWWiC32ntiDvipVEXsXGwoqCFiRJgu7e94Pu7IL7MKiWIjn9zx+SJjdvTNz58y9Z+7cKxARgTHGGGOMMcYYY4wxxliuxI9dAMYYY4wxxhhjjDHGGCsoOKHKGGOMMcYYY4wxxhhjRuKEKmOMMcYYY4wxxhhjjBmJE6qMMcYYY4wxxhhjjDFmJE6oMsYYY4wxxhhjjDHGmJE4ocoYY4wxxhhjjDHGGGNG4oQqY4wxxhhjjDHGGGOMGYkTqowxxhhjjDHGGGOMMWYkTqgyxhhjjDHGGGOMMcaYkTihyhhjjDHGGGOMMcYYY0bihCpjjDHGGGOMMcYYY4wZiROqjDHGGGOMMcYYY4wxZiROqDLGGGOMMcYYY4wxxpiROKHKGGOMMcYYY4wxxhhjRuKEKmOMMcYYY4wxxhhjjBmJE6qMMcYYY4wxxhhjjDFmJE6oMsYYY4wxxhhjjDHGmJE4ocoYY4wxxhhjjDHGGGNG4oQqY4wxxhhjjDHGGGOMGYkTqowxxhhjjDHGGGOMMWYkTqgyxhhjjDHGGGOMMcaYkTihyhhjjDHGGGOMMcYYY0bihCpjjDHGGGOMMcYYY4wZiROqjDHGGGOMMcYYY4wxZiROqDLGGGOMMcYYY4wxxpiROKHKGGOMMcYYY4wxxhhjRuKEKmOMMcYYY4wxxhhjjBlJ+rELwBhjjDHG3j95/CPcu3ULYTeu4uqli7hq3gV/LeiI4h+7YIwxVhDJ4/Ho3i3cCruBq1cv4eJVc3T5awE6clBljLHPAidUGWOMMcb+41RP/OEzdydCzx7GvlOPICcZakz8CUU+dsEY+09R4Ob2yViwKxinLjxAopIAAELhr+Fz+U+0NTPmO+S4PK8dOi27ATkBgABZcUc0aDUQ0+d8C0fJeyw+M57qCfx95mJn6Fkc3ncKj+QEWY2J+ImDKmPvGcdZ9ukQiIg+diEYY4wxxtj7p7wzF02qT8BpVTn8eOQOVnqbfuwiMfYflIbr0xuj9tTzSAcAEw/8EX4cI8rmPtta6vlpcHOfhrPJ6i6axP57bD27Gd/Y8ExtnyTlHcxtUh0TTqtQ7scjuLPSGxxVGfsQOM6yj49rDGOMMcbYZyLl8mXcVgJi0UbwqM/dfsbel5TXr5ExakUVg6gohREfOos5g+fjXPKbT0rh8M1QdORO/qcr5TIuq4MqGnnU52QqYx8Qx1n2sXGtYYwxxhj7LMhxyi8ECSoBZvXc4VroY5eHsU9D4u3D8JncH23qV0NFm2KwtCwGm4pVUb91P0xeeRi3EvP4hYpb8D16F5bFrdSdLWUsoqJVuXwoGaGzB2PR46qoXVbzvqnEHs3auMAk77vEPhD5KT+EJKggmNWDOwdVxgxIxO3DPpjcvw3qV6sIm2KWsCxmg4pV66N1v8lYefgW8hpmOc6yTwEnVBljjDHGPgdplxFwMhZKSPGlqztKciuQfe4Sr2DDUDdU/aoNRiz3R2whJ7h2HYaJU8djUDc3lEsJwcqRbVCzalMMWX/Z6A6/8uEx+N20xded6sJEAEApiIl+gpy6+kkhMzFkyVO0G9sc5k/UW4olXOFdj8c8frrScDngJGKVgPRLV7hzUGUsm8QrGzDUrSq+ajMCy/1jUcjJFV2HTcTU8YPQza0cUkJWYmSbmqjadAjWXzY+rcpxln0KeFEqxhhjjLHPgPJRME6GKwGpM5p6VASvucA+Z6rogxjTsSeWhZVCh8n7MWtEOzgVzr5d0u1DWDrpZ8wZ4IGzlzdg76KvUTbHi0eFJ8eO4XIRVwxvbYLj64FopQoxUVFQoJz+UVCJwZg2eCmed9yAXwttQIM0AiCgcGNvHkn+KVM+QvDJcCghhXNTD1TkoMqYDhWiD45Bx57LEFaqAybvn4UR7ZyQPcwm4fahpZj08xwM8DiLyxv2YtHXZXNpo3CcZZ8GfozGGGOMMfafp8LzwCBcSSdISjeCe00TACqkpaYiJSUl07/UNOXHLixj71fSGczs1gNLzyXA2mss5v6sP5kKAJZObTFu7lh4l0rEheW98M3M00jK8ctfwf/oGUgaeMKtclmUUb+LirioaOif3e8VAqYOxopXnbF4QTOEBZzGawIgmKGOpzus3mlH2fukeh6IoCvpIElpNHKvCRMAqrRUpGaJqSmpaeCoyj43SWdmoluPpTiXYA2vsXPxs95kKgBYwqntOMwd641SiRewvNc3mHk65yjLcZZ9KjihyhhjnwUFEh9dRdC+9Vg0eQh6TvgHsblNM8Q+X/HXceb6q49dCpavUnAy8CxSSEDhBp5oZAZA+Qj+q2djXKcaKG5ZCIUsS8K5WU+M3XDxYxf27fzn620aXkZcgv/fazD/l4HoMfM4kvP9N1SIPX8CYXmezA4A4nFq3VRMnjwVfxx+aPSn5E+uw/+fTVi9bAmWrd2BQ0HXEZdmxAeVD3F4yVRMnroGJ1/k5YYmx9k5gzD7UgX0HtcZlv8bjlZ9t+Cegd9U3N+Gvq2Gwde0Pcb1rYyrcwZi1ulUw1+fHIxjIWmo7ekBa3t7lJEIAAgpMdF4qqeY8ccnY4hPMrotXoCOVmfgd/IVVAAE6Zfw9LbNtbMWf2odpk6ejKl/HH6rv7O3l3IyEGdTCELhBvBUB1U88l+N2eM6oUZxSxQqZImSzs3Qc+wGXMyhynyy/vMxFUh7GYFL/n9jzfxfMLDHTBzP/6CanSoW50+E5X3OUABvF2fleHLdH/9sWo1lS5Zh7Y5DCLoeB+PC7GEsmToZU9ecRN7C7FnMGTQblyr0xrjOlvjf8Fbou+Wegd9U4P62vmg1zBem7cehb+WrmDNwFnIKsx86zubNu9xHWUHDr/wzxj4jr3DSZy723zNiBUhI4dx1MvrVs3jvpXp/EnHst+6YeeguIu5HIDpeDhUBgATlfuyEYh/rkZriCjZP24qrqZTzdoIAiYk5LC2tYF22Mqp9VQd1qtvgg5+RVyfhM3c/jKs2zug6uR+MqzZKPDi0CH8G5Tzfk5qIYo0GYnxHBz2vQCUhdM0s7LljqIBSOHWZjP71jSmUEo/952HIyN0o+ss/qF+9qBGfeVtKRPzZBd5zLyDd0CayLzDq4CGMrpbDi1/KO9gzdx1C4/UdRQlsvUdiZAubt2ssKyOw/3cfnHym57slFdB23GC4FX+7C0lxcxdmrz+HxBwvAxHWTQdjbPsK+l99y/FaElG0fl9M6uKk/k/5OQSEvIBKMIWLuxuKAICkPFqOmAi7JD9svmyLocvWYnpXJ+T85ltBqrcqxPktw+IjUTmPDpOURcufhsGrNPAkYAUW+T7MeXuxOBoPHIcODtq9Ur0Mhs/8g4jQuztSVGw3DkNcixmxL1ko72P72NFYfyESt6+GISohXRPHZag9ddh7WFE8GfePTkX37kUwaPUqjHMrbfy1o3qFM5vmYmawCo5jWmBkq3I5bp4UthvzJk3DioNheF2iKurUqozCyfdw8dxNJFg3QNdhUzBzTAuUNdRbkZRG0ehdmLcwAr6og9BptYxaVET1aDOmrwyDw9AALJtXF4+r90HLAf3REsCRv36Ag86XKO5vQ9+W/bAzvR1WHt6MvhUuQ3LWFStnbMaQgwNQVs/BkZ8+isD4aujnZQeJhS1sS4hAtBKqmChEK4DyuoV8+T9MHLoGqd9sw/wOpaE4cxzBseraJ3H0gHfl3N4hV+HVmU2YOzMYKscxmDayVR7/rkcBjalQ3MSu2etxLuegCtG6KQaPbY8K+oMqrmyehq1XU6E3qhatj74TusBJAgBynAsIwQuVAFMXd7ipgyrKtxyBiXZJ8Nt8GbZDl2Ht9K5wyjGoFqSYCqji/LBs8RFE5RxUUbblTximDqpYscgXD3MOqijeeCDGddDZL9VLBPvMx0H9QRXSiu0w7kfXt2jLKnF/+1iMXn8BkbevIiwqAenqoApZ7akY9iGm0ky+j6NTu6N7kUFYvWoc3ErnYSfyFGeTELZ7HiZNW4GDYa9Romod1KpcGMn3LuLczQRYN+iKYVNmYkyLsgaTQpLSRRG9ax4WRvgCdUIxrZZRURaPNk/HyjAHDA1Yhnl1H6N6n5YY0L8lgCP46wcHnVitTqa27LcT6e1W4vDmvqhwWYKzrisxY/MQHBxQVm+s+VBxNtV3OOoO3o9XhsKKWAJd1pzGoma6Fecd7qOs4CHGGPtspNOTmyfp8K5VNHOgG9nJBAKg808gaYma1O2XZbTjyCm6/Vz5sQv8zhTyZEp4cp9Ob+hFjm/2VyxO3+xM+HiFUr6guycP0bZlv1JH50IkZDoHIEFWjBxcXMnDoynVq16erEwE9TaClIpWako9Zu6nW4kfsLzpT+jmycO0a9VMGuhmRzIhc3khSKlEzW70y7IddOTUbcpLtUmOvkLBvrtp7dxh5FlWpudY2FKj3lPoz51H6WykoZ1W0LNbIXR4+x800sOWpG/KJ0jI6qtuNNFnP12OU+ReGGUM+f3WjMraNKGJx2Pp/dd+Bd2e04Bkb/bVvDr18TlMp6/coBs3NP/C7tOT1Ny+J5EeXg6ig5sX0qgWFcks0/mRULkfj1GuX2GofMubU3Ex8zkRC1eljuOX0vajVyhG/lZfrJZwj04dWEMTWpXLVqcEswrkNXgmrd59jM4/TDL8HcoXdPfEAdowpx81KCnR1h/RmhoOWkIHbrzM2DT90hSqKQNB5kLTr6e/+b90f0dfqtdoMO28a/xRKkj1NvXxFfLbvZxGe2W9dgWS2bnRoFlr6R+/K/RYs/vyuFt0Nvhf2jS9EzmaCVn2y548Ry6hHUfPUbbdksfRjeB/aeviEeRuoz0Xgmk5ajZmDZ14+C6VhYgomW4sa0XWb+qj1IFGBL3rdxrymm5t6kVViztQ55VXKIcamJkykha5mhAgJccxITlsqKDIf4aRi5VIEArRVwO20g2dW1LCtY3U5wtzEgQZ2becTcHPDEcjxf1l5FVYILFUF9oSY0zUUtD9xe5kbuFJSyPfbC+nu5u+JwdTU6rcfTOFaw5r+r2t1KOKGZlU6Errbr65PpQUtbIFWRZqRiui9P2enE6Pq0qmTmMoRE5E6ddomotMXResvqFdyTqbKp/RvwOrkFmFPrQvTklECroxo44mJkqo/ODjRsQuJUUuciUTgKSOY97i7/oU0JhKCXTv1AFaM6EVlcvavhPMqILXYJq5ejcdO/8whzqtpBd3T9CBDXOoX4OSJMnYd5GsGw6iJQdu0Ms3pz39Ek2pKSNARi7Tr1NGVL2/g/rWa0SDd941+jgVpJhKqY/pit9uWj7aK1s7WpDZkdugWbT2Hz+6og2qdOtsMP27aTp1cjTLvG+CjOw9R9KSHUfpXPagSnE3gunfrYtphLuN9lwIplSu2Rhac+IhvXNUvbGMWlmLmvJIyWFE0Dt/p9Fe36JNvapScYfOtPKK0VHW+DiriKR/hrmQlQgSCn1FA7beIG2YTaBrG/vQF+YCCTJ7ajk7mAyHWQXdX+ZFhQWRSnXZQsaF2fu02N2cLDyXkjbM3qVN3zuQqWll6r45XHOc0+ne1h5UxcyEKnRdR9owG0UrW1hSoWYrSG+Y/ZBxNiGKboVp26VXQv+lP/vVpMJv6qNYknrue63ng295H2UFDidUGWOfqee0vr1lpoadWMyNZp35kJm6D0cZt4pamqsbvoJFC/IxqkX0/qUGjyJHqU7jWixO7dZEkm6TP/3JRdr6swfZZDTcRSpSawjtfWBExyC/PV9P7S11OxAiFXObRe9ebZQUudiNTHQ7GqI1tVh+K6OTZpQXf1P30qI6WfTFKAp4mftHiIhIHk7bejtTIWsPmhUa/xblfxuZE6om3iuMa6jnJOlv6l5C1Dk/Apm330Bvs0fpN/8gr2Jips4ixKLk+cdtytea93IP9bSR6PyOlKqMCspjwiKdrkytrT6WghlVH36YnmQ6lkqKWORGpgJIWuUnOiEnIkqgi8u/JbfOi+mMsfUkmwJUb59soo5WOudTLEnd/8npwVI87ehWnESda936u91G1CU5nR5fjaQAQWJDHdaF51t9kYeMISdNvBRL96J977WHpqDo/YOpRhFbavXHZUrO/QNGd/TjA8dTbUuBAJFKtVtN4Xoqi/zmUmpWTCRApNJtVtItgxUqng70tSeJIKMaE04bcd0k0NZORcik0Ty6m+nEZE6q3rylL5mq2c2IReRqWpg6btZTGxTXaXodU7Lr70vqLvZL+qutJolk4kqLMrILSnpyoB85mFakvvueqJNWyoe01FOzrViSfthjzI3lfSRUdRTEmEovaU9PG5Lo/I60yigKymMWOP3KVKotU++zWfXhdDhzUCVlxCJyMxUI0ir0kzqoUsLF5fStW2da/NZBtQDFVHpCmzpaZYqRJbv/QzlG1R3dMiXURevvaLcRlUl+ejxVk6oTYDYd1lF4/gVVGuMk1Rzn0tTr/QbV7BTRtH9wDSpi24r+uGxUlDUyzsZT4PjaZCmAIJaidqvD9dQfOd1c2oyKiep9b7MyhzoWf4D62ktIkNWgCaeNuJAStlKnIibUaN7dzNd2pqTqTbqlL5mq3kmKWORKpoU7kr4w++HjbBZJB6iPjZhLQpXore6jrMDh0ceMsc+UDFKJ7vsbUlTpOwtj6ll+tBK9T+kXz+Namnp/pTXc4Fby0wj/gkQCQee/xSKe+K5L+UyvsklL1sL38w9gz7jaMBMAQIWESz7o2+9P3P7QqzzIpMhcbaqg76wxePdqQ1Ckpeu8YihAVms4FgxyytvcPBZFYGkiAGJRtBozHq7GzLKvisbfP7ZCn20q/LBxJ35p8D5f8zdEgLRwURR5x2qpeh6Nx0m6J4igiInC47zWE0UYlg6ZioCXmV/AFK2ao38Px1xWns0jK2+0dSuq8zqYgJI2tnmckykB129EQgkBMufBWD67JTJf4i8RFHQJaSSiRGN31FKFY9fwr/HT9U5Yv20U6r31agwFqN6WcIdbTZ1Sidaws83p3U5L1Kv3hc65lsDWoWIu0yEAACH+ZQIIIqyaTcGiXvpezX0bKry8EaZ5zVaAZUNPNHmvqxJLYNt+KfYsrINL4zpiwPbI/FlUJzEAU39chEtJBMGsNobO6AMHPZXFxHkgpg+sBpmgQpzvz+g5+4KBufeKotWIfqgpU+DGqjnYFp3LS9PKKERGpcKyYmXYZzoxJqjcYz2OrOkM+rsvatfqrX3N3zlzPRHLVIGDlRyPIqKyfb3q0VH4XbdAY+9GMAMAmMPWtoT6+lbFIipK/fqy6skBjB+xBaoflmBuu5Lqv78MgP95OQiAYNkI3q4fvz1SIGMqrODd1g1FdWKgUNIGtnmc6C7h+g1EKgFB5ozBy2ejZZZ208ugIFxKI4glGsO9lgrhu4bj65+uo9P6bRj11kG1AMVUlIC7W02dcomwtrPNcRoSy3r18IXOyZbYOqCiEXGM4l8igQDRqhmmLOoFh3yqMKqXNxCmmbtAsGwIz/cbVLOT2KL90j1YWOcSxnUcgO2R+dOoTQyYih8XXUISCTCrPRQz+jjoqT8mcB44HQOrySCo4uD7c0/MvmBgVtWirTCiX03IFDewas425B5mIxGVaomKle0zX9smldFj/RGs6Uz4u29t1Oqtfc0/c5gVUaaKA6zkjxChZ26Jjx5nTcuibGljKuF7uo+yT8qn0aNmjLEPLS0M12/LtY1WWTV07V7/PcxH9ylQ4ErQKcQpAUAKh6buqJS/vZe3pMKLq9d05tUSYN6wOTyK6NvWEg1GDkOLwkLGZ18GLsfq08ZMqZ9/0sKu47Zc29WRVeuK7vXzo9ak4sq1O9qGlmCCut2+RbU8dgCVDy7gSqwSolVzfNehjBE3+RScm90N/Tc+guOINVjQumQBbhioEHfkMM6lAaKgTdOr4tTzaRkvDdcWD8b0oBSUsS+l0xkQUNitHVq8xTSYObNAnTq6iTsVYh4+MrBKrX6qBzux8ehLkLQ8es6bhKZZ+wfJIQg4nQQSCqGOUwKmNWuE7pss8MOUzqhozHRoBhWgeiuWQjWn0pnm53uqbx7HDBLYOFTQSfITUhJTcp/jMPU0fP1joTKpjiHT+qBivsXaFJwMPKdZldgELu5uyPeqmI0Ulfv8gZnNk7BzcHfMPvuuq7UocWvVVKy9nQ6CAPMmfdCnhqHKYoq6fXugrkwAKAnnl87AVgO9eGmNQRjWqhjw0hfzF59CSk5FIAXSFYCJqb64bYIKjVvBpTQh9bUKJWu1QONKerYTTGFiAigUWa9SFZ4eO44LkvrwcnuzlrUE9vaaOq2MQ1S0AlDFYu/Ykdgm/oA/5rXNePiRfOI4TiURAAGmdbzg+f5PcC4KakwFLOrUyZS4U8U8xKO8BVXs3HgUL0mK8j3nYVL2oIqQgNNIIgGF6jghYVozNOq+CRY/TEHndwqqBSimQkSpak7Q5pVUePn0WY4xUmLjgAo6T04pJREpuQdVnPb1R6zKBNWHTEOf/AuqSDkZiHPqoAoTF3e4fYxrTloZff6YieZJOzG4+2y8e5i9hVVT1+J2OgGCOZr06QPDYbYu+vaoC3WYPY+lM7YaSJZKUWPQMKjD7HwsPpVjlAUp0qGACfSH2Qpo3MoFpSkVr1UlUatFY+gPsyYwgQIKBWX5y6cQZwVkGg2So/y+j7JPTcHtNzHG2DtQPT6F0+Ha54TScu7w/uI/uk6fMhx+AZoGuqQUGnsYt3DH+5eC0JBLyMhPCiZw8faGwcGzxVxQq7LOOVJE4Gxo9hFC748Kj0+dhrbaSFHO3Rv5Um3SziPw1EttR0RaHS1aV8rzqJ34U6G4oRBRxKM9mhvRSHx5fAJ6zwxFku23mPGrKwrn/pFP2Cv4/+80Ukxc0MjFJKOtq3r6GNF5WF1ZfnURBs88CXn1fvjmyzTtORHMUNfbE289mNMgCWy/rIYyOp3SmHvhSDD686k4tWwpAhIFlO4wE9PbFM/WuEu7GICQ5yoAaQj+czb233oORaIf1m+6826jJQpUvZXCoXJ57bGhl3j8OOcleKUVK6Jsxs4o8Sw2NpdEtwpx/yzH9vsqlOo4ASPr5OMjOnkojp3QHGtpdbh52n2YRrykAnrPG4168lDM6PEzDudpmecsUk/gT59QJBMAwRT127aBXQ47IXFoi1ZfqQOs6oUvfl92Tv8oVdEG3UZ1RyVJOu6sm4VND3Ioo1gKpUoIiI+JQdZureL+dvRrNQD7pZ0wa05XmPkORZvem3An64++fozYFwJKlCqV5Q8JCDgWivSvPOCZcSOTws7eBlIBAL1GbFQsov8eg1G7ZOjxxzy0KfFmOznOHj+J5+oTjBqe3rD96L20ghpTAYntl6hWRucxVcw9hBsfVJF6ahmWBiRCKN0BM6e3QbZ1stIuIiDkOVQA0oL/xOz9t/BckQi/9Ztw512CaoGKqYDUoTLK6zx0evn4cc4r10sroqI2qEL5LBaxuSS6VXH/YPn2+1CV6ogJI+vk48AHOUKPncBLzTVX3c0zx3j0Pkkq9Ma80fUgD52BHj8fxruF2T/hE5qsHoFpWh9t2+R0r5DAoW0rqMOsCi98f8eyc/oHKog23TCqeyVI0u9g3axNyDnMlkIJIR4xMdmiLO5v74dWA/ZD2mkW5nQ1g+/QNui96U622P76cSxeCCVQqlTW0hfAOJuf91H2yfnot2rGGPvwVHjm548L6W8yeSKsXb1R99PIMuY71ePj8LuqUDeuCjeAe0Ozj10kNflZHD/5IlPHwat5WcMdB8EcZlla0okJr95f+bJSPYOf/wVoq401XL3r5ktyWnHDD8GPdBL8lb3Q3DGvmdoUhAafQzIKoUnrZrl3UhMDMG34StxMM0W9oePQ9qOPhnpHycE4FpIASfVW+OYr64wGDiliEBVtZA9XfgkLfpyF0LQvMWqxB+IvJWSMYhekX8HLy5iRPnkn+6I6qkjepCsIisi7CDdy8LXy3lpMW3sHyqLemDT3Wz2dAwXuBJzAAwUgKdcRKwPPYn1vR0gpFWc3/IWz7zDIu2DVWwnKVCwHy4yKoUJc9OMcE6SqtHSdvxNSnsTiZU79oLSLWP77ATwzqYNhv3ZBtn7gO1BcC8QpzarE0gpN4en04R4ASpz64MdWxaC8uxbDx/tqOqN5l3x8M/ZEao6opBLqNchlpXiJAxrWsVXfEygdd/bugoG+PiyaDsOPjSxAr45j0cKgbMnSDGIx1KpVCcoLJ3BCZyNFxHb0b9UXOxRfw8d3Myb8shFHVncC9gxE696bMl2PKSEncC69CurXL5n5u1NO4OjJZDh6eGVaQd7c1hbq/rwKjy+uwIjRf8Os11LMa11Cu/+Ka/ALjlI/4JBWgad3fk0V8Q4KcEyF7AtUr6KdUogUkbhrfFDF2mlrcUdZFN6T5uJbPRkXxZ0AnFAHVXRcGYiz63vDUUpIPbsBf71DUC1YMRWQlKmIctqgClVcNB7nHFSRrvN3SnmC2JyDKi4u/x0HnpmgzrBf0SV/gyoCT8VqrrkKaOqZx2kV8pUETn1+RKtiStxdOxzjfZ/n/jaEXsk4vnkPtGG2HhrY5HzMJA4NUcdWHW0o/Q727jLw4AoWaDrsRzSyILw6vggLgwyPtBSL1UKtSkpcOHFCJxYrELG9P1r13QHF1z7w3TwBv2w8AnWYbY3em8J1fjcFISfOIb1KfdTPOsqigMbZ/LqPsk8PJ1QZY5+hZAQdD0VKRqu+CBp7NYHFRy3T+5NwMggXUjWvt9R2h9vHmCJTD8WVYwiK0u04eObccVDGIu65zqs/ggSlbGzeYwmzSA7C8dAUbWewSGN4NcmPWqPEA78A3MzoZEhg79ECtfKaqU27jMCQpyCzemjRzDqXG7wCV5eMx6rb6YB5I3z3ndPH77y/I/npowh8JqKSezM0Ka/TSVfFIirHHt4bqcx1/zoAACAASURBVDg/90fMPaPEVz+twDhJCE481bZ4pc6e8M6viduyEEs4w7GM9owpo8Jx77URH1Q9x8EZ8xGQYI76437HAH3lU8UgIOgGFJCgTLNe6FzJEvV6/4DapgIUd7dh9ZG3fShR8OqtSbnysNUZcRoXHWU4oap6in2L1yMsXfu/6GkMHhvsBKkQs3M2fK4qYfftrxj6ZX52zZV4GBiM2woAEGHd2BMuH/IBoFganXq1QykhHfc3/oJ5oTm/7qmfHKd9/aDJCUOwqIovq+W2EzJU/8oZMk1WTHH/EPYYyqhKHNFneEeUERQI3zgLf90zlPAzQe0ObeDw8hA27o6BCoAiYgf6t+yL7elfY5XvJvR2MgFggso9N8BXk1Rt2WezOqmqisPe9Qfw1KE12mU5x/Iz/0PgMzu4elXPlJiR2ttDfXkrcX/7Ehy06IOlc1pmGvWovO+PAPUJhsTWFd41P/4T3oIcUyGWgLOjTpmVUQg3Lqji+cEZmB+QAPP64/D7AH0JFxViAoJwQwFIyjRDr86VYFmvN36obQpBcRfbVh/B20XVghdTYVIO5W11RpzGRSPKcFDF032LsT5zUEWM4aAKVcxOzPa5CqXdt/h16Jf5mvBUPgxEsOaaE60bw/ODBtXsxNKd0KtdKQjp97Hxl3l4uzB7Gr5+miQxBFhU/RK5h9nq+MpZpnn4oMD9Q3sMPriSOPbB8I5lICjCsXHWXzAcZmujQxsHvDy0EbtjVAAUiNjRHy37bkf616vgu6k31GG2Mnpu8NUkVVuiz2Z1UlUVtxfrDzyFQ+t2yHorLbBxNl/uo+xTxAlVxtjnJzUEx07GZzz9FczrwdvjE8ky5rtUnA4IRSIBgBRfuLojl4fVH4gS4X4BOq/GSWDr3jzHjoPy/gmcitC23gRZLXh6lDT8gXyWGnIMJ+Mzag3M63kjX6qN6in8/C7pjHwtCbcWeZ/PVxkegOAIJWS1mqN5bu8wPd+LeX9eQCoJMGvYER3KfhKV4h2k4fLRAESjNJp6uaC8vQ0yBnyqniE6Kvf3U1POzMaP889D9dVPWDGxHh74B+GBbsfWzdvwPGTvSuaEqjqJBZJH4G5k7gmLlNB5mLQtCtIaw7FwZA39o6VfBSHwohwkFkZDzwYwAyCt2geDmheFqHyMvSt34OGbaq2KR3T0K+NGxhTAeiuWKwvbjHnPCC8exxicb1Nx3QcL9sRlOhbKp7GIM3Ra5OewdP4hPLdojFG/tM3f+U1VzxEQeFl9rIXCaOjZ+IM/ALR0bw23YiIoPQyrfvsLEW+xKFHQqccZU0xI7BzgkGtlEWFVuRJKvznNigicOfXI4NbF249Eny9kQEIgFs8/ZvDVY5P6wzGmBeA7+zccurADA1r2wfb09vA5vFGTTM3YEo49N8B3VUfQPwPQqu9mXDg8HTMOKdBs1BDUy3TByXF63xFEWTWGZ93MOyaxKwsb9buoIEll9F86B60yvUOuwpMAf1xOJ/U+N/FCg48+oXsBj6mQwamqTjKU5Ii4G5n73NQpoZg3aRuipDUwfOFI1NAfVBEUeBFyElG4oScaqIMq+gxqjqKiEo/3rsQObVBFfHQ0XhkTVAtgTIVYDmW1QRX04jFiDAdV+CzYg7jMQRWxhoMqzi2dj0PPLdB41C/5/BaNCs8DAjXXnIDCDT3R+KOPqrCEe2s3FBMJ6WGr8NtfEXmekkcRFoRTGSvGSWDn4JB7/RGtULlSaWjD7BmcemTol4uj/cg+UIfZxZh/zGCURf3hY9ACvpj92yFc2DEALftsR3p7HxzeqEmmZmzqiJ4bfLGqI+GfAa3Qd/MFHJ4+A4cUzTBqSL0s7ZqCHWff+T7KPkkFvQfFGGN5lnbxOILfDJOBAFlNL3iWzv9wmBZ7Hrvmj0T39p6oX6MyKlapiSZfD4PP6Ty8ypPyAIGrJqBvJy/Uq1YJlarWRatBSxAUo0T88Rno2sIVdao7o9PKSAOFuILAkDjN6y3l0NjjzStNKbhxaA18fHz0/lvz703IlUmIvhaM/RuXYsbYgfi2dVPUcqqKDstvGmjkpeHm+j5o4FgFNVuPxq5sE8/pUMXCz+8qMuaaF0vArXmDHBp+8Ti6eC0uZHxAAttuY9DX0dixFGmIPb8L80d2R3vP+qhRuSKq1GyCr4f54LRR792k4eLxYGirjQw1vTyRL9UmMQh+Z15njHwVizRBc9e8rjSrQmxAAK4rpPjCu2Uui46p8GDHahyIUwGQwrFR43dLsr9rHc0Pyrs46h8OVZHG8G5kAQtbW1hr309FbFR0zh2T5FDMGvw7LlFNjPlzIhqaPYRfQJi28y1aw9W73vtbtE4sBacqOou1KB/g7t1cXhtVhGH5LysRBgf0nT8eDQ10BlNPBeJ0IkEwrQMPN82Kb6Itvhn5PSpICAl+i7AwWP1S3otjszB5R5Rx8akA1luxaFnYZ3SwCKq4KAOjqV5g/wIfXCnuDq/qsoz/S/GxiNWbLFAhettsrA4jVOwxCQOd8nnUXcpJBJ5N0cyJVxse7plf4lU8DobPmK5wreGAik510X7sdoTl97oXRT3gXd8MAgiJQT5YfT6PrzW/uoRL4dqDLZayQRkjkmmS0mW01zKUuH3tmuGNTVwwaKg3ighKRG6dg9W3DFz1Yjn0nD0RjZ+vQ5eGPbEtrR1W+m5CHyf9C1U59tqIw6s6QLW7Hxp2XI0nDX/FnN7lM3eikgKx40AkhOp1UTfrtWhuB1trERBkqDJgKWa1zJIZUsXB99Bp9YJjkOLLBo0+/hszBT2mQkQppyoopTMi/cHduwZeZX5DgbDlv2BlGODQdz7GGw6qCDydCBJMUcfDDUU0v2f7zUh8X0ECSvDDooXB6ledXxzDrMk7EGVMUC2AMRViUZS1187bTaq4jBXWs3qxfwF8rhSHu1d1ZERVikes/qAKVfQ2zF4dBqrYA5MG5vdbNCk4GXhW/aaaYIraHu6Zp0ZQPEawzxh0da0Bh4pOqNt+LLbne1DNrqiHN+qbCQAlIshnNfIeZi9BG2ZFlLIpY8SoXglKl9EZyay8jWvX5Aa3NnEZhKHeRSAoI7F1zmoYDrM9MXtiYzxf1wUNe25DWruV8N3UB/rDrCN6bTyMVR1U2N2vITqufoKGv85B7/JZKmRBj7Pveh9lnyZijLHPSjpdm+ZCMoAAECCjLyedp/R8/AXlk1Ba0a8h2ZiZU6U2E2nzibsUHRFMs7xKkAiQWKItrYlU5vIt8XRp7UBqZGdGZvbuNHjZYbr68AXFP75Mu3/1oMqNp9KifnYkAQhSZ/r5lFzvtyhuz6WGMoEAkFiqJ+1NevOXVIoMPUh/b1xAvWpakgAQIJCstAt1GTmTfI5doD2Tv6HvfviOOrg7UjGpoDleIEnZ/uSbqOfH0s/TpC9lmu0EsnRfZHj3nm+kDkW13ylYdaTNzw1tnECX/mhHdhllEKiwyxg69iS3Y0hEpKQnoSuoX0MbMjOvRG0mbqYTd6MpIngWeZUQCRCpRNs1lOvpSL9G01xkGeWF7EuadD5/as1r3/5kJ0HGvhVquYpijNm1TF7Q5o5FScihLmRQ3KOFrqbqcy6Wol77k9+y5O9aRxV0e04DzbUokEXHLfS2JVFGLCI3U+2xS78+nVxkb46phMoOOkqpBj+dSCfGf0VmogW5TD5NyUSkjF1DrQvp1M+iHWnzi7csnHF7QA8Wu5OJTlxqMOcWKXLY/uH6DlRSlJBd910Ua7C+yClkrBNJAZLVnUlhul+oiCCfVsVIhECmjt/QPJ/fqHO7iXQyydB3ZVYg6236FZpSS3sdS+z6k6+eipF+bRbVNzejutPP0s7vi5GYcd3XoenX9ZyV1ydpbFUZiVYt6M/7hs/a20oNGEYVNcda5jKdrmeEHjnd2z2c6hWXamK45p8gI6fRwTnU+beRTud+ra65XiVUaXhA9u9XRtIiVxMCpOQ4JiTzp89OoC9k2vpi2XkbGVXVnq2iFqbafZPVnZnz9omHaWB5CQESsu+znwxftkqK3juQqlpIqHiDUbT7dk71KZlu//0TNSwhIXPn/vRPVNaKnkyXZzelwoJAJq4LKSLrnxU3aEYdGckch9DRbAVS0pMjw+gLU028EUypuU9czvuY5fORi1zJBCCp45i3+LuBby3wMZVI+WAxuZvo1J0Gc+hWDpen8uF66lBSJIldd9plOKiSPGQsOUlBkNWlmZmDKkX4tKJiIkgwdaRv5vnQb53b0UQjg2qBjKmUTlem1NK2qSV21F9/UKVZ9c3JrO50Orvzeyomau91daZf13Ove00nx1YlmWhFLf68n8O98C2lBtCwihJNXHeh6dqgSvJ7u2l4veIkFXRiKgSSOY2m4PwNqtmln6Nfq2vuUZJKNDxAzw8ajLPpdHbCF9pzIVhS523G1b1nq1qQqU77o+7MsBy3Tzw8kMpLQJDYU5/9OVzIymjaO7AqWUiKU4NRuynnMHub/v6pIZWQmJNz/38oW5j9qHE2i/TL2raEWJJ67ntt7Adzv4+yAocTqoyxz4sygha7mWo7n4YaLG8lne7vGUOuNjISpGXIY8oxeqzTCoxf347MBRAEc2q3/qXhr4k/Tyu7V6PCokjFG46jf6OzNCWVEbTEoxRZFRG1SQG993Ilxa5uRYUETRKy3V/0JNsmD2hN22IkilZUq+8qOvtcX+tdThFbv6cKmsQsxBLUZeszPdslUvBEFyqiaSiLpfsY3MXEvT2olKhtqFo0X0nR2RpHLyjs8Eoa07qyZh9AgmhJjl0W0Sm95cwi/T7tGeNKNjKBpGU8aMqxxzqN8nha386cBIAE83aU0+kgIlJGLCY3U52kcqXhlD/VRk4hYxxJmtEANqEmC+7lvfOQtI96lRZJUmEI+eVSLmX0n9TMQrMvsvo0O6cepiH5UkfzK6GqpNjVrclSMKHG8++qj93Lv6ituTYBb95uPcUb+HRC0FiqYSqShcsUOq0pQMLOb6i4Tv00916hp3Gfv1IP63amRbLpe4gMNtFfHKL+FaUkWrejtZE5nD9FGM2qJyNASk5jQihr9zo9bAW1KiUhAQKZ2LWlpVeM7RQU0HpLL2hdG7OM+C+Ytaa12TpeL2hvLzuSlf6WdjxJpVM/O2v3U1KeBh/PWlAlPVjdhqxEGTmPOfHWDwUMS6dLU2pqrhMpOY4+qTmPyXR1RXuytyxPzcf60EG/fTSrta36AQZAstpT6Up+PikkosQd3chKE4ulVX6iE1krVA4J1dd7fqASorZ+l+y5z3D91pW8hTpa6MTeCkNz+UA6XZ9Vn8wEkGDegGZfz+kgKCkuYDq1sDcl0cyeGv8wnuav3klHz9ylmGexFHkjhPb5TKFeTezJXDQhu2a/kV+WRJsi/G+a0KkmlZC86ahbULlGXWjw78d0kmHxtL5TTRp2VPdGk05XNo6mHq1qUmkT7f4BAkmLOZPXN/1pzPpLRjzsfR8J1f9GTKXUw9TfTpJxbEWbvnTIcFClQ/0rklS0pnZrI3OIZQoKm1WPZABJncZQSPagSitalSKJABJM7Kjt0ivG1fMCG1OJXqxrQ2Zvko+CGbXOHlTpxd5eZCcrTd/ueEKpp34mZ6k2OV9+8PFsSSXlg9XUxkokmfMYOpH/QZXSL02hmpoHBFLH0XRScx6Tr66g9vaWVL75WPI56Ef7ZrUm2zf3ZVltmprfQTWbRNrRzUpzj5JSlZ9OZLtvG46zr2nPDyW0DwDzkOhL3tKRLATtOakw1C/nD6Rfp1n1zUiAQOYNZlPOYTaOAqa3IHtTkczsG9MP4+fT6p1H6czdGHoWG0k3QvaRz5Re1MTenEQTO2r2m1+2h8QfP85m3f+3TagacR9lBQ4nVBljnxVl3Fpqa6m9qYpletN+I0dk5SyRLi7vSOVNBIJYlBrNOJelY62gsJl11Z1ioTB12qpviCcRJZyhuZ4lSSIIZF5jJB3TmzhMJf+hFTUdZ5Gsumwj/fnARNr9naZxJZhQ09+zNs4T6ewcD7IuWp36bLie82ghZQxt6mStaagJVLT9XwZGxSXQlb96kLO5QLIaEw18WSr5DamQ0fEHBJJZO1J9j5bU7uv21Ka5JzVxcSQbS2nGyFlJITty6TCKlvs/MO5pbuJFWt6xPJkIILFoI5pxLkuLXBFGM+uqG0NC4U5k6HRodp7i1rYly4zGpkhleu83bnRVbtKv0/RMI19r0pTLeW+wp/oPo4oSkcr0PpBruZL39qCSmo6tUKgDbUrI44/lWx3Nr4TqS9rWtRiJuqOGU4/QQHttR1pWZwbd0NdXjPenn6qZkGhRh6acedMgfk2HB9hp66eQ22jR/KGMWEiuOqOpTNyX0AO919hrOv3rV2QqFiH3hWHvPLo+9UEoHdzvT2HGPKR4oyDWW/Uv0tFBZbXnVuZC065lLrcibC41tjChWpPPk5yU9HCJzshhwZI6bskSLJKDaJSjjMQSHWh9tqdC+UAZQYvePAQUbajvwWQiUtC9jV2pcsWWNDMgVlM3lRSzwjujrLKmv1N+D5aVh4xRj8wDCLJGNO9u1gcphhOqSZs6qB8oajrsdgMOGxfLk3fTt1Y69+ziP+T6EWXcFupiLRIgIdvuu+lZbqcl4Qbtntqdmla2IlmmUWkgQWZFDk2+pym7rhtMIH5c7yOh+t+IqaSMoIWuJtrzaeJOS/QHVXp9+lf6ylSkIu4LKezdgyqFHtxP/mHPyeiIUGBjKlHq0UFUNuNhoIxcpl3LfF9ShNHcxhZkUmsynZcTKR8u0Rk5LJBlxy2UOaomU9AoR5KJJajD+mjjj6HRlBSxyI1MhTcPLw9SMhEp7m2krpUrUsuZARSrqZzKmBXk/aassqb0+3t4AyEzOYWMccpIrMsazaOsYdZwnE2iTR3MdQaM2NGAw8Y9+U/e/W1Gkg8QqfgPe3L5hJLitnQhaxEEiS113/0s1/OUcGM3Te3elCpbyTK/UQGBZFYO1OT7KbTr+qcZZbN5h4RqrvdRVuDwHKqMsc9KctBxhKaQ5r8EFGnkhaZ5naIqGzmuL+uCliP34UG6CNuvF2PzhDqZ5+aRX8SWXZehACBYNoS3vtXh5dewtOvXmBjwFFTUDTO2zYN3cX1hmpCUrFltXjBFXc83c3hl/b6zCDilWXxL6gRX93LaOahUL3FqTkd0Xm2JCUeCsbbXF8jxMIhl0HlwV5SVqH8/IWg/jjzXt2FhfNlrPoY3NoV13Qb6v0txBceCojLmXxOktqhZtwLM5U8RcTEIR4754+SFO4hJUsK8zmCs+/ccHsRF4fzexRjqUS73Odfk17GsS0uM3PcA6aItvl68GRPqZD7e8otbsOuyAoAAy4be0Hc6tJIRdDwU2mpTBI28muZ8vIykivFH4A3tfGPS8m7wqprXVToUuHosEFFkBdeWuZVLgftXw/BmbS3R2ha2eVnkNL/raH5IOYFjJ19BsHeFV3XNsZPaw76MtlyquChEZ5vWLR7HJw/BipsyuPz8JybUM1P/77SL8AuO084PKHWGl7e+lZ7zl1jGGVVKaMusjLyL8PTs2ylv+2DC8msQa43CgqFV33nVY9NyDdC2vQeq6j2P+hW4eqstKcqWs8m8WnmU7gRw8Ti8cAXOWrTFT0NqwQQiStjZwOLNmiskx9PYpzpzRyoRuXEW1ocL+HLwRHyf2wIwb+NlEIIupYEACEUawrOxGeKDJ+P72ekYe3AvJrqX1tTNVJw9d00zR6UEZap9CVuDlVaOKyu+QW2nWui85ByMnRlQamurs0BUGC5fNjzPXlbpaWlQkfa/ZSZGzp4pmsBUprPojSL3OefEUp0xsmcVSAUlYv6ei+VXc/lM4Wro8tsWBN+NxaMbofA/9De2bduNQ36huPEoFuEntmJa1y/wX126Mpv/SEyFWAbOVUrozA0Zibv6gyp8JizHNbEWRi0YijyHsqxMy6FB2/bwqFrc6MVKCm5MBaRly+nMvapCbFRUpvl14w8vxIqzFmj70xDUMgHEEnaw0QZVyJ/G4qnOB5SRGzFrfTiELwdj4ve272HBl5cICrqENHVQRUPPxjCLD8bk72cjfexB7J3ojtKaypl69hyuaU6LpEw1fGk4qOqRhuurvoeL01foMD/U4CJ5mUlha6uzQFTYZRgfZtORlqaCNszKYHyYNYVMZ8FGRVpucVZEqc4j0bOKFIIyBn/PXY7cw2wX/LYlGHdjH+FGqD8O/b0N23Yfgl/oDTyKDceJrdPQ9Yv/fpR9l/so+zRxQpUx9hlJRcixk9Au1G6Gul6e79hJUuH5sXH4bvxRPFESJLbdsHhlrywLAaTg8qLRWH4tHSRYoOawyehZLmv4TUbojD6YcDQWSpih1ojfMay6gZaQKhbh919qEqU14O5RWm8wV4QFIESz2qfEpgnc33SM0iKwZ0QzfPuPM/7w34PRDYoZdTOwaPotOlRUfwclnsC/fvEGyheDmGfWaNbOTe+fleF+CLijbT1Lq/fDmgP/Q0DIeVz2n4xGpjoN7TgFbN1cYGds9lL1HMfGfYfxR59ASRLYdluMlb0qZe64pVzGotHLcS2dIFjUxLDJPZHtdOhKDcGxk/HQVpu68PLMn0bfq6AAXJC/af6KsG7ihTp57dQow3HM/zYUhRqjhUduaUsFHjzUrrQtWFjCUsjxAzryv47mB/nZowh8ApRo6oWMRV8ldrAvI4V2UerHiH6d+XMv/zcRQ31uQ1b3Z/z5S11ouv5Q3vVD4H1tx1Zi7wbv97cUtZbMGc4O2pqqig1HeEKWbVQx2DFpHoJfO2LQ7z+jzkdaCbxg1VtdEtiVs4NJRsV4jpgYbcVQ3l6HBTti4dRvHLppkkdSW7uMzjVAeBITo00WJAfh90X+SCrdGRNG1IbxhyAFt3ZPQc/2bdBlxAqEPDG8Yk3yyQCcTiIAAsxcPOGauh9jx15El+1bMOgLM+2GaRcRGKJZ8FCwQO2GLoYfPqWdxl+L9+DSncvYO20hfA2typ2FaG2NYqLm4FEyoh7EGb0KtYmZqXaVeAAqpbGfVEChs6lgVIbADA2HDoFrIQEkv4Q/Z/+deWVxg0xRumoDeLTpjO++64I2ng1QtfRHusg+ov9MTIUMzs46iVtVLMKzB1XE7JiEecGv4Tjod/z8kYJqwY2pgMSuHOy0QRXPY2KQUTWUt7FuwQ7EOvXDuG5l1O0AqS3stEEV9CQGMdqgiqDfF8E/qTQ6TxiB2kYfA+NjKpJPIuB0kvohlZkLPF1TsX/sWFzssh1bBn0BbVRNw8XAEKjXLRVgUbshXPJSPdIuYOOS3bh45yoOzFyA/a+M+ZAIa+ti0IbZKDyIMzrKwsxUAu1pVMH4MKvQieUCTEyN2FGzhhg6xBWFBIL80p+Y/XeccQtampZG1QYeaNP5O3zXpQ08G1TF5xRm3+U+yj5NnFBljH0+0i7ieFCszsjImvDyfrdEjyr2H4zsuwI3XhMgFEKT0b+hc6al31Nxa0M/dJ4aggSYoHyHJdj6W5NsIwde+U9E/98vIoUAacXemDU6h85w8jmc1YxkkFZyhYfeZVyVeBQQjJsKABBRtJE76psCqrhAzGzngdH3v8HOY3+gY4U8dGpM66NdMzt150QVj6B//ZGk75fv+OJ4Sjv0aF5Yz19VeHzcD1cVbzoOEpRt6pkxIkRS6Vt872aZ0SBURu/HliMGErd6vjv2n5Hou+IG1KejCUb/1hmZT8ctbOjXGVNDEgCT8uiwZCt+a5Jztjbt4nEExWbUGkhresG7dH7cPlMRGngGSRkjXy3RwKNxnlcdVcX5I/CqAmb1mqOZdW7lUuLF8/iMEQyCmRnMjNyV/K+j+UGBq0cDEaWyRCMvV53ryhy2ttqRSaSIQdRjbZNV9dwXvwxbg7um9TD+z19QJ6MHpUK0XwCu66ySa+3aTJtUeJ8ktplGU5EiEnfDMw/5eOU3A7/tewb7HvMwydXyAxRKn4JVb7MyLVsWZd5UR1LqrFaeiKMLlyHUpCV+Gl43o25L7e0yjb56Fhur6TQqcW/dLGy+L0OdYb+iU0njC5R6YjI6dp+JzQd98c+yEfi67zpE6u1RpeFiwJsOvRTVXR1xbORcyEevw+hameOW4o4/giPVFVcwqQVX1xwe+kjKo2oVS4gQYOFUHY7GJi1EU5hmbEt49uSJ0R1B0ao4iuqMgEpLk+uMpMqBKg3yNO2WgoVx9V5SqSdGdLGFBCo83T8PS8/zKCDj/IdiKiSwda6CEtpCI/JuODJF1Vd+mPHbPjyz74F5k1zxcaJqwY6pMC2LstqgCmVsFKI1VSPx6EIsCzVBy5+Ga8+51B52NjqjnZ/FIlaTiVPeW4dZm+9DVmcYfu1U0uj2ufExFUi7GIAQdVCFtLorHI+NxFz5aKwbXStz21xxB/7BkepR/4IJarm65m0AhrQcqjkVhQgBZpWrw8ncuI+Jpqbah3P0DE+eGB1lYVW8qDahSmlIkxsVZaFKk0MbZgVYWOprv2clQaWeI9DFVgKonmL/vKXgMGuEd7iPsk8TJ1QZY58NxZ3jCIzQeaXK2RNe75ToSULAzF+xM1oJAiCW+hrDejtqR0Mk3sDOMc3hNmAnIgQbuI3djaBdA1A1a+dVfh6LfvbBTTmpR80OGAHvHFptKcH/w4l4FQAR1o1c8ZXezvALBAZeQrr6ETzquTdFWugidG7UCrMSBuDQ3p/RsFhebwGmaNjKE6VEAFDheeD/EJKt8STH2Q1/Q/X9ILjr7Q3EI8DvHFIzBmKUQBOvOtrGo2iDzj80g9Wboqme4d8tB5DTYIMMSQGY+etORCsJgIhSXw9Db0ft+U28sRNjmrthwM4ICDZuGLs7CLsGVM1lVJkCd44HQlttpHD29EK+5AcVNxF6Xvv6sGBSC25uVnn+moTAAJyTy1CzWXPk/sZxKl6/1nklTGYKU2NGpbyXOpoPlHdx1O82FKYu8PTQPXZS2NuXyfxq3ZuibQAAIABJREFU95v3U1VP8e/4EVh/zxT1x6/EuExDTl4iwP8CMvogQhE08s6f6R1yJ0NVZ53R1MpohIfrDAGTn8eiCesRYf01Zs5oixIfqwVXkOqtHpJy5WCT8VkV4qIfQwFAGb4OC7Y/RqU+P+N7O22BRGt7lLHQjr5KiotVv+WQeBwLlgQh2e47TBxSPQ9TLygQHhCEe+lv9kaFF0H/Q6i+jqjiNvxPPlB36KUVUeXpSmwqMx1/dLPL0oBXISYgCG/eGJZWdYdX2RyClKQCftxxBgG+/jh/5Fd8ZWzhRVOYmui8QfD6tXFJUQBSO92RvoA8NdW4DypTIU/X/opYxs7IX7RCy+7tYScBKO0GNq0NgJG/+Hn7T8VUQFbVWed+rUR0eLh29CTkOL9oAtZHWOPrmTPQ9mMF1QIeUyEph3I2OuMi46LxWB1UsW7Bdjyu1Ac/f68Ts0Rr2Jex0I52TopDrDqo4viCJQhKtsN3E4egutFBNQ8xFQrc9j+JB+qgiopVnmLlpjKY/kc32GU5ZqqYAARpgyrcvcrmbZoK0Q59tpxFkO9xnD/+G+oa2Q4STU21b1GQHK9fGx1lYWdXWqeMchgfZuXQhlkRZexsjfugVUt0b28HCQhpNzZhbQBH2Vy9w32UfZo4ocoY+0yoEHXcX2eUhAT2bt54l7fOVJEbMXfTPagHW0pQrnNftC2uQlLECWyZ0QeNq7rgu6XXULz5KKw9eQ3+89ujfLbfUyHu73lYeVk9Wke0aolBvZ1yaLS9wv92/qt+PUoohLpNG+kfxZAcgsAzyeqbtLQSSkaOQdPmY7HvfirS7l7E5VdGvZiTjUVTbzQuor51KONCEXwt8yRqqqf7sOzfShg6qIb+BENSEI6fStKOirBsCM9MI0RFlGz3A9qWysio4tXxrfgnOrfyqhC5cS423VOov1tSDp37tkVxVRIiTmzBjD6NUdXlOyy9VhzNR63FyWv+mN++fO5JEFUUjvtfh7ba2MPN28C+5ZHq6Wmcua2T4HdsjCZZW/S5Skbw0ZNIkHyBZi0rGdHYl0CqW3ilAopcW3LvqY7mA1XUUfhdVUBa3RNemXqQEtiVtYFU59Xux9GvAajw5OB4jNx4H2YNfsHKn2tlHmWbFAy/UJ36aVYX3vk0vUPuJLBzdkTGcw6SIzI8QlP3lLi35lcsvWwGz0lz8d37mKvTSAWn3hr4ptJlYVdImyB99jgaqUiC/8JlOCHxwqgRjXVe+YT69dRSOq+nPo1FrEqJO2vmYOsDC7j+NB6t85T7kKJ8HRfYZVROEUXqNEJNPSP2VDGBCNZ06AXhBQLPlcOUGS2QfbrbVwgKeJO0kqKiR7Pc54Es6gjXVu5wtsrLuRMgCFn+28hPSh2cUMlce9xTnj83au5W5dNneJER/gUUKu9g5C+mIPTgcTxWApBWQPtvmmQ+r0yv/1ZMBSR2znDUBlXII8MzHpAq763Br0svw8xzEuZ+9z7m6jROQY+pkJRGWbtCmaeDSAWS/Bdi2QkJvEaNQOPMQRW2dqW0ZaSniI1VQXlnDeZsfQAL158wPk9B1fiYClUMAoNvaEadCngReA7lpsxACz1ziOtOwyCt6IFmbzO5rmUlNGnliWp5mKMcQpa4KhgdZeHgVAnaMJuC58//z959h0VxfX0A/84WkCaIFSkWBMGuiKICimDUWDH2GvVFg4ldiRp7LIlGY/lZEnuNsYZYY0PAggUVC2LHSlFQQYSF3T3vHyBFdmEXqXI+z7PPI+OUuzN3z8ycufeORlEWr17HZnTXFwxQzdpSs01+uICDJ1OHjpBU74o+zhxlc5f38ygrnjihyhgrHZSvcepkcEaXFlEFuHo45v6CI7UUCNuxFQEf+2gJejB6sh7dm1jBzL4rZvwbgzrDl+Pwjce4fXgphjmqeTmBIhw71x3GayUAiFCx8xD0qKI+NCtf7MHGg9FQAhCkDeGqphVDcvAZnP94F5pyG7u2vUBV69QWAcrYo/hz64O8dTEp6wb3ZrqpJ3/5fVy+/CrTmEnJuLF6Ge51nYw+ar6D7OJJBMSkj0YKHQc3tCn3yUzG7TGoe0ZLAEoIwM5duZRXEYYdWwOQcTiM8GR9dzSxMoN91xn4N6YOhi8/jBuPb+Pw0mFw1PDiVvn6FE4GJyOj2rjCI5/6KqbcCsGd9CYBIlRo1lKLFhlpPpzF4dOvILJ2RweNLvZ1oK+nk3HxlizLvdVWAdXRz6fE61MncUUmhnUbd9T65A5Sz7xqlq6eEc9eIDnyACaP3YZwvRaYsnpSthsu2aWTCMxUP/NveAfNSO1qZ2lNFX4vtXuqMmofZiw8jZRmk/GbV62Cf5lLDkpMvVVHkrV7qjzyBZ7d24Rfdz5DtYGTMajaJ8dbYg6LzN1TX73Ey9hjWLT8LJJqDsZ0L1utj4fR17/Bd9Mk9G7nji4jFmH/jrGwV7GSzDf0pJTCdfw0tFGVi/pwDn5B8WkPk6qi7deOWoznqgWlDEkZTQ2hZ6BhH1YA0GuAhjYZx1r5OhIR2V5qlJ0iMhKv0hM9Etg2aqhZUSP2YPn2h5BDBOO2EzCpTVENkVGSfHkxFVI71M7UpUQRfg8PUoMq9s1YiNMpzTD5N69s37UwlfiYCgksLatkXLPJI/Hi2T1s+nUnnlUbiMmDqn1y/SuBuUXmlwO+wsuXsTi2aDnOJtXE4OlesNXyeGgaU/HOH37BacONkBJS1/GYpjqo4pxfEOLTGkxUbfu1xi1MP5dSlpSpRbcetAuzDZERZpV4HRmB3MOsApGRrzJaSUps0aihJhtVImLPcmx/KAdExmg7YRI4zGrgc86jrFgqjBHBGWOs6CX442TQh4xWEkYt4e6ifacz+Z1/sfV5AwxpSzh2PCS9i4zY3BVdu3RFi/ozsaVRbVTW1+yGQfF4H/YHJaWWS2QK927uUD9ykQyXV63Af2mtS8W1WsHFQtUVoxx3/T52aRKhbNOx2Ln/FzgFDoDtoL2IVSYhaPMmBI9ZiGbaXiCKKsK5VR1IjgcjhVIQejUEKTCDLgDly12Yt9sC4042U5OoTkbISf/0sbUACeq2bputmxWgj9aDeqHW+t9wVw6AZLi4ayduj5+NBmrOWoqnx3A8JCXt+Iph7toVXbq2QP2ZW9CodmVoeDiySfA/iaAPGRc+Ri3doX21kePOv1vxvMEQtKv+8Xgp8frOPURn9PFDA8emWidBEs7sxeGXAmqN7wEHjRaWwKxqJYgRDzkASvqAxFwa/xZMHc0P8fA7fh4JospwcW+cbd9JqpqjighIfYm7EpHPrmPPxCnY8VQPLeevxsRszVfkuHEyIEv9tGvrkevwDorkJMjk6neiSCSBThkdjZ5gi63sYGMsQtBrJQAlEh7fxzP5e7xcMAN7Y+piwp5xaFBIN3WqlZx6q35V1WBlJgLCUv9URj3EviWB8CcXLBnfOntXZFFFmFfRh4DUByvKNxEIWrUQfz03QrvVk/N4A2mEBgMX4e+BOc3zAef9Lqbd0AuQ2n+L8Z6VVNaj5Gt+OPtKmVbctujYIpeHPslvEX77Gq49kqJpd2fkNDpAFsokyNIHoBShUhUzzW8kJDZwcTKHODgcCgCKiKd4qkCuiaPkZ08z6pukGlo4a9JCVY5b61bi6BslBKkthv70LWoU5VOIEqN4xFQokpEkk6t/wY1IBIlOGehoFlRhZ2MMUdBrKAEoEx7j/jM53r9cgBl7Y1B3wh6MK9Kg+gXEVEhQzcoMooygiof7liDQn+CyZDxaZw+qqGheBfoCUhs5KN8gImgVFv71HEbtVmNynoKqJjEV+HDeDxdTgyoEqT2+He+JSqqDKvzOpjUYEFVE244ttG+AoYjHy7AbuHYrFlXbd0JjDXsDKJNkGeP8iiqhipnm6RqJjQuczMUIDlcAUCDi6VMokNuQNMl49jRjHE9JtRZwttYgYMpvYd3Ko3ijFCC1HYqfvq1RpA97S4zPOY+yYolbqDLGSoWkcyfSxnQEAAFlHD3QVtuGc8oX2D7NG+uDk4CU67h2+2MCT4SyrYZgysh+6NTSXuNkKgDE+vvjWlqzWaGMI9rkkK1TPFyPmWtupyVxRajQ3Fn12JTKCJzx/9ilSR+u3lPQ0VIH5bsOhae5GAAhJWwH1p1U9Uqp3Ehg49wc5mIAUCD67u3ULpV4D/9flyKi3wz0NVPz/RWPcNLvXkZLU0l1uLatrfJCQqfZQPSpL01rPUFIufE3tl9OVjFnqpTr13D7Y3ZbVBathkzByH6d0NI+78lUIAnnTgQio9qUgaNHW2hfbbZjmvd6BGdp/qFEZHRMRosAsSXs65TT7qSsfAXfzf8gQqiN7r00bZEmQY2alulvkFW+isp1fNoCqaP54cNZnAh8Bxg7w6NF9m5mYnNLmGX0T0XUv5Mx/u8XMGg1DasnNsx+c6R4iFN+dz8Z3iGXGxHZKYyxNYSBgYGajxGq9dqi9uUY2UjtYJfpRkbx5AHuXP0dU9Y/RrWhizClZUENnqCpklNv1RKZwtKibHqZlS/3YMm2cFj0m4yhKm8is3ZPJVkAli29gBQ7L0wf8mnLq3yUfB1+Z1NbekPQh7PXCDWJEgUe+AWkdWMWoVybr1UkMAB8CMLaHwaiY9PqKFe2PGo2ccfA9bch1aKvofLNW8QpP8ZZY1jV0PylMYAumnVomz6OqvJVKG4+ye2HIUfYjTAkfHxwWcUNHTR5CvjuGFasuw4ZiWDSfjImOBf176aEKA4xFTKcGmMLQ7Ux1QBG1Xphi+ZBFXZ21pnGpn6CB3eu4vcp6/G42lAsmlJwQ9Jo5guIqRDB1NICZTOCKvYs2YZwi36YPNRaZZJNUtUclTKCKgKWLcWFFDt4TR+CTzsJ5J9kXPc7m/Y9Beg7e2GEmuyz4oEfAtLGhhCVa4OvVQbV7JTRp7Fs/Aj0aVMb5Q3LwaKeM7qO3YdnGmX/AUCJN2/jkBFmrVBDixceQrcZOrT9OI6qEq9CbyL3MBuGG2EJ6Q0Sqrh10KixxbtjK7DuugwkMkH7yRPAYVYzn3ceZcURHz/GWCmQjKsn/RGV3gJAgobu7sih17IKSsQem4v5/1mgUzcbCHFRiI7/ePUphmUt6zyMz5aMsJt307v2iKvVQ311T7AVT7D9xz8QZWWWeqEk6MGhVXPV23znD7+rqV2aBJ0mcHNLezOvoQdGDLRPvYFWvMDeP/YgIg8X0LpNnNA4bQxCxf1Q3E4B5DdXYOaZVpg9uoHamyXly5M4fUOeqfu8M9qqa0ohqYcB/ZplvCRBfh97tgeq6ZKmRFxUNDIOhyVqWefDOE7JV3HSPyrjRRGShnB3r6LljU4sjs2dj/8sOqGbTdbbCqUy084XDFDWSLtTcvLNtVh2KBb6Ll4Y7qDxW2VQxaExPjaUVX6IQkRsTpWggOpoPpBdPIbTUUroNXdHa1VNZvXMUTX9TceElKgIxBg446fVE1S28lRGnYZf5vpZsTXa5TK8g/zGKQS8FMHE0g4NGjVCo0yfelbG0K87Cps3DNf8JWZiK9jVypTsizmPX75fiqvlemHB7HZaJ/MLQsmotzmRwNKqaqbuqe/xXtQC309op6bl9acv43mP+A/l0XnKeDgV4HBxiocZN/SCgTN697RS3fpHGYnTZ9LGeRYM4dyhreo3Ues74bv/bYfvqr6oqlCCBCkat3WHNvfq8ufP088ZgqQuGjXS7mmJgds36GiW9i0UYQi+mstDPWUMrl59mJaQk6C6Z3+0yXWfKxC+fQX2vFBAkNrDa9pAWPLdjkaKQ0yF/AZOBbyEyMQSdg2yxtRG9axgrF8XozZvwHDNgyqs7GplSvbF4Pwv32Pp1XLotWA22hWDoFryYyogsbRC1YygivfvRWjx/QS0U9OdRWJhkekaXIn38R9QvvMUjC/YoAq/gLRxyQUDOPfuCSvVQRWRp8+kvXNBgKFzB2g67K+oUluM+/1P/H1oETqbEAgC9B1d0ULjZKMcz59HpLXOFiCp2wjahVkDuH3TERlhNhi5h9mruPrw48u3qsOzf5vcr9sU4di+Yg9eKARI7b0wbaAlJ5U09LnnUVb8cN1njJUISUlJOHnyJKZMmQInJydYWVmhcuXKqFevHiZNmoQHDx6oX1h+DyfPPM7USsIaLm2065qijPTFxB824UndzuhuK4ZIRwdSUcZbGhUKhfruaR/X8eYGgm69yzwF0a9i0pcTyprARGWhkhH2x2isMvoe31RKGzheYo/mTqZpq4lF8OlL6XNn7tIksWuNtun9OXXg4DUSrgYCACXe/bcWG0Ozjq4ke3gdt97k8k2MHNE0bYwuZUwYQp8+wqbpu1Fjxiy453DR+dbvFC4nZXSfN3Rqg1ZqLzLFqNV3QFpZAUCBpwe24b94VfOKoKMjRcbhUEChyP0lVm9uBCHL4fiE/N5JnHmcsX/E1i5oo1W/USUifSfih01PULdz90/GBJOgVj07GH48Cyue4e49TV4ekEZ2C/8b/zuCU6zQf/IwrcZ/02nUGi0+3hQrn+Lhw5xG2CqYOvr5ZLjoewzPFBI0aO2GCqquZiTmsMg8Vp/IGM7TV2NcfdUXr3FnTuFSYqbhHVq4wznHRikKPPK7jsqzz+Hp0zsIuXYN19I+wcd/gYeNOxbvXoKOKvsTqqMLO7tMLxRJCcPFq2J0mD0fPQpz3EG1Skq9zYkEVlZmGfECYpj3noT/q62uMCJUNDfLeNEHBOg28sZPfcwK8CJaiSg///Qb+jLNO6OTuieAcf44kzYmoKDrAPe2aYNSK8Kxe9FG3PykYX/Kyxd4pQQgsYObR3WtzoPyF88QmfaESVK7FVy0fTmagQdGDKqT+lBP+Q4BR05DZUj/KOYYjgalvgFZ0HPE8JEavFhKdglrVp9BPIlQvrMPxjXnl6RopjjEVEDxyA/XK8/GuadPcSckI6ZeCz6OXzxs4L54N5Z0VD30hTq6dnaZHmqlIOziVYg7zMb8HpWLwY3wlxBTAYmVFcwygirE5r0x6f/Uv7xSVNEcZhlBFYJuI3j/1AfqOjjlB2WUH/zT3kwrlGmOzp3UPSCPg/+ZtJf8CbpwcG+L1KiqQPjuRdj4aVBVSYakJAIECRq4uMJU41LK8eJZZNqDfAlqt3KB9mF2BAbVSe3hpXwXgCOnc4yyiDl2FEGJBECAnuNwjNTgxVKyS2uw+kw8SFQenX3GgcOs5j77PMqKHT6CjLFi7c2bN5g+fToqVaqEdu3a4ciRI3B1dUX//v0hk8lw+/ZtLFmyBI6OjggMDFS5DkX4URy/lXGhKDJqBEc1NwAql484Cp8uQ7E1HGjQuTtqiwHo28Eu/dG2Ag8CzuBxDt1q4kPWY2jHUdjx6H2WxKtEknG5qXwRjnDZp0sqEXV0Eobuqo8lC8oj7FrqjbO4UmM41hIDylj4z+6Dyf99vABPxnW/c2ldmsSwcGmb5W3P4hqDMK6PBcQASBaMVQv2Z3Tzkodh9eiJ2B+ey0W1uAYcG6V1KVLcw7ml07BGPAbzeuR0k/MWp46dS39pFCBBvRYtVbekSiMy/wYD2plktNaLOogt/0SpTFzr29lltDRQPEDAmcc5vMQqHiHrh6LjqB149F5d4lWB8KPHkVFtRDBq5AjNq40CEUd90GXoVoSjATp3z35jUa7TQHT9+HIc5Rv8t3EnHmnUi/ENTk8bgOln4mHR/zfMba9+RFOVDNuie7u0LkaKZ7gR8jrHhwH5X0fzQUIAdvo+hlxcFY0dLVXftImrwsJMkjZshAjGLtOxamw9Nd0h3+Lk4UDEZaqfdZo3y7F+Agok1hiCxRMds7ZsTA7FH95LIPrxT3xXR9uWB2JUt7dBRgMlAWVdpuLXb7VLfBWkklJvc1LW0iL95TqCniO8J36dY+tfibl5eld1iM3Qc+oYNC7QRiVx8Pe7nHZDL0WT9h3V3lTLLvpnPECzd4GrmQhAPC78PBxr39ujRpZyJuOK33nEKgGxhSvc62gzcpsc925+7H4vQc32X6O+1gO/6aDpxPkYXE0CAUq8OrYDvlE5xOC9f8HvXWpSouagGfCum9sGlXh1YBk2h6UAOg3w3dS+BZqg+aIUi5gKKBJrYMjiiXDMGlQR+oc3loh+xJ/f1dF6fFFxdXvYZGr1KZR1wdRfv01vnVnUvoSYirKWsMgIqnD0noivcw6qMM8IqjDrORVjCjaoIs7fD5dTgyqkTdqjo/qgCv+LaS/5k9jDxTX14Vn8hZ8xfO172NfIvZzJNy7h+nsCxLXg7Kqmd4Eq8nu4+bH7vaQm2n9dX/vxNXWaYuL8wagmEQDlKxzb4Qv1YTYce//yQ2qYrYlBM7yRe5h9hQPLNiM1zH6HqX0L8uHilyY/zqOs2CHGGCuGZDIZzZ07l4yNjQkAmZqa0qpVq0gul6fP4+fnRxKJhAAQAGrYsKGKNaXQzblNSUdA+nyiSv1od2zuZVDEPaATq7ypVRUpCQBB2phmXk/5WEIKmlKPpB/XK6pIHr9eorfZvshTOrWoN9Uxb06Tj0WSIst/yunOguaZ1mFK7VeGUVJ6AV7TxTWDqVGd3rT5fgrJLk2lutLUeXXcltHTlEg6Mc2F6vdYT3c/FkseSvObSdPLNGj/+2zfS37nN3I1FAgACVIbGv5PBCkoiW4u7UBOY05RXO57hiLXfEVlBBAgkMjEjX4Pk+e8yOvt9I2pKP0YQChLvXcl5LqlN3sHUGXRx2MnUJnm8+hGiooZZUE0pV7acQJIVNGDfr2U7WiQ7OkpWtS7Dpk3n0zHIhUqVpQm5SbNbaqTvj5ARJX67abcq42C4h6coFXeraiKNHUfSxvPpOuqykxyCt/Sg8zEQtrxKkctfzpFUTntyoTbtM2rMZmIBDJqMpFOvM7hO+Qg0W8M1ZKkfq/KQ3wpey3JKGO+19FM67670ImkacdW33M75V4jUpd7uMKdygogSB1o7i2VO5eIkuj4SEsSAyQyaUO/qZ2PSP5wJXmUFTLqJ3Sp88bs9SdXimg6Nr4d9f4zjGTaL01ERCm35pJD2j4U9Bxo5qWk3BcqVCWh3uYs5eactH0sJrMBeykml/kVj5eQq05aPW2xkHKoSvkj8Sh5mYtT96+0Ec28pm6DKXRjtkPab0hEFQYdoERKojvrv6GG7ZfRrU8rYco1mtFQmrb//tFu/ymi6M+O+iQAJEib0CxVQU0RTktddQiQkO3Ec+pWRC//6kvmYoEgSKnepECKVzVb7BEaYS0hAQLp1vamw5rUGXko/dJSjwSIqHKfvygqb9WshFFQ+FJX0gFIYjsxD/9PVKxjKiko+th4atf7TwrLe1CluQ5p10WCHjnMvETFK6qW/JhKKTdpTto+FpsNoL25B1Va4qqTep7Tb0ELCz6o0lEvcxIDBEip0cxrpDaq3pidfg4WVRhEBxKJku6sp28atqdl2YKqKnJ6uLgV6QggkdkwOpioeSkVUX9SR32BAIGkTWapvnbUJM4qXtJffc1JLIAEaT2aFKgyylLskRFkLREIgi7V9j5MmoXZX6ilnkAQVaY+f0VRqQizn0q5TjMbZ9xrDf5Hw4OsyXmUlTicUGWMFTvh4eHUrFmzLInS6OholfPa2NhkumAHhYWFZfpfOUWfn0dumRN5AEEQkVENZ/Ic9gNNmjaTZs+ZSz/PnUOzZ06nqZPG0Mhve9PXLvXJ3FCcKaEGkjacQVcznfsU0YdplJ1uxjyCPlVzGUATf15Cy5cupJmje1MLSxOybOtDe8JUX6bKH6wkD+OM8gmSClS/Yz8a1KMN1a2sT2Wqe9LqkNQ0U+I/g6liWnJRMKhOTRqak7nbQgrKlAFVvFxNX+mlJUuNutBGlbvtPflPsE9Pkgn6FtSocXUqX/cHOqrhRbns3ESylaR+52ZzruacPEp4QDuH1MpIyqVd0NYf50evc8nDUsIxGmElznTsDMlh3EEKz3Y3pKDow6PITjfjBk7Qr0YuAybSz0uW09KFM2l07xZkaWJJbX32kJrDkUoeTefnuZGpCFnqjSAyohrOnjTsh0k0beZsmjP3Z5o7ZzbNnD6VJo0ZSd/2/ppc6puToVjI8j0bzriq9sKdKI4uLe1MlmnJVwg6ZO7iRb/uCqS7Mal7VZEUS09v+9POBV7UzqYsiQQxlW8+kQ6++IzLWPkd+s3VkASAxNW86WQOd5f5XUczrTkPCVUFRZ2ZQ26VxOmJeefZFyhG5a6Q0+2fm5JUZEJuS26rOQYKenPrLxrlYESizDECErIdeZgic6ufWcjo9uqe1OHH0xT7OXcY73dTXxMRQZCS3Vg/1cmmIlf8622O3m6mrnoCCboONEttsjKThL+pt7FAEFej/zucl6SQdmRBPmQvSa2L4pqjyU/t90yk/QPLp9VdgcSVm5GnZ1OyaeFDJ1RkE+UPfyNnHYEgGJPn1twyHp94s5v6VRQRICKTTn/SE1WHUaOEKhFRHF1e0oHMJAIJUivqsSYky4M8RexF+q1DFRILAunZ9KUNoZod6PcnvKmmGCSUcaA5peZG9XMTqsU5phLJbq+mnh1+pNOfF1Rpd18TEkEgqd1Y8iuWQbWEx1R6S5u76pEg6JLDLPXJygwJ9HdvYxIgpmr/dzh7Y4T8JgsiH/u0BhjimjRafVClxP0DqfzH6xhxZWrm6UlNbVqQzwlNk4cxtKV7WRIgkFG3zbk+sMvsze5+qddQIhPq9OcT1dvTNM7GXaYlHcxIIggktepBa0KyRFmKvfgbdagiJkHQI5u+G0izMPueTnjXJDEEKuMwR01jgVIgrwlVTc6jrMThhCpjrFg5ePAglStXLv0i3M7OTm0ylYjIysoqS9IrODiYiIiSTs8ktzpVSF8kZPn/vH+kVP+ny9kuElPCfWmKRzXSE7LOL4gMqbrrIJq5/XIuT3zl9GiXFzU0yZq8FaSVyHHoUjr9PGOLKddmUmOdtGSpyJjq9v8fXf4kUfV2V28qJ0q9udZtvZSeEtnGAAAgAElEQVQeq9t23Fma0cw4/Ua8TA1PWhWi+WN0RcQqctcRSKfeZApUl5xMuUVr+jelmibSLN8tc2Jbr5ItOXhMJfU5iiQ6O8GWJJ8sZ2DegNxmnvqklUkKhftOIY9qep9sTyCRYXVyHTSTtl9+ncMFcRKdnulGdarok0jIaz355COtTz9dzu2KU0HRQWtpVNuaZJQ5GSuISKqnRzrp0wSSVmpMvWb/S4/yoXnN+zPjqLZUIEhsaKx/TivM3zqaeb3aJFQVr/+hCS42VE76yW9aEJOheT1q1f0XOvtJZv/tpm5k5raUbmc7BDIKXNCZmtWurD5GCCIqU6EWNW7VnibsfZnLjVRqK6r2/TfQ/c+9wUi5QbObSElsNZT+yWOro8JR3OttDpJO0ahqUqrUa6dmrRhlgTTeVkpGbsvovpYJIe3J6e4vLdIeQImo4qD9ObYgv7vMjYzTb/7LUcN+SyggWmW2kyLXfU0GAkjQc6eVT7WrWzE7epKpCCTo1COfc2rOFRonVImIkujJ8YXUp0E5kgplyKK5Jw0fM55+GNqVHKrokCCtRA6DlpJ/Tj0Jsmz7Oa3rbEIiiMl84F56rdW3K8nynlAt3jGVSBF9jMa3708bPj+o0o3ZTUgqtqKh/+R0DVDUSnBMpSQ6NaoaSSv1op2aBVUKHG9LUiM3WlbwQZXkd3+hFmn1XFRxEKnovJVp3mXk9vEhsiCmcg370ZKAaM3rTeIRGm4uJgg65PzbQ9L828XQjp6mJIJAOvV8SF2Y1SrOJj2h4wv7UINyUhLKWFBzz+E0ZvwPNLSrA1XREUhayYEGLfUnzcPsOupsIiKIzWng3tITZbPJY0JVo/MoK3EEIiIwxlgxsGvXLgwYMCD9jac1a9ZEYGAgqlatqnL+iIgIWFlZQS5PHehSLBYjOjoapqaaD/+eP2SIvH4KJ86HITJJH1Vq1IJtAwc0tS6n8bhJ8ugb+O+oP+68IpSzrAU7h5ZoUcvkk3GJkvDYfz9O3FPCrHFbtG9aVeuxxLKIv4Mju07gkY4N3Lq2R91ymo+ClHxhMhq2P4nuRwKx0Nnwc0qR/2SRuH7qBM6HRSJJvwpq1LJFA4emsC5XTAZMU0uJt3fP4MjxAFy8FoZnr94iLkmAftlyqGRlD4dWbdGxYytUz+WlHppvLgZHvJ3Qfd1jVBi4B6FbPXMcRzL/66gC935xRr2pQUiBAH3PbXi1fwA0fhluMZIcugaDfJ7j++3z4frZb43+gBMzB+Bw/VVY2qtqCRibrHjXW5UUT7Bt9E+IGb4R4xw0iKLKF/hrzDg86rMZP7nk1xfJL/G453cMV14bolqDZnCqXV7NeSceu/tVR79dsRA3m4eQ8z/BXtOQqHiIle2bYOzpRFiP/BeX13RQvc+VT/C7my0mBChhO9Efd39rqcHKP+DFxWM4FHATTyJikahjArOajdG6Qzs4WhloXP/lwTPh2GIeQqROmH8pAFNzHQjwS6HEk9/dYDshAErbiUi5+5uW/19MJYdizSAfPP9+O+Z/flDFhxMzMeBwfaxa2kvrl/wUvhIYU6HAk22j8VPMcGwc56DBtakSL/4ag3GP+mDzTy4odlH1nh+OXXkNw2oN0MypNsprcfkov/ITGrdcgFuoi6nnrmOBo2axSPFwJdo3GYvTidYY+e9lrOmg5ijkJc5+eIGLxw4h4OYTRMQmQsfEDDUbt0aHdo6wMtA4yiJ4piNazAuB1Gk+LgVMzX281S+VPASzmjli7rUUQFQRg/c/xZZuubyZS9PzKCt5ijqjyxhjRES+vr5ZxkMVi8V05cqVHJf5/vvvs7R+cHV1LaTSlnIpd2jFV9Wp1bwrxM9XS7jY4zTaXpdEZT1o5aOCbyWSVV7HUC1eFNHHaMLXg2nLw8Lef6VYkdbbEirpOI20FBMgIXufIK3G+I07NpJqiAXSrTOGTuQ0kLRWLVTzUywdGFyVxBCT5bB/6U0hbrno5ccYqsWMIpqOTfiaBm/RpnUf+ywcU/OJgsJ/b026AkhsPpyOaHyRHEfHRtYgsaBLdcacyHm8/qKKs7EHaHBVMUFsScP+LV1RNps8tFDV+DzKSpxi/4yOMfbl8/f3R+/evdNbmgLA2LFj4eDgoHaZJ0+eYN26dVmmTZgwocDKyD5KwMV5w7Bc+iPW/+iAXJ7HsuKuXDss2jkXruIz+HX6PkTk+RW/pVRyKP4YvRqGU1dgcM3i3gL6C8L1VmvyW/44H6kAxJXh7NYIOlDizfUg3E7IZcF3fpg1cTOelHXF7K0L4VGuUIqrFcXDLVixLwJKg1YY6/M1t/op0ZIR+sdorDacihWDa2r+dnT2eTim5pM4nAsMQTIJMGzWGk4aXiS/85uFiZufoKzrbGxd6IHiF2YVeLhlBfZFKGHQaix8vuYoq5UScB5leccJVcZYkYqNjUX//v0hk8nSp1WvXh1z585Vu4xCocDo0aORnJycPs3T0xPdunUr0LIyJaIPT8II38ZYsWkE7EprV58vTJlGk7Bj0zAY/TMG/7c2FLLcFykQiqQPSCyibeeJ8hX+8xmJfx3nY5qzcVGXptQpLvW2pHhz9SruywGRiQvatdCF/OF2TP/zDsrkdMOvfIn940dgVbgNvtuyCz4OxXFAjiScX7UGgR9EqD5wGkbU5hRcyaXEq/98MPJfR8yf5gyOqoWLY2o+kF1GwOV4kCBFIxcXjeqw8uV+jB+xCuE232HLLh8UzzB7HqvWBOKDqDoGThsBDrNyKOS5zwWghJxH2efghCpjrEiNGjUKL1++zDJt+fLlMDBQPaISEWHEiBE4ePBg+rQWLVpgy5YtBVpOBiSHrcOI6c/gtXUJvq7Ip48vhwhVu63EP2va4t7Ubhi69V4R3EgRUoKP4tAzRaFvOW+ScWfttxiy8iz+82mGWq7e2BTyvqgLVcoUh3pbUsgR8SIKCgJEJgaQXVgBr/HB+GrGEFiruzFWRuHEj90w/IAxvv/7P6zoUqVY3jQoo/Zi2bYHUBi1wfjJHjAq6gKxPEu+sxbfDlmJs//5oFktV3hvCgFH1cLEMfVzye+cxcVIBSCpDWdXi1xjpjLqBH7sNhwHjL/H3/+tQJcqxTLKImrvMmx7oIBRm/GY7MFRVvH8Eq481SCjWkLOo+zz8DFljBWZv//+G3///XeWaXZ2dujSpYvK+ePi4tCnTx9s3LgxfZqHhweOHj0KIyM+weebd/6Y5WYJE9Pa6DRtL8IS5Ii9shZDhuyD4+od+KE+d/T/8ujAdvBWnNjcCQ992qHH4gt4U8hd/pTR/8CrST24tO+Cbt26pX56jMdfj4tbkjW1FdWg+SEQl9UFKBHPA/+AVztP/H4jKW2eJJyd5Yzq1u2wKFjTZgxMe0Vfb0sGCcxrW8NYBMgfbcH4GXfRcdkSdDNTcxsge4BdI7/CkGN2+PX0KSztVLWYdr2WI3T9ShyOEaHWkJ8wTG12mBV3ylf/wWfQfISIy0IXhMTngfjDqx08f7+B9Kh6dhacq1uj3aJgcFQtKBxT806JqLNnESYHxJZt4FEv525csge7MPKrIThm9ytOn1qKTlWLafySh2L9ysOIEdXCkJ+GqX8I94VKPv8b+nfvln5d2rVDazRoNhbH3+XyXvcScx5ln4s7bDLGioRSqcT06dOzTR81ahQEQcg2/cSJE/Dy8sKTJ08AAAYGBli0aBG8vb1Vzs/yLuncNqwLeI53SuDIwt44sdIQZUxdMevv3RjvxJ3wvlwSVPdcBj87J0wb+S16S3xxYrxdAW5PDLMus7DZ4jXU3q+JTFHXpLj9vpVIKD8Avo+XwVz8BrcPrcPi+Uuw88opTO01BjX916JbFQVinjzAs8cyXLmfCDjwA5+CU9j1tmQq32cdAqsMwANxbbRoZZfDW6vfwPeHvlilMwn/nR+E+lpVXX3Udu+DfuaEqo0rfH6hc6N4htB4W/QY2A49J7cudm8KLyz6td3Rp585qGrjPP1/caBMKI8Bvo+xzFyMN7cPYd3i+Viy8wpOTe2FMTX9sbZbFShinuDBs8eQXbmPRDhwa+QCwzE1b+IQ4H8VySRGtY6eaKGbw6xvfPFD31XQmfQfzg+qr2VdLtw4q3gWinjbHhjYricmty59UVZs4YTuvaogOXP+dKBXxr+FMqjZRPrJUp9zHmUljUBEuaTXGWMs/+3Zswe9e/fOMq1MmTKIiIiAiUnqYOfJycnYtWsXli9fjqtXrwIARCIROnTogBUrVsDa2rrQy10aKCN249sWA7H9SQpI0EfNjhOx7H/T0aWGTlEXjRUW5Xu8TzSEYem7ds4bZQwub56DH+dsxLWK/TB7Wl/UuDAdP1zrjr2+P6IZ78fCwfU2XyQlJEBqYMCtaVgRUiLm8mbM+XEONl6riH6zp6FvjQuY/sM1dN/rix85qBYOjqmaSzqGEbU6Y12kBbz/C8Nq95x6cyUhIUEKAwOOsl8qPo+WHpxQZYwVCUdHR1y5ciXLtP79+2P16tU4c+YMTp06hd27dyMqKgoAYG9vj8GDB2PgwIGwsLAoiiKXKoqYWzh9+g7kNVuitYM5eAh1xjQge4nLRw7B/94HlKvTFp6dGsCUB1dijLE8kuHl5SM45H8PH8rVQVvPTmjAQZUVQzL/Majr8T88re0D/+Bfcm6hyhj7YnBClTFW6EJDQ1G3bt1s083MzBAdHQ2FQgGRSARra2u0b98eQ4YMQdOmTYugpIwxxhhjjDGWRn4PW71HYtWTxvhx/WL0sErEEa866LqJMGDPVWzyrMgvqmGslOAxVBljhc7f3z/bNENDQwwbNgw2NjaoW7cu6tSpA319bhfJGGOMMcYYKx6UL45g49YzuCS/hX+uLkDX5K1YsT8a5j3XYU5XTqYyVppwQpUxVugCAgKyTXN2dsa8efOKoDSMMcYYY4wxljuRRTf8X69VuLxbAtmVGegzdz/iBuyE/9IeqM6DZjJWqnBClTFW6IKCgrJNa9myZRGUhDHGGGOMMcY0JK6Bgdtvou3kINyIMUKdKb/CypDbpTJWGnFClTFW6GJiYrJNs7a2LoKSMMYYY4wxxpg2yqBqwzaoWtTFYIwVKX6UwhgrdHK5PNs0XV1+HSZjjDHGGGOMMcaKP06oMsYKXdmyZbNNe/XqVZ7WtXXrVly9evVzi8QYY4wxxhhjjDGmEU6oMsYKnYODQ7Zpu3bt0modKSkp+P777/Hdd9/h/fv3+VU0xhhjjDHGGGOMsRxxQpUxVui+/fbbbNP8/f1x+fJljZYPDw+Hm5sbtm7din379sHV1TW/i8gYY4wxxhhjjDGmEidUGWOFrmvXrjA1Nc02vX379jkmVd++fYtJkybBzs4O0dHRuHjxIjp27FiQRWWMMcYYY4wxxhjLQiAiKupCMMZKn127dmHAgAFQKpVZpuvo6KBTp04YNGgQbGxsIJVKcf/+ffj7+2Pjxo2IjY1F586dsX37dhgbGxdR6RljjDHGGGOMMVZacUKVMVZkNm3ahOHDh0PTMFS/fn3MmzcPXbt2LeCSMcYYY4wxxhhjjKnGCVXGWJE6dOgQlixZgjNnzqj8f6lUipYtW8LLywv9+vWDSMQjlTDGGGOMMcYYY6zocEKVMVYs3L17F/v27cOrV6+gUChgbGwMJycntG7dGoaGhkVdPMYYY4wxxhhjjDEAnFBljDHGGGOMMcYYY4wxjXHfWcYYY4wxxhhjjDHGGNMQJ1QZY4wxxhhjjDHGGGNMQ5xQZYwxxhhjjDHGGGOMMQ1xQpUxxhhjjDHGGGOMMcY0xAlVxhhjjDHGGGOMMcYY0xAnVBljjDHGGGOMMcYYY0xDnFBljDHGGGOMMcYYY4wxDXFClTHGGGOMMcYYY4wxxjTECVXGGGOMMcYYY4wxxhjTECdUGWOMMcYYY4wxxhhjTEOcUGWMMcYYY4wxxhhjjDENcUKVMcYYY4wxxhhjjDHGNCQp6gIUpnfv3sHPzw9nzpxBZGQkEhMTUaZMGdSuXRvNmjVDhw4dIJGUql3CGGOMMcYYY4wxxhjTQqnIHh44cACLFy/GpUuXAADm5uYwMjLC8+fP8e7du/T5rKyssHjxYvTu3buoisoYY4wxxhhjjDHGGCvGBCKioi5EQbl06RImTZqEwMBAlC9fHl5eXvD29oaVlRUAIDk5GRs2bMDo0aOhUCjSl1u2bBnGjh2rcp0JCQnw9fXF/fv3cf/+fejr6+OPP/6AIAiF8p0YY4wxxhhjjDHGGGNF54tNqC5ZsgSTJ08GEcHJyQlHjhxBuXLlVM67fft2DBo0KP1vHR0dBAcHo169etnmXbNmDUaNGgUAkEgkuHTpEho3blwwX6KYe/z4Mc6fP18k2y5fvjw6dOhQJNtmjDHGGGOMMcYYY6XXF5dQVSqVGDduHFauXAkAaNOmDQ4ePAhDQ0O1yxARrK2t8fjx4/RpnTp1wqFDh7LN26RJE1y7dg0AMGPGDMydOzefv0HJsW3bNgwePLhItt20aVNcvny5SLbNGGOMMcYYY4wxxkovUVEXIL8NGzYsPZlasWJF7N+/P8dkKgAIgoBhw4ZlmRYQEJBlGAAAOHToUHoytUGDBpgxY0Y+lpwxxhhjjDHGGGOMMVbcfVEJ1RUrVmDLli3pfy9evFhtN/9PtWzZMsvf8fHxCAkJSf+biDBz5kwAqV39N23aBKlUmg+lZowxxhhjjDHGGGOMlRSSoi5Afjl79iwmTZqU/nfTpk0xZMgQjZevXr16tmk3btxAkyZNAAAHDhxIb506ZcqU9OmlWb9+/dC9e/ci2bZYLC6S7TLGGGOMMcYYY4yx0u2LSKgmJyfj22+/RUpKSvq04cOHa7UOMzOzbNOSkpIAAAqFArNmzQIA1K9fn7v6p5FIJDAyMirqYjDGGGOMMcYYY4wxVmi+iITq6tWr8fDhw/S/dXV10adPH63WIQhCtmllypRJX/+tW7cgkUiwefNm6OjoaL7iD3dx8M+duEJN0HdEN9gbaFUs7SkicXbzOvwXYYmvRwxGi0pf1KgORSIqKgpPnz4t6mIwxhhjjDHGGGOMsRxUqFABNWrUKPgNUQn35s0bMjU1JQDpn169emm9ntjY2CzrAED79u2jqKgoMjY2JgA0Y8YMLdf6lg79XzUSCyAIYqrScxu9UGhdNC2k0M0FLUhfAAEC6TvMostJBbm90mHJkiXZ6gZ/+MMf/vCHP/zhD3/4wx/+8Ic//OEPf4rXZ+DAgYWSKyrxzRc3bdqE2NjYLNP69++v9Xri4+OzTatZsyZ8fHzw7t07NGrUSPuu/sl34H/uBRQEgBSI+u8f+CdqXTQtxCHo7FUkEgAQPtw4hMP35AW5QcYYY4wxxhhjjDHGSpUSn1DdunVrtmlNmzbVej0PHjzI8reJiQni4+OxdetW6OjoYOvWrZBKpdqtVGIF25oGSB1MQICOdV3Y6mpdNC0YwqaWBT6+rklUzhb25l/EqA6MMcYYY4wxxhhjjBULJTrbduvWLVy/fj3LNGNjY1hYWGi9rnv37mX528nJCaNHjwYRYfbs2ahfv772BRRVxeDlG/HEeAOC5fUwYKYPHAp0j+vAZfoWLJEtxtGIivAYPw89TQtye6XDgAED4OrqWtTFYIwxxhhjjDHGGGM5KF++fKFsp0QnVI8ePZptWp06dfK0rvv372f5+8aNG3j58iWaN28OHx+fPK0TAHSse+DnHT3yvLy2RBVbYczaVhhTaFv88lWuXBmVK1cu6mIwxhhjjDHGGGOMsWKgRHf5v3btWrZpdevWzdO67t69m+Xvly9fQk9PD1u2bIFYLFazFGOMMcYYY4wxxhhjrDT54hKq9vb2Wq+HiBAUFJRt+oIFC1C7du08la002LZtGwRBKJKPo6NjUX99xhhjjDHGGGOMMVYKleiE6tOnT7NNK1u2rNbruXnzJmJiYrJMa9OmDcaOHZvnsjHGGGOMMcYYY4wxxr48JXoM1ZSUlGzTBEHQej1nzpzJ8rehoSE2btyYp3UBgDz+Je6H3satmzdw6+Yt3Lx5B+iyAbvH1y2QHa78EIMn90MRGhqK0NDbuH37NsLinbHk8By00imADTLGGGOMMcYYY4wxVkqV6ISqnp5etqTqhw8ftF7PpwnVwYMHo0aNGtoX6P1/mNFzNnzv3cf9J7FIUlLqdHE1eP9UK/939vsTmD1wMfxfvcKjWzfxLE6B1C0KMPlmGOoWcDK1efPm+N///lewG1GDXxLFGGOMMcYYY4wxxopCiU6ompubIy4uLsu0hIQErdZBRAgICMgyzdnZWe38wcHBcHBwUP2fhu3x87H2+BkJOOldDx3WhkMBQGTqDI/mulqVSyOG7TD7n3YAgOQrP8Gx5QLcSAEg6KCxqwu0H/xAO7a2trC1tS3grTDGGGOMMcYYY4wxVnyU6DFUO3funG3axYsXtVpHYGBgtvFTy5cvr3LeCxcuYOrUqRqsVYwkWVJ6a1GDFh5obahVsbQmLm+akUCV2MPFtWrJPriMMcYYY4wxxhhjjBVDJTrn5unpmW3aqVOnkJycrNHyERER8Pb2zjbdwMAg27QPHz5gyJAhGDNmTO4rTg7B2YuvoQQAQQcObd1QTqMS5Z3s5k3cU6T+W2zWAi72JbrxMWOMMcYYY4wxxhhjxVKJzro5OTmhWrVqePLkSfq0+Ph4BAYGwt3dPcdlHzx4gK+++gqPHz/O9n/v3r3LNm3KlCkoX768ylaxn1I89oP//bTspqQe3NzNCzhzLcftoCt4owQAEco2d4VjAYwwwBhjjDFWNGR4++whwsJCcfvGDVy7egN6PTdisadpUReMMcZYnnFsZ4yVXCW6haogCNi5cyd0dLK+fWnBggU5tlINDg6Gs7MzlEolxo8fn+3/9+3bl/7vlJQUjB07FgcOHMgyXT0lok6fRog8tcO/pEYbeNgWcN5a+Rxnz92HHAAEHTRxdYFRwW6RMcYYY6yQKBF9ei3mzpuLScMHwmvSz1i15xF0LQt6tHjGShs57vw1FcM8W8HOygLm5uYwNzeHhd0oHErSdB0yXP/1K9S0ME9b3gLV67dFX59d6b3pGEvFsZ2xoiS/8xemDvNEKzsrWKTFe3MLO4zSPOBDdv1XfFUz0/mien207euDXaUk4AtEREVdiM+1adMmeHl5QaHIOGi9e/fGhg0bYGiYMXjpxYsXsWjRIvj6+sLLywuLFi2CIAiwsbFBZGRk+nwikQhDhw6FkZERfH198erVKwQGBqJRo0YalOYtdvaqgUF730IJMcyHH8SD9R1RJj+/8KfebEePGoNx4B0B0iaYHXwRs+qX6MbHjDHGGGOfUODeL86oNzUISqvvcOzeGnhwjxzGCkAybs1thSazriAFAHTcsPzBSYyxzL0tTtKVOWjdZg4uJaTeYoot+mPHpW3oY1ai2/GwAsWxnbGilHxrLlo1mYUrqQEfbssf4OQYy9xbXyZdwZzWbTDnUkLq+4PEFui/4xK29TEr2S03tfBFfM+hQ4fC398fdevWTZ+2e/duVKxYEe7u7mjbti3s7Ozg5OSE58+f4/jx41izZg2MjIxgaGiI33//HWXKZKQ8lUolNmzYgGXLlqFu3bq4efOmhslUAB/O4fT5+NTxU0Vl0apdy4JNpgKQXQrE5fcfL1pawrWgW8QyxhhjjBW6D7h+/S4UEMG4pRua8w03YwXmQ2Ii0lvdKCPw/Llcg4UuYaH3IlxO+LikBNZ9vocnJ1NZjji2M1akPiQiMSPgI+L5c+Qe8T/g0kJvLLqckH6ukFj3wfeepSeZCpTwMVQza9WqFW7dugV/f38cP34cISEhiIiIQHx8PExNTTF48GD07dsXNWvWzLZs37594ebmhlWrVuHevXtITk5G7dq10alTJzg7O2tVjuSrpxAYndpSVtBrDvfWBd35Xo7Qs0GIUgCACMZOPH4qY4wxxr5AsvM4dS4OSqEMmrVxRfZXiDJWGsXj7tEd2L7vII6fD8XTiFeIhxEqVrGCfcuv0KXnAAzsaKfdcGDyMBw5fh+GpiaIi30LpSISz18oc1koARcWeGPpS3s0sbyO4GcKQGyBdp0coJPLkqyU49jOmObi7+Loju3Yd/A4zoc+RcSreMCoIqpY2aPlV13Qc8BAdLTTJuLLEXbkOO4bmsIkLhZvlQpEPn+BXCP+hQXwXvoS9k0scT34GRQQw6JdJziUsoD/xSRUP2rdujVat26t9XKVK1fG3LlzP3Prctw9FYDHqYOZQtqoLdwrFnB+XvkSgefupo2fqoumrs7QL9gtMsZY4ZPH41noVQQHByP48nXI3Rdh/jdVStUTUKa5t7cu4rllc9QzLuqSsPyUfN0PZyMVgKQBXNtU/OJ+/198vU1+g8e3ryH4yhVcuXwThr3XYrpHPqdOlJG4ci4WtV3q5OF9Am9xfsPvOBoOVGg5HGM7WmmwjAzRt84h8OoDvIyVQa9KDdjUc0SLepVzTSIqnh7Fyg3n8caiPcYOd4ZpHip0fMhmTBkzHRsCo6FXvT4aN3RFr2/sYGkgw+vw27h4Zg3GblqM+a2G4eeVv2JoI832iuLpCZy6UxXdBtjg7w0nkEQfEPEiGkpYqf3dvT83D6OWvUKXnwfi2dSrAABReVd4NMuppUdu+zwvx4SVNBzbS7jCiO1qKCOv4FxsbbjUyUPEP78Bv6cGF8wZ21GzhWTRuHUuEFcfvESsTA9VatignmML1Kuca8TH06MrseH8G1i0H4vhzqZ5qOfxCNk8BWOmb0BgtB6q12+Mhq698I2dJQxkrxF++yLOrBmLTYvno9Wwn7Hy16HQKOQrnuLEqTuo2m0AbP7egBNJhA8RLxCtBKzUB3zMG7UMr7r8jIHPpuIqAIjKw9WjGfKzbd/nHN/C8sUlVIuU8gVOn7mV1jxaAns3D1QTF/A248/j7LWU1GbWkrpwca30xZ2EGGNp3p3F2l988VCDXneQ2KHXjOFoVpKfsH2+ANgAACAASURBVMSfwOwB83Do/mM8evwCb2XKtPF5rPBdj3JFFuvkIdswZ8cNJOUyArkgiKGjZwhDkwqwrFUHDZs2RT2zwj8g786uxS++DzXougNI7HphxvBmmj2YUzzBoaWr4R+d2zNsAKJyaDniR3haqzgpvr+AdfP34566Akpqo+eM/0NzTQqleInTv47C2D3GmLKvKeoZF+BJWPEYq3t64JfgFLWzSOuOw8OjE3Jezb39+GXDBbxVtRvFVeExdiza57G7rOKxL35bexavVaxbXL0zfLxb5ymJAwDyO7uxYNNlxOf4OxChgos3JnWtDpVHQh6CbXN24IbKH5MIxs2HYXrP2ml/K/As4CweKACJnQvcauTx2JaoeqtE1KmV+P3Yc+T4agexJTqM/wHulYFov1VYeuRpzvOLTNFqhA+6Z/peyjcBWLvoYFqjgGxfBjW6+GCUazkNvkxWikd/YdKETQgOv4sboc8Rl5IWx6VNMOuHAuhSlfAIx2cNwICyI/HnHz5oXVmLCq58h4tbf8G8ACVsJ7bPJXn3HqF7fsX0OatwMDQR5e2bonEtIyQ8vIrLd+JQwakXfpg5DxPbW6q92RJXNsaL3b9iyeMjQNMLmNNYm2Y9Srw4OBGeg1citFJ3zPCdjzFdaqtIIr/H3UMrMH3yQni5XcL1zQewtJul6t9jpnVHnziB62VdMfprHZzcBLxQfOwCaqU6URwfgDneKxDjuRnTDDbDKZkACDBq5QHXnPIque1zrY5JflHg8eqe8PglGGqju7Quxh08hAl11O9Jju0c2zm2F7yER8cxa8AAlB35J/7waQ3NQ74S7y5uxS/zAqC0nZh7QvV9KPb8Oh1zVh1EaGJ52DdtjFpGCXh49TLuxFWAU68fMHPeRLS3VBvxUdn4BXb/ugSpIX8OtAv5L3BwoicGrwxFpe4z4Dt/DLrUVpFkfH8Xh1ZMx+SFXnC7dB2bDyxFN8tcIn70CZy4Xhauo7+GTmrAhzLiOZ7LASvVAR8Bc7yxIsYTm6cZYLNTMgiAYNQKHmoDfhKOjHaEt+87qAstovI9sS5oKdplqj55P76FiFj+idlC3csKBIAgrkmj/ZIKfJNJJ72pmhgEgCS1xpK/rMA3yRgrKinRdOfsUdr9xzwa0dqcpELqbz/9I0iofKPeNGXlLjp2/i7FKIq6wJ9LTrKEOIp+FESbh9imf1+RaR/6O67oSqWIvU9nD+2kldM8yc5AyHoMIJC0nDU5uLqRm0szqlfNhHSE1HkEiTHVdBlE83zDKL4Qy5sSfYfOHt1Nf8wbQa3NpSQga70RJOWpUe8ptHLXMTp/N4Y0rzYJ9CIkgI7sWU+//NCWLKUq9kXVlvTtzNX09/FLFK7uS8tfU9i5o/TX8rHkVlWSXj5BbEINe/9Ea32vU5Q899IoIk7R7HaWZOb8E52MLITKL79LC52k6d9Vr95QWns0iEJu36bbaZ/QR9G5ryf+KV33P0jbloyj9jXKZD0+Yiv67kQeryXkd+l/X5mSKMsxEZGRvSf9uOIvOh4SQZ91yRD3kM7/u46mdrTKFouEMtXJ3Xse/bnnBF15+l79OhSxdD/wX9q8cDg5VRRnfHdRBWoxchn9e/tNpnmjaH0nQxIgJvPhhymRiEgho8TEBEpIyPxJJFmO9aVk1duklyF0as//aIL7pzFfIKl5axo5fz3tOxVCL9OqiSwqjC4FHKatc3uQbZms302QWlDbscto1/HL2b+XLIpuBxymHb+PoTZmGcdC0LWidhPXUeDTz7zATLhNKztWSK+PEusxBXfNmhhGW4fYk6n1N7QmJIf69ylFOC111SFAQrYTz6mfTx5O+35wIBMRSDBoSF47blPGKSmObm4ZSnX1BBKkFtRhQQC9VhuO5PRopTsZCSKq1HM7RWgRtuKD5lBLYxFBVJm6/nk/l99yCj1Y353MxCCRcQuafSG3M1Asbe9hQsbdNlPkjTnkIE2tbyZ9d1OCyvnf0unxdUjPahDtjXhDf/dNizuCHrmvfJrzOSW3fa7pMclXcrq70ImkH38DevVo6NqjFBSSEdtvhz6i6NxCM8d2ju0c2wtFYthWGmJvStbfrCHNQ76Cwpe6kg5AEtuJOc4pD99HPziYkAgCGTT0oh23M92ExN2kLUPrkp4gkNSiAy0IeK0+5skf0Up3IxJElajn9ggtrrfjKWhOSzIWgUSVu9Kf93PZwSkPaH13MxJDRMYtZlNuIT92ew8yMe5GmyNv0ByH1OtawaQv7VYd8Ont6fFUR8+KBu2NoDd/9yVTUdp1sPtKeprDl4p7Hkah6dfIIXTh8Goa3sgovU6KKg6mfxKzL5e341t4OKGajxIPD6eqaclNUaXBdODjAU+6SXt2nKM3KpZRJEbTk8dRlJCne78UCpnVJO2EL6IKA/dRMaxjX6S4uDiaMmUK+fj4FJvPo0ePinq3sMIUs4m6GgpZLqbLtZ5PFwszU1doFBT1RwfSE1JP2Prt12p141lwkihgnC1JMl3Uiky70LrwzFfaKRR9dQdNdjPLuGAWlaXGow7QEw0uyPNbzKauZJj5wl1UjlrPv/j5CV5FOP3eWifLBb6oQnv6X1iKVquJ3TuAKotAEKRUd5yfyvOmKrIHO+lbOwOq4DafLrzVvvh5kiWhqkMeq7S5OFbt/d4BVF6U+SGJHnXdnJcvlEJ3lrtTuczrAkhk3JaW383nivdmPw02E2fajoRsxvmTdqmCTNczQhmqN/ooRX+6M+P30cCKIoJgQt/sSK0Z8vCjtHzG99S+pi4JAAn6ltTym+/pj0sqrshVKUn1NnoreZqIMv12K9KAfTk9WXpLu3pnTrqIqEK/PZR7bZJR0I91UuOa2Iy6b3hA+VNjZHRuYu20eCmiykP+KdhrVvkL8vWuT2WrdqTl19XcFX5Ko+TdWzrzY5PUOCqqRF3+fEDZa4uM7qxol/r7E1WmTmvCVMzzcXX/0jALMQnS+jQ1SMNfTdJFmtZQl/QaDiOfXtakq1uLBmx7oCaJlkIPdwwimzI6VN3Th/7PwYB060+hCzn9RN7/Q0Mq65Pb8ickj91AndKSNzqtf6dwFUHuzYnRZKdXjYbsiyRF4jEaYSFOS/I0p/l3cqk9JSChquOx6rOvOTi2c2xXi2N7vpC/8CXv+mWpasflpFnI1zCh+vYM/djEkASARJW60J8PVNQh2R1a0a4ciQASVe5Ea3KoZ2//HUYWYoGk9aeS5iF/GjXU1aOGw3yol7Uu6dYaQNseqEmqpjykHYNsqIxO9f9n77rjmjq78HNvBlNElCGgKCDDbREHCrKsYt2jWkdddaB1VFCrVmu1WrVqra11Vuuuo462jgrIEPfCvQUVBBQXiCQkN+f7IyEJkKnB6tc8v59/GO54x7nP+57znkHdJn1GATYW1ODL46T9y3lJewY6k3XYj3RP+pR+/Uhx+CNsQz9oJnwa42dFHgP/oByuiA4Odyce5N9I8znXjJapl38OpuqsboMq0evM79uD2aBqMqgbNxmq3G095RERcU8oPiaSeq0qS1oSuvXbp1S3Mo8Yhkd2Ph1p+t/3jRNCLouWRSqEnrGhqFU5b6zMmWE4vvjiizInn//uv0OHDv3bQ2LG20T+Ruqm7h3J96WY1Ir3iv93IKIDw9zkCzYE1Hyu8Qt2xUB9EynfSNr33KJ5w11wnKYFqHmosFUocun1t96P/I3dyEbNoMr3jSGTiI30Ns0PEqjkkRFQwDcXtRsRtEB0aATV4IFY+8601kANlsvcQYPrWJDQZwTtK6epVSDUDaqMNXXb9KY7PI7u/RhGFqU8VQQU+O1Vo+VEcmURhakraAr5dOi1hZ6+YSvLI5+291FX7gQUNP+WkW1+Qpt7OhALhgT+X1CSBgu/6PDnVJsHYiwj6KdMtXkWXaQ5QXbk3HoCbb9upBr3Psktd5+WhKoZCPj+NOm4Li8VKd1dGKw0CgECavjVGQP6JlIoSCzZt19Od01FUlwOrYqyUexZ7ajr+jwTPVgHJLdodWcXsqjdl7akG+JSpt94l394HPkJGAIYsmz6DaVpG1DRcZpcXx4RwNg2o2/OaJsrCaV9HUBChiWHLmspU68ocHR/9UdURVCXYlMLicS3aENfbUZVNWNqr1/pmoio6MQUaii0pw6rtHuOiuJHkYdFU5p1WUokOkDD3ORGNb5PDB0t242nB2mUjyXVGrSLcjki8bFY8uMr1pd6X9JJfQL3zhtUGbLutkmLZ66hMHO7mdt13WDmdlNBcms1dXaxoNp9t5B+yjfEoJpPh8f5yR0iGEtq+k2a1nEWHZ9M9RVrg22zb0g75afR1wFCYlgH6rI2U7/thrtPqz+qQoK6sSSn/A3UV5tRVc2Y2uvXaySiIjoxpSEJ7TvQKm2uo6J4GuVhQU1nXSapur7F96GY8oRPB0f5kGWtQbRLTvgU68dXyG09+lIv4WsYjvMzqLFAv0GVyNj5fXswG1RNhkLa0cdeoSwLqPX3d0hKz+jEgihq9ul2yiorwy//oH7VSi+IrP2H9PMdI6Qjfzv1cVA8Q9Cc5uo7BTbDpBCJRFS/fn2Nxk03Nzfy9fU12T8PDw+ytrbWaVD966+//u0hMeMtQnxiMtXlq+Zf0PArOmf8OvZ+QHKSvqxXsmD7UeyxdyS3CZdNyz+0UhlJGRuKWqXdS/HRui5kp27M9JlAqW+1K2reCcpN+DmjFQyNePkH9Vdb0xiLIJpvtLdMiRLLksPHWw1TDgtP0eygysRaNqDY5LecB8LUBlXuIa1sb0sMwxKjlBMe1RwZZ5xHkPgiLQipTKzQldyd1LyLmMrUbcOTN2ujRpRV7nhUe/Rho9rMZfxCH9oxxPBr0dA/NaWdkND5GY1JAJAgYBZdLhFayV36fUgzCoreRrde52DgvZJbER0aUUNxsAQC60KD/9LtrVW0e4CaVxyfvMel6A8FLkqisd58YoQNaepJEx7SFeykvoqxZizCaIkmz5cKgDR9DXVy5FHloFl0Up9NRp/xTnqNvg8uMRxYU+QyXeHsUroxP4iEjNzgVVWHsZR7uI66OLDECPwo5ogeHpHepR9Crcg6fKnKW1SjUbW8MVX+skxa3s6WbNou09IeMZ2Y5E8WvgrjqeSSWgho79IhoFwe7RtehyxrDaY9uRwRSenK7KYKLuCRR3S8fh74LxhUzdxu5nadMHO76SCl9DWdyJFXmYJmndTjKavfoCq99j0FK5xXGOtIWqYrnl16g+YHCeXrA1tVh7GUo4frupADy5DAL4b0U/4PFGplTeFLM0hF+RqMquWMqYq3ZS6ndrY21HaZ5vaIT0wifwtfhfFUQpe+CVB4lNtT79KET3n7hlMdy1o0eE8ucUQkvTKbmiqMoTyPaIp/DbGSpM2gJgYaVI2b37cHs0HVZCikbR9XVijWLFVr3o8+61yPvCPn0UlNfPpkDXWwKpPbhRFS8MI7Br9RlDiGPEvyp751xdwMIqK0tDQSCkuHlACgqKgok7+rqKiINm/eTOHh4cQwZfMCgXbu3Gnyd5rxroKj9MVtFIqafDPlNTbpzXJmvcOQXptLzRW5sHiuQ2mfgRFfFY6CXfIwNeWGPYQW6Tjyl1ycSR8I1L5bQWv63phDtDcFl06L2whVBmC+F41NMo3UiJNU6xEAEgR8Q5eMttTm0brOlYhh7anHJkOUw6cUN7YuWTA8ch+0pwK8c/TA1AbVp5uouz1LFk1bU1OLEo5nyKrzbwaE8pVARBe+a0V2rCU1jP6COtir1grGKpKW6Xd/ey2UePGUtNmy/SoyIHusAkV0JMaPBAxLLj03lT+AJlLIrgUx4FOdL47IuS7/HP3cpw31+OGkwWGYZfF+ya2U7nzfWmXcYCyo3UrdoyxJU3l+AAzZ99aWA7MEHOVs6kmOLEvOvbdSrgnFRV1GBAEz6eJbOwCU0tXvWpIlIyCf6P26c4vrMd4VJY4hL8VBJmOp33AgvTKbAhXjzwjq0uQT2vi2kBLHeBNf4Tmm87H5m6m7nbC8p2Apo+o1uq7JmCrvJKUvDiGLSt1ooyZikV6mWU0tyO2z/YoQ0We0tmNJCGgILVY2jqNHfw4lL4vaNGTPI7mizt2npeGKa1lH6r/LgGQy/wWDqpnbzdyuE2ZuNymkV+m7lpbECHwoer+uugD6DKpFlDjGS+GEwJBl2BLd3ExSujI7UMkbgrqTSTvlJ9IYbz6Btaf2yzN0eqnmb+5OdsIgmn+rtL5Qyqh67bpGY6q8m+m0OMSCKnXbqIFvpHR5VlOycPuM9it0q2drO5IlAwKEFLJY1Tbu0Z801MuCag/Zo0jbwdH9peGKa1ly7L/rtdKHGWdQJSPm9+3hXayT9Z7CAs3CWqIyCwAyPDm9DydsRmLzzslopqEAG+w7YcyoANjzGNVvxCHr3n0D38fhTupxPOAAgAfn4AjjKsWZYRI0atQIs2fPLvf7gQMH8Ouvv5r0XZaWlujbty8SEhKwePHicn8Xi8UmfZ8Z7zBkeUg4fBYSUvyfrYaQyEDNlXffe8jwMD4BF6UEgEGlFqFoaflvt0kO8al4pD5VVZPl14/AhzoqaTJWlihd97QA+S9Iy9WmhywvAYfPSqASmxBEBppCaqS4kpCiWI8AgA/viA/ho63QqTa8Oo6U04WATWt0aGuv9/KCxG8wZvk1FFs0w+hJHWF8jdp3C4UpcTiaz0P9qN5oVK1ke0aQZmciS2dZXxXE57/HyDnHUdxwPH4Ie47z+SWzzYDfKAIRLhWz7RPUq486yv0MQZpxC7eLDbuXu7MG36y5Ca5yJL6a1weumpr4LBnJ54tBbFW0Cm0C2e3tGNPlC1zuvg5bxjeDfmnRhPdNbnlwqV0TtkrRkCE36yG0FaIGAFmxRO3vhFePcvBMVwHs4nP4eeGfyBM2xedTe8LJZOIixaWkY8jhAICPWsHh8DV2nF8bPPgOHomoKhxurRmDyfufwIAa4BpQiPiNu5ChGFCeZzO00FOhnefVEk1d5WsCSW5i9/bT0PxZWCP485EIsia8iF+MRcmFWp/JZWYgU2SL2t7upaurC70xYN1BrO5B2DnkAzQZtA2STstxYOMQ+JVaeFi41PGCvfgB0jPLE4vswSEkXLZGq8ggyJdaK7i6VoVcvclBZqZ8AGSP/sTksZsg678E8zo5yv/+LBGHz4hBABjbIESG2Oocn/8KzNxu5nbdMHO7ScHzxeCRUajC3cKaMZOx/8nrMT4K47FxV4ZinHnwbNYCuimfB6+WTSGnfILk5m5sP63lY7EOxucjg2BNLxC/eBG0Uz6HzIxMiGxrw9u9tH4h9B6AdQdXowftxJAPmmDQNgk6LT+AjUP8SusarAvqeNlD/CAd5Shf9gCHEi7DulUkghS6lZWrK6oq7Fk5mZny/sse4c/JY7FJ1h9L5nWCo5zwkXj4DMRywkdQZAjeCuOban5NCLNB1WTgodbwLUj+4xf88NNv2HPiCs5u+RzNKmu5nHVC+4UnkXH7NJITj+F80lcIFLCwr1rVsNfJHiHlyBW5kLP2CG7XCtYm6okZxiE2NhYhISHlfp8wYQIePHhQIe8cP348YmNjS/0mEokq5F1mvIMoTEb88VdKwxhj1woRrf9fGSAfqclnISIAjAU+CG0DbbT6diHFhbhktc0JH97hujfsXE4unqjZTxmeE6rrUchNicLkeBx/pVLC7FpFwCRiw91DQuI11eae546wdk2MNvAXpyXh6GOCZbN2aFtNz7hIL2LJ5JW4IQGsgj7BJ77aDdnvB8Q4cSgJeawnQtu2hoeacizLycRDXZpVCURnMG/kPJzkGuGLZZPAO3oEj5X7TD78wiPhVUHDxFb1g49am7nM27hTZMCNsif4a/YCJOZbofmkhRimpYGFRxNx4iWBsWkK3/xv0DaoHzZY98eMHrVf/yDpPZRbYU0PhbIGABxyszK1K92yx9jzwzpclah+osfZeKhV95Ahe9tcrLjIwa3PVIxuaEKtmLuPpJQbij1rNbQKD3irB4Csc3cM7OQERnIX67+cj+OvXuMh4hPYn5ADOeUzsPZviLr6OiGoj0Z+AsjNUVLc/XsXtOnXPJ/BGNPNBYz0NtbPWYs7WgxtJJVACiEsLDT8UVgLraIC4EwiFMkc0aRdK3hquI6xEEIIKaTSsgd6MjyOi8dZXnNEtCnxBuHB3d1FrjByucjMkgKyHOyOHYctbH/8OL+jQrkGCo/E49hL+eGnRdMIhL/vp1wmgZnbzdyuH2ZuNyVYOHcfiE5ODCR31+PL+cfxepS/Hwk5CiJmrOHfsK7evgnqN4KfQHEAIb2Lv3dpO0TjwWfwGHRzYSC9vR5z1t6BZsonSCVSQGgBzZTfClEBziBREWSOTdCulaeG6xhYCIWAVIqylC97HIf4szw0j2gDJeO7u0P+yXPIzcyCFDLk7I7FuC0s+v84Hx1VhI/4Yy/lB2gWTRHx1gjfNPNr2haZYTqwVdCwazTGfz4QnQNdDSAUFpVrBSAktCX8kY9nrA8+jPI17F2FR5CkOAVmq4Sjc8S7YWL4L4JlWWzYsAF2dnalfs/Pz8fQoUMr7L0LFiwoZcg1e6j+dyA6GofU5yU7JwZWzSIR9v9KAaITSDxeIDce8+shJLT6u7FwcbeRkHhTtQHiuSL0Q10bdg53jxxDuvIGBoIm4QhzfFu9EeFoXCpUYmOFZpFhJjFOyx4nIOG8muerYxu0a65p66cLHG4npiCdE6DJhx9q9mRRw5Pd8/HLWRGIsUTLbl1R450QijdAcRoOJWYBzsGICPCAe3UeSnyCZHlZyNR7XvYKJ+eOxIIzMjT6YhmmNbuHw8n3SimUbSIboMIcRwS+8FdTmEmcjlsZ+i0Fr47Px1dbMsFvMAaLxjXQ8v0U41ziUTyRAShOwS9z9+L6EykKEtZhw00D3bs04H2UW7ZmDbgqA5sITx9ma1UkpJdX4PtduaW8MbnHOcjVNi3i01i64G88sW6F8V+a1uNb9iQRSWnysWYqtUR4q7d9AGiL0A5tUIUlSK6uxMy16VqUV+2QXk3GsYcld/Hg5uWlUcEtBdYe3p7OyjVLmn4Sxx5oe7MDOo8bjHoCID/pByyIK9D8SCcnVGWeIzu7rEuTFHe3DkXUsL3gd5+D73pZYv/ojzBow81yCn3Rwxw8ZarCqZybWj4S445D0igM4cq1iQ839+rgMwCoCDmZOcjaGYPx2wUY8ON8fFS15DoxTsWnyr9T8NEgPFLv9/CfgJnbzdxuAMzcbmLYhqJDmypgSYKrK2dibbrRjI+rycegonw3eHnplyHW3huezkrGR/rJY9BO+Z0xbnA9CJCPpB8WQDPls3ByqgrmeTbKU/5dbB0ahWF7+eg+5zv0styP0R8Nwoab5RgfD3OegqnqVM4zOT8xDscljRAW7qhcp/hu7qguJ3wU5WQiJ2snYsZvh2DAj5j/UVXldeJT8UhVeIfyG4Qj8m0S/hvPr2lhXureBUhvYvWczSjq+hXGNjXsXEeUGofUFzIALJw/6ouODhXbRDN0w8PDA0uXLi33e1xcHFasWFEh72QYBtHR0cr/mw2q/xUU41x8CkoOTcEI0DgiHM4mZ/Ni5JzZjgXj+qFzeHM08K6NOo1bo8vnK3DCiPCKV/eSsHLKEHSPaIa6np7wD4zCiCXJyOaeI352L7QLaYr6ft2xPEPzYlh8IQlHc+V/49dshbCSWKJXV/D36hVYsULTv9XYd00M7mUWLqXsxfqlsxE7vA86BDeBr39X/HxNy8JbfA3rBreAT53G6DBhO8rtSdQgy0lAwkWpasNetQ0+bKFjs/X8EH5Yc1Z1OsxzxccxQ+BjsBPDG85H8TnEp+RAJTaNERHubJJNQEFyAk4WKUcCdq0/RIiNkQ+R5SAx8TKk/HqIbO8JncMiu4ffV/2JXBkAvg+CWr2hkf3VPSStnIIh3SPQrK4nPP0DETViCZKzOTyPn41e7ULQtL4fui/PeJO36AR36xAO35bBrlUkgqyt4epaTdknkuYgU09caOHxOYheeB7UOAa/TGsJy/sJSLyq0q7YaiGIbGasQmkEWCf41nFSzRt3D7du6YkLlV7Fz18ux1V4YciCyWipTQ+T3kTikXuQgoea3ZYj6dQ6DPLhg0Sn8NvaU1q8P/TjfZRbtnINuDuoQoZluZnI1KhEP8Xe71fggkMoIuoLlL/S8xzkaNTSZcjaMherrhJqD/gKw03s8f0qNQmnXik8Fz8IQ2ip6FkpHqasQEyvEDTwqg3fwM6I3XoV2oPeXw+VwyLR3JIBqADJK1bhjJGC8+L8edxWjjULp+ouBhixeHB2UX3L4G7g0iXtezVhwAiMjrQDw2Vg83ercF3DZ89WaYImnhzOHjmiNkZSpG/9DFFDfoe0ywrs3zgFX64/iFXdgV3DO2DQhttq38krHD1yGpI6zdG87IHeqyM4lFoIn7AI1FITAfUQ0IfnlmHshJ2wHLgU8zuolGtILyEhJVO+xvDrIDzSS/f38DZg5vY3h5nbzdyuA+8Ct2tGZYRFNoec8pOxYtUZI+XpBc6fv606uGCdUN3FgGMLnjNc1LyZuRuXoJ3yhQgYMRqRdgy4jM34btV1DQd9LKo0aQJP7iyOHFEbOWk6tn4WhSG/S9FlxX5snPIl1h9che7YheEdBmGDel6OV0dx5LQEdZo3R2nKf4Ujh1JR6BOGiNKED1fFQZns4TksGzsBOy0HYun8DqiqInxcSkhRROnxUacCveQ1403n18T4t5O4/ufBZdP+cR+QU/3R9LfBGaJFdPhzT+IBxAj8KTb1XanQYkaPHj3KFYuytbWlu3fvVsj7RCIROTg4EACaN29ehbzDjHcMahV3ARAEDemrM6bMAM/Ro+PLaGjL6mRp5UkfTdtIR25lUXrKHIqoysqrFXdcrScxOxE9P09rhgeRm6UluYdG008HLtL9p8/pYdoOmhrmTa2+XkxD3eRVeQ0O9AAAIABJREFUavl+E+mYxsTtUroxryUJFAnPnT7draroKMqg43/tpPXfD6TGtoriDIyAnAN60rhvV1Dc2V00vfcn1P+TrhTqU4X4apV1a3y2X2PidMmZr6hhSZJ/xpZCF9/Q2r0n67tSZeUzGbLvtpG0lizIP08/dnJTtYGpRAExcYqk7vpgmvmQXPqGAtQKYgkafkWmEZsi2v+Zm6o6LWND7VdmG58k/ulG6laZ0SELKkjvLKIQRWEP1mkg7X3taiHP6fya4RTkZkmW7qEU/dMBunj/KT1/mEY7poaRd6uvafFQRd/4fjSxbMNMVpRKXmTOQjl2Ero8K0BVoIJXg0Yc0lE6teAITW5kSax1AE0/UUhEHOWs7kA2avJZudvGCi7axdG9H0JJqFz7BNTiu+ukveQaR/fXdSVHlkdu/bZTjg6B4e4vpXBLhsBzo88OFBGRhC5/24wsGBDPbRDtNbyqixreU7mVXKAZTVT8z3P7jPZrEA3JpTnU3MqSAmedom19qxCrXC+a0qzLGmalKJVi/QXE2rejX3QU1ns9iCjx89qKsRZQwKzLpKQe8R3aMaYZOfBLF9pkBL40IcWEVaiJiCSnaWp9xdjxPGlMoobnay2AJKFTU+qpFY2xpR5bDKsvnLeyHVmofReB317VeX3BgeHkwQOB506D92r6asV0LNaPBA5dad1DjogkdHfrQPKxFFLt3uvourocim/Q+k+8yMLCi/puuEViIuJyNlEPRwH5TzperpCl6PBoqi2oTaMPlx4b6eVZikrODLEsS4I6I2h/mepe0hvzKUioKB5ZcyTFGTp9FVKU6g253WRFqczcbuZ2A2HmdpNDcnoq1S+pQO85hspTvo6iVJJTNKWeaj4Y2x5kGOXn0cp2Fmo6WiB9e1XXuBfQgeEexAOI5z6YNFP+MYr1E5BD13Ukp/y7tHWgD1kKa1PvddepNOWvp0+8LMjCqy9tuCUmeTGyHuQo8KdJx8sIsugwja4toNqjD5cuYiW9TLOayvvOsCyxgjo0omzxJ+kNmh+kKHLLq0kjDSb88jC6KFXJfXrn9+3BbFD9F8HlHaMlvXzJrcVE2v9QE9VL6NbvMdQ1LIJ6f72PlAUci+IpuhaPAJYcOq6h++9CeTMziIgoLy+PqlevXs6oGhoaSjKZrELeOXbsWAJAM2fOrJDnm/FugUv/gdpYqDYoJl1EJHdpV0wIVRcwxHcJoxlxD9U2zc9pXScrYgBirDrROh2lV5+fWU796lYilnWglpP2UVaZvQSXvoTCnOzJjpUbOFXVhMuAy6FVUTbyBZupRJ3Wlq96yt1bTR2rsMTaN6EhK09pruAsTqfNfWspDLMgtmpP2pyn4bqCFJoWYKfYoLLkPPgvLT0soN0DnFQbWcaaPlyeVW7DLn16lQ4sj6EO3oo+gCHW1od6Lj6mu9J0CUw0H0Qcpf/QhizUjMqeYxLJJGIjPkoxPnzVplPYmr6/Y/ym/eWegeTM8qjWqAQ97eIo65e2ZK3oi6D5XLr+OjrC8zO0vF9dqsSy5NByEu0rL6S0JMyJ7O1YlXJTVkhNZVDlcmhVB1tihK1ogaKK67O1HclKaYC3ok7rtGmW+ZQc24AsWGsKmHFCofTn07beDmryaUWRyzIrvBKq6MBn5KasqsxS9SF/a/6uiYie/k2f1eYTW60TrcnQPYFPN3YnewbE2vekLQo557J+pU72LIGpTO1X3FNVoX2WSZnPDejp+yq39JR+/UhRRR0gxrIDrSmngD2l3QPdSODch35/JKJjE/0UVYpB4HlQdHzZlnJ0b9VHZM8KyC/myJtVM9cEyXma0VjxnfB9aEKqQqkrvEjLOruTrceHFLviL0rYM4c6uPKURpsPvr5Api0WXUC/f2yvGDu1iuLq0Gq8K6Jd/auqvinWkT41UOsr3NRNOe8Aj2qNTtB9g+QyzWluSQwYsmoxly5rGATu3mrq6CCkOsP30pmtg+TG1I/X0nVNQii+Qb/18SQLC2/qt+EM/T3KlyyqdKCV5U7hRJQ01osEjv3pj7Injs/WUScrRmEQ8aHoA2WFjqOHK9op+slS1b47DK/2bGqDqim43VQGVTO363yumdvVYeZ2k6Pgd/rYXqEv8evQF0fKMr4Og2rRLupflVXKkeGGvkLa1M1aOY/g1aLRCbolSHJ5DjW3ZAiMFbWYe1nD2HB0b3VHchDWoeF7z9DWQXJj6sdrr2uUTfGN36iPpwVZePejDWf+plG+FlSlw8pyjheipLHkJXCk/uUJX6lfgBGQT/SBcoc23MMV1M5acYhQtS/tMJjwNfT/NQ2q+uf37cFsUP0XIb2zmaZP30qXtQlh4R761FHxMfN9KfaY/KQhd3MvcmRBbJUI+vHaW6EkM4zAgQMHyhlUAdDSpUsr5H2pqakEgKZMmVIhzzfjXQJHuWs6ki2j2ti6DNpLhvnJ6EHBOfq5mwcJGRBbOYhmny6z9ZJepW8DFSeWlbrTZi28lX9yHoU78ohhrKjBuDjNhkPRYRpdW7G5Yu2p5xYt1sCCHfSJYkPDCINpYdlNccEp+i6sGlWuP5h+u6x7FLjsDdS9moJPmcrUeW2OZiUk/wKtHeBHVoyAGkw7o/lhogQaVYun+r4ZAVXzaU5h7TtRl84f0YfhrSnApzrZlpzMMzyycQugruN/psP3DDRjmmg+5J3PpTUdbVUbPNaFBu01idSQ5PKs0p6vjWdQmtHLkogOf16beKwLDfpTX7sKafcAR4VCyZBN1w2Ub+zr8k/SvHBH4jEMWTUYR3GahZQOjy7xvGDJvucWKielpjKoPttCvaqwpbyGRQeHk7tSgRVQ09lXNHoEPT/8BdUVsmTddAadLNmEFh2gYW4q+WQELei719PwjAKXvohChCpZEIYuoXsaP7IiOjG1EVmwdhS66KoexaqI/h7qSjwwZBW5jLKUz3tJ8aM8iQeGBD5jKfElEdETOhg7mBZqskCVwXspt4p3HhpRQ+V9JQigby6Vbrj06jxqZS2kJtPPkJg4ur9EzbuMsaVum8qQRWEyjfcREFu1K63LMr1phktfrDwEZKsPob8KiUh6h9b38qba7b+lxByFbHLZtCxSqJT54IV3dXjBvQ7EdDTGV2mAEATNp1tlX6DVePeSNnS1UlOS3WjYAcO4vHBHH7JXW7Md+u/ScwdHuZt6UjUWBJ4r9duRp2GtEtPFRWHkwBOQQCCkWr1+pWu6miO+Qb/19iShQEACfhUK/f5CeWNywUEaWYtHwrAfyztqiA7RiBo8uXI96mB5j0juIa3pWFkxPkIKW1r+gFF7d01oUDUVt5vKoGrmdh0wc3vZd/7XuV307D5dOX6IdqxZSNNH96Uusbu0R34ZAvFRivHlK98bNP9WmffqMKi+3EBdrdScV9yGkWGUX0g7+tir7bcdqP8uPRZCLpc29axGLEA81360I0/DXIkv0qIwB+IJBCQQ1qJev17TaegX3/iNensKSSAQEL9KKH1/oSzjF9DBkbWIJwyjH8sTvkIWGRL4jKKD5QmfHq7pqIzSE4YtpTcRr9c2qOqd37cHcw7VfxE8z76YNasP6tlquYDlg69I18FWa4QPavMhu78N46bsRp7QF4NWrcVovwpLQ27Ga6J9+/YYNWpUud+//PJL3L592+Tva9KkCViWNedQ/U+gEMnxx6Eq1G6HoIhgGJsaqhzEl/FTz/YYt+ceJKwruvywEVOalk56JT63CdvTpAAY2LaM1FgdXnxpKXp1mYbEx4TKbWZjy/xIOGhaZeglChWdYCwCEd7GTsNFgPhUIo4pqijxfUMQWlOVoEf27Bi+69YDq2yn4GDKGgysp3sUWJceiO5VQ54Hi/KRvPcgnmi6sFJDDFwwBq0sqiGwhb/GZ0kvxCE5U5mNFHzXxgisZQXx43ScSz6IuMOpOHszGy85KzSN/hX7Tt9DbuYZ7P5hNMJqGpDrzETzoURhMuKPv4JKbIIQEfzGUgNAhuzDSbiiTDLFh0ebCPgbuyxJLyIuKRNkH4L2+tolvYuLV58rijGwqOZqSAFINYgvYWmvLpiW+BhUuQ1mb5mPSM1CipeFijFjLBAY3gaapfTN8epIHFJfMHAPiUB9xdjxlVVWAUCmqLRaBs/jMX3UMlwTBGDiL1PQzFL+c/G5BKTkqjJx8f0iEPkWkluxLn6oU1Utd1jGLdyWlL+Ou7ECU36+BLbJeHw/2l93Hsric0hKfQQOfNQPDVPLFW2D0ImT8GEVBpJbKzFi6AKs/GY4llkMxch6+gTwPZRbJfioUVMtP58sB5mZ6lnXnuPAomU4Zd0RX4xqAiFYVHWrDuuSYickxuOcx2p52jhkrJ+DdbcZNIyehr4VUFTiWXIyzhcTAAZ2LcPRyvI5Uqb3xVxJLP7aPQ2hzgrZFJ3C6UuKSeG5oG5DV+15C8UXsKz3B/Bt0gNLThuakY8PV1e1AlFX05Bm8LZJguJimZJDAQGEBqatZIUWEKgVm5EW68v0xsKpxzh8WocPhsvGznk/42K5W4RoMH4Tfh3qDYHMFi5udmB1peKUArauzqgk48Nr0BpsmtCwjPy9woWf5mDzPRnAScvn8eO7wd2ZhaDOMPz8bbsyRW1keBw3Fz/E5Sv4koFAyH/7RTrM3F5hMHO7rmvN3G4Kbpc9OowVs77FrNih6D8sFrOX7cBdixpv9m3yXeGqViDqaloaDKf8YhTLVIwPgVB/EUIAAAuhhQAqypeiuFhPnQPWCT3GfYo6fAZc9k7M+/li+XygwgYYv+lXDPUWQGbrAjc7VmdhRSls4epcCTK+Fwat2YQJDcsw/oWfMGfzPcjAQVqe8OHm7gxWUAfDfv4W7cpUMZM9jsPcH+KQLydRMAIh+P+GRfFN5tfU+JcMuWYYBAndWj+Q6lbmEVu1KfUa2JWaudmSnU9Xmn0o8+24y5vxWigsLCRfX99yXqqtW7cmjjP9KaG/vz+NHj3a5M814x1D0QEa5q7mnWDVlpa96akzl0eHxtZXhKDxyO2TbeVzXhWep7mt7eTh5dZNaMoRDSf2L4/RtAB5mAtjGUAzzmg/O+XSFyu9HQTN5tA1jUeKEjr3VSOFhwiPakbHKU9jxXf/oNEBNSjg812UbgQRipLHkTdfcQrq0Iu2anGMlZz7ihq7f0q7NboZSOna3ObK9AGAgBrPSFPwsZRuLQwmS/V8rcMOGOdBbKr5UEPRgWFqHjEMWbVd9kanySo8pY3dKpf2fP3TeD8e6bU51FzAUKVOv5LeVOJFf9PQ6iVhWHzyn3SivKeVVrykY9MC5KF5jCUFzDij/YSfS1d4RYEgaEZzNAmpSTxUFTnIWCf6dLfaPD5bSx2V3hEMWXVaV8aL6ikdHOVDAsaGms08rRZ+KaXLs5qqcvSBR7U/N1F6B32Q3qHvW6vlHLNsRyvLZungHtKmni7EE/jR+ET9MWLSq3OomUAepRNztOxMS+jqsihy4jEERkhuHZfSBYM8G943uS2N/I3dVDkUGUvquFYlGdLrCynERkD1J59Q8eXRWPLlQ/lun5ijqne/TKDR3nziVf+EthmW1FmOwmu0ffoA6tShB435OVVH/1/SnoHOcu8txooifr5PD3cNpcB239O5MrQlPvIF1VG0k6nUhX7T4ZokThpLXnz5t2Hfe7vBzS5Y30XFz4JgWlg2p6BWb8iyYZyG54wr+qMfObAqD9VqA3YbcJeU7vwYLo9GYZ2o12YtERVcLiXOakfuFixZurei/pMX0Kpth+jkrWzKy8mgK0f30IoZA6m1uxWxQjdqOzOh3Hoivb2TpnRvTFV5jJLLagb1pOiFcZStvPY5revemD4/pM5CErqwfgINiGpMzkL1PIkM8av4UUTvzyhm3Xn9uopJPFRNzO0m8VA1c7vOR5q5vRzM3E4kvfEdtRAYx7HaUUDru6jSKAiCF1JpytfhoVq4ibpZq3moGpwXuoj+6KeWloOtRgN2GyC80jv0Y7g8kox16kWbtSQf5nITaVY7d7JgLcm9VX+avGAVbTt0km5l51FOxhU6umcFzRjYmtytWBK6taWZCWXWDult2jmlOzWuylOmIrOuGUQ9oxdSnIrw6fm67tT480OluElyYT1NGBBFjZ2Fqm8MIIZfhfwietNnMevo/GsYp17bQ1Xv/L49mA2q7wEkOWl04PdfacWqDbQr+QYZkkLGjH8fp06dIj6fr7bJlP9btGiRyd/FcVyF5Wg1492B+GgM+fBVSoug5Ty68UaLB0fZ2/uRu0KRYmza0KKyDyy6Ruv6eJKAATFCD+q26qqGzeJzShhXV5Gjk0+eIw+SrloC+dv7UFVWfq1v7DHNm0/pXVoUoli0WQfqsy2fiDjKSZxNH3p4UNSCY/TUWC4UxVO0R0mqAScNeYOIiKR05dsW5BMdp1mB4u7TTxHqoZ+eNCZJ1QMuczm1q6TahLFO/WinzvympR5uovlQh5iOxvio8mwxAmo574ZpwmKK9tFQVzUDv11XWm90fBZHWcvakhVjRRE/3dcfJloqDEtATZTGbP14njCO6irC0/ieI+mgbiGlPop0E3zfWM1FKUxhUJWcoin1BeXHTnSQhqsdngiazqYryknjKG/fcPIWMGTbfBaVOrvg7tGPYZZqCqUzDTRRegf9KKK/BruoFAllqiIVnh+KJm8+nzyG7CVNUW3GQ0T3jv9Few9fNSwvMdF7J7dloTImKkKGZ11WfM/5tH+YBwmqdKJfM1Ut4u79QKHKcF2WHPr9oTDSSOn2j+Fkx1pR8zmXjGhPEaVM8FMdKrFV6aNV6Zo5RZxC47wV+yBBIH1z6Ffq1aw/bc0sO2ISuvRNgNKAZRGySKdiJE1fTu3tWQJjQ81npxnc8sLfPya7knbz/WnSiTIfto4cqn8Pra6mJLvQkL8NzKG6tadamh4e1YyON6yxz/bQIDceAQwJG06lkzqU+fwrO+jrfsHkbS8opegCDAnsvah13xm0/fJrVfipeJjAoGpybjeFQdXM7W8IM7f/F7k9f1tvqsKCWIc+tO31cieooZB+/9hO+c3w/SdRacrXlUNV3VAOYl2GkGGUX0hbe9qWOnwrn9tWM57tGSTPVcwIqeHUkzoOS/Lpyo6vqV+wN9kLShf9AiMge6/W1HfGdnpXKb8sXt+gqm9+3x7MIf/vAfjOjdC+9xCMGDYA3UJ8UNk8a+8FAgMDMX369HK/T5s2DTdu3DDpu1iWBcMw+i804z2GFDfjk5CuFsrkFx4BzzeJ9nqZiG+nbkMWRwBYOHX5HIN8VA8suLINMR+2wbBt6WCqt0HsjmRsH+ZfLpxJfGYxJq64BjEBjGUgho2NRGWtL32FlH+O4LkMAFsNQSGNNIdHPU1C0nkJCABj2QyhwcU4vrgHgqLmIH/Y39g9sSWqGMuFFi0RFe4kD6mSPUHSP0fLh4eIT+G3nTL0HREKjVH0zxORcFoEUvyXrdoaEU1VPWCr90D/tvbKsC1Z3j5s+vMR9AT8yGGi+SgF6U3EJ6WrQgr5fgiP8NQeSmsEpNeO48xjVeoDYZM2aGNv7FPykZR4GmJBY7T90FV/mKioCEVqYVgCCwsYxHziM1g8cQWuyYUUgcPGIlK7kOJVyj84IhdSVAsKQaPXi+HTC+7WISTckMIiIBxh6mPHd4e7Ki4UspxMZCkmUfZ4HyaPXYc7Fs0xefkkBKjHoT1LxOGzYqV8MnZBiDRJegdDIIC/n5pscVm4fbtI9WfxGSyesg7p1brg29kdUdUkexkL1GzREZ3D/DWnF9GA90puNYBXsyaqK2+WITfrIaQAuNu/4vutD+E5eCL6uqlaxFZzh4syLlSGl7k5cv4tiMf3S5JR6PYJpo2qrzs8Vx3S20hMvgNJSXdkT5H8z3GNoXbSG4eRek8uuPzadfB4+Qa4zPoRH7uVGTFZNhKTryh4ig//0AjU0EFSvFoj8fvJROw/fAYHpzYytOVgLSwgVAuRLSoinderwIebm7Mab4ohEhl2JycSq8YKLFzcXA270b49+nV2Aw+E4isbsCZR+wsr1e2JmZtScCvnAa4cP4y/d27Blh1/I+H4FTzIuY0jm79Br3o6CO99hpnb3wLM3K4VZm43IbeLcSzhKPJlDCybhSLkjcWbhYWFECrKL4LhlO8GN2e1hopFMIzyOYjEEqgo3wVurobNgH37fujsxgOoGFc2rIF2yq+Euj1nYlPKLeQ8uILjh//Gzi1bsOPvBBy/8gA5t49g8ze98P9K+Sq8wfyaGOYEnGaYUYGYNm0aDhw4gBMnTih/E4lEGDhwII4ePQoer+JzH5nx7oCIcP78eaSmpuLJkyfgOA61atVCx44d4eLiovtmWSbiD19WGcZ47mgT2eANSFyGjPXzsOGOVL7w82qix5COcJC9RPrRPdi0djlWbj2OXCtffDj+O8z8ahACNe1qZbnYOX850sRyI6B9+xEY5KtDrl/8g237ssEBYGwCERykOfln4dEknCyUr4x8T0dkxAQj9vdreEksXpxLwwtZfTgZvWm3RnBkK9it34nnMg65x1NwSdoOTZWDKMPjPT9hn+doJDTQPLIvk+Nx7KVSpYFty3C0Vt/0sY7o1L8jnPZsRI4MgOwF4jf/gaz+0aihs70mmo+yT82Mx+HLqgxtPPc2iNTSN+Mgw+MTJ3FDzcDv06o1yu6l9aIwBYdS88Gr1xbtDTkd4PFLyTwnlUL//kmG3J3zsTxNroyy9u0xYpCvDqPyC/yzbR+y5UKKwOAgzcb1N4YMmYcScFHKR/3wCJRKccZzQ43qfDCQb8xlTx4iqwiA4BH+mjwO6+9aosXs5ZjYpHRWr5cpCTiuJp+WgZEIf2ubah7c/HxQhT2GRzIAJEbG7XRI0Rh8cLizeiqWplki/Md5+KQC8rkZhvdJbrU8yrkG3GwY4DkBkCHvYRZEeIlTi37CEV4EfhrbCpbqN/Bd4ebEA57LO02Pc5Aj45C/+jtsvmeNkIWT0cEYowPfA00D3MA/lwEpAWDt0DSosYb8cjJkJ6Uo8hkyYJ4m4XTNjfinnUN5I8WLZCSWGIv4tRHWVk/+RQCVfUIQ5WNEuwGAYUobOww+iObDy9cTVkya3Ngge4UnTwqB0iOtARwe5z1VHagxNvDwqmHYK18dx1/xD8EB4NfqjN6t9b0LgIUz/Fs4Q3P27/9HmLn97cDM7Vph5nbTcXtxGhJTc8CBj4YhoXA0gSiVdTYynPK94OtpBSZN8Z2+egLDKP8x8p6qXCgYGw946TodVMOr438h/iEHgI9anXvDMMr3Rwvn/w7jl8Vrz6+JYfZ1NMOMCgSPx8PGjRthY1P6mO3kyZNYuHDhv9QqM942UlNT0bt3bzg6OqJp06aYO3cuFi9ejDlz5mDYsGFwdXXFtGnTQKR9GybLS0D82WKVZ2S1EEQGGlgVQxO469i8IQUl+3PGqhLuremKD2pWh3/n6fjzSV0M/XEfLqZfwb7FQ7Qa77iMLVi9L0+uMLKO6Diwu1rBhXK9QNaOtfjrkQwAA0GjEC3eA8U4m3QMJXsSyZXfsTHLFV7WDAAZnh5YhQ23daVj1w67sAg0s5CvuNJbp3H6sZrvaPFF/LLkJjpP7K2lD2KcjE/Bk5JbGCECwkLLFOgAKrcbgK7KDRShMGULftfXXhPNR2nIkJcQj7PFSqlBtZBIvInYqCDB5QvXVJ4MbDU0CzLCE0KBV6n7cPgxC6+I9oYVjhBaw0qo2jEViw3wGeAysGX1PuTJhRSOHQeiu3YhhSxrB9b+JfcqZgSNEGK8i4thkOUhIf4MxDwvhEZ4lzECWMHNtapyk0bSbDzIKkbO7okYtzEDVi2/xC+xZRUdMU7FH1GTTz4aR0SqFfuoeAj8fNW85jlk3LyNYgCy3D8w/bvDkDSbiIXDyvb1beI9kltt4NdADRcVv0hzsvDg5jrM3/IAHv0nYoBHmQnnu8G9uppH3OOHePj0IBb8mAqR56f4apiPkfNRCR0W7sW62I/RNqIThi/Yhc3j/DU84wWSE89CTPJ2ygQh+GJqqMbohVdHE3GiQD4pPNdwdAisGLdBmVikaA8Axgo2Vobfa9WwEeqoHb7l5WSXLyZUDhxych6rDCx8HzRuZMhLZcje8SM23ZECbGWET4hFqLYCtv9lmLn9rcHM7Vpg5naTcTv3IAWptzmA743gsNomkCUZxCI1r24rGxhO+VZo2KiOSn5kecjJ1s/44HKQ81ily/F9GsMwys/Gjh83QU754ZgQGwoz5evDm8yvaWE2qJphRgXD29sbixYtKvf7119/jStXrvwLLTLjbeHkyZNo164dgoODsX37doSEhODu3bvIyclBXl4egoODAcg9V+fOnYuff/5Z67MKk+Nx4pXKO6FSUASMj/aS4tqfaxGXwYG7fxCHLpSEpfDgFtIZnTqPwc9xt/H0STpO/7ka34yIgr+9rmWCQ/ofu3BCJH8K6xCBLhGVtF8uPo1lS//BC5n8nd6tguGuacckvYHE1HtyZZW1Q9Pxu3E8bhsmRVUBC4BEJ/DburPlq2AaANaxNVrVlW+RSHIV5y6UlKqV4eHv32K7+3iMbabF4lh8AfHJWarKmvx6aBPuVn4htW6DAb28lRsxEp/E71uu6FS+TTMfZVGI5PgTUIlNJQRFBMN4sbmGP9fGIUPdJizLw7Wbj5RjwQgbIrCpsUaQQiTt3IeHjDc6dg8wrDIuvzpcnVQKh+hVkd50Clz6H9h1QpGmgXVARJcIaJdSMU4vW4p/5EIKnncrBGsUUhOgIBGHjhWCdQ5GRJOyvefD1c2lVMXfB2k7EDN+M+5bBWHKLzFoXFZMpRcRn6Iun34Ij9SX3oFDsegVXr3S9k8Ekb4KtWrg1fRDHWVeIhkK02/hgfQlkudOx84n9fD5wvFoWEEhtgbhPZJb7c/yQE11JTr3Dv5YtBTJFIyxX7Qp/32zjnBzsVZ6ZsqeZePEsu+wNbMS2sZOfD1DXaWG6L/EBus5AAAgAElEQVRgGw7F/4mVMeFw1SRkr44h8WSB/LtjBPAf9AW6aQwrKMb5xFQ8LjGKhUehpZ5Dn+LnGTifuBt/pD7QWem4LGQisWrdYJ3gUt1wcwu/TjBauJV0lEP2/fsGvLsYD+6r5I3v0RKtDanKLr2M1T8dwDMZA4H3YEwbZArjwv8fzNyuG1yxSAe3v4JIVGwwD5m5XQvM3G4ibpfhSVIyLkgIPOcghDYWApChWFRehkXFhrK+DCKxSlNgnVxgOOXzUSe4BVSUn4379w14b/ED3H+kZHx4tGwNwyh/NX468AwyRgDvwdMwqLaZ8fXjTebXtDAbVM0w4y1gxIgR6NixY6nfxGIxBg0aBKnUgBMvM94riMVijB49Gi1atMChQ4fg4uKCuLg47Nq1C7Vq1QIAWFhYYMOGDaXuW7ZsmZYninA0TpF3FJDnCYsMh7G+FbKsTZgavQZnRYAk7TyulBzls3ZoNfBLjPjkIwT5O8Pa4JXhKZKTz0PuAMnAMjBUh5GXw501M7D8isJoyFZD89aa86fKspOQLI8lAmMdgugvo1BDWBWdB3eTb25IguubVyP+pcFdV4FfB62bu8kVEe4RblyRh1TiZTLmL87GJ9P7oLqW/nN345F4U7Wh4tcKQbivptVbiGb9e6OBQLHNJQkubtuE0zoswKaZjzIQHUXckedQiU0gIsONlhpkbZqK6DVnS+ePkuXg0RPVKTyvhj/qGpnUVvZ4L37bkw3Gtyt6GeqRxq8NzxqsQoGQ4XGu/vy0T5OTcV7hpctYBiJUx0kEd2cNZiy/ovByYVGteesKy7H3KjUOR14AlVtHomW50C4e3GpUB1+pKeXiz4lfYFuWDVpN/QUxjcprJdydBCTeKJPeob7u3aU4YSx8bG1gY6PlXyUP9FqfYbjRSuAHPzXtgbt3G9fO/YAv16TDY/ACfKklxcdbw3skt1rBOqCGu50qT/PDHVi0MQPun0zEYI2aGx+ubk5K4wuJU7Bk8XFI/Ibhq4EeFaYIFKclIvWRvJeMdWsMG67FQMHdRmKKIs8zWwWhHTQYDgC8OrECn/ePQtNaVWBX1RMfRPTHmisCI/IVyvDseT5K0h2ylWuitjExpRbN0D68JI+qDI+vXsI9fR+G9DouXi9UHpS5hLVHMwNE5sXBpVidJgax9mg3cQJa/8ufzbsKM7frgDgBY31stXO7TSV49Fpf+qBUF8zcrhlmbn9jbpfjFVKTTuEVMajUIhxBlgC4Bzi8ai4mdW8AB1sb2Ng6wq/tp4j97ZxhDZU9w/N8mYJ/WVSuWduoNAIWzdojvCSPquwxrl66p3cvJL1+EdcV6crAc0FY+2YGGOZf4ODS1UgTE1j7dpg4oXUFpSL5P8Mbzq8pYTaommHGW8KaNWvg6OhY6rczZ85g3rx5/1KLzKgIpKeno1WrVvjll18AANWqVUNCQgIiIyPLXVulSulg8Tt37mh+aPE5xCfnqk7e+Y0QEeFiHIHLnuLgrDn4x/0jdKnDID/3EQpKdn28GvD2MiBZT7l2XcelG2KlsuhRvwG0OVBy9zZh8spc1Kwu35wwVgFo1VzzO18kJ+KcmAAwEH4QhjBFhQPbyOHo7y9XoLmsnVi5I/s1Nq4W+KBFE9gwAMDh1tUrkECKS0tnIKnVTIxpqE1JkeFh/GFclKqFz7cOR4CWnRK/fj980kxVnEB6awc2HdEWCiYzzXyUQfG5eCTnqgo08BtFIEJHOKTGlj09iFlz/oH7R11Qp9R+XgaZ2uAzNnaoZNSji3FpxRL8/dQawcOGIsDQU2XWBQFNaimNGq9ys/FUpxAU4/qlG8owX55HfTTQLqTYNHklcmtWlz+fsUJAq+Z6U2a9HsQ4efAwcmVWaB7RRqNXlZWbK6op40IlyM1+ApvW0/DLhIYaNugy5B5OLCWfjm3a6knvIMXFhBQ8ZO1Rw68hGjdurPavPmpWtka9Ub/h16FGFDHj1YSft5pC+OQY5o1ejHNVemHuzLZGHwKZHu+L3OoCHzVquqqUaOlLvGRbYvSEtlq88/hwd1f3iHuJgldV0fHLL9CiYoQbAIc7iSmKIooMbFp/jJ41NUuRLOcwkhR5nhnb1mivJTGkdYuR+HnTXizr4wpORmAETRAe4WjEOihFZmbJmsGAX68xGhtlULNBWI8oKJYwcNfP4pyeQz3Zk3M4d0dhCOPXQre+ofr5hMvApqU7kMUxEPgPw9T+NczKmkaYuV0XpBcTkPKQhX0NPzQsxe2NUb9mZVjXG4Xffh1qeGFTM7drhpnb35jbAQDi00g8+hQyxgIBoW1gBwA8D7QfOw0jQlxg4dQaE7adw7WjO/Hz8EDDmirNRGa2YjIYPuo1bmyY13EJbMLQI0rBGeBw/ew56KZ8GZ6cOwcV5XdD31D9E8FlbMLSHVngGAH8h01Ff90FF8wowZvOrwlhnjEzzHhLcHZ2xurVq8v9Pnv2bFy8ePFfaJEZpsaJEyfwwQcf4OzZswAAe3t7HDp0CHXr1tV4/YMHD0r9387OTuN10pvxSEpX807wCkaoUeEgMuTsjcHn6+6hXseu8OGxEAoFYJWlETlwnL4doAzPLp7A5RfqPz3CY1VSL9jZ22s2vBRfx8oxy1BpdA84KXaafP/maOGgeMzTszh86rHi4lc4lngS8pRLfPi1CVdVBBUGYNiIELkxVPYC/6xYi6ulHLzFuJN2Gc/0dKVSYFNFbiwZnly/ivt31+Gr7bUx/esIjTmg5HiOxITTECnD523RIrSV9lNknjf69FO0FQC4+9i98R8UaLzYRPNRClLcjE+CSmx48AoOhXFik4O9MZ9j3b166Ni1TC4uvjfq+9kqNxHcgxu4WWj4o8WXf8YXP5yFpGZfTBxiTN41IRq3aalURmX37yg3r1o6gUePn6i8dO3sYa9ZSHF95RgsqzQaPZwURWT4/miuElKcPXzK4Fbqhfgk9h58AI7fEG3CqmncjPHd3EvlyGMrt8ZXv4xHA407xnwkJZxSVThlKqFlRGvd6R24u0hMc8bMo/dx/9oFnD9/XvHvLA7Ni0SdiO+xfVGUkcXfLOCnXg1ach0nz/HQfuYcdH+bCf+04b2RW13go2bN6iq+AA9uH8fiM63FAFk4ulWHlfJ6BhaNozGtd/WKUwJkuUhMVhRRZCzRvONHWnNr5ycn4aziAM0iIALhinNGLmM7Fqy9VCa1iwQPsx5DBoDvF4bIWsYQmhRZD3IUB5N8+LYKhrH1c2wih2NAXfmhnuxFCvYf1szoJXhy8ABOFMn7ZhU4FCMMqDIiPrUcvyQVgNiq6DhpPLScO5ph5nYd4HA3MQ3OM4/i/v1ruKDk9vM4e2geIutE4PvtixBlFLmbuV0zzNxuCm6XXktCaiYnT6UV5qxovxTp20bhs32NsDo1Hot6+RqXskqahQc5CqcCvi9aBbsaOS42iBw+AHUF8voNL1L2QzflP8HBAyfk3ypjhcChIwwoLCXGqeW/IKmAwFbtiEnjK+qg5/8Qbzy/psM7wIBmmPHfQZcuXTBkyJBSvxUXF2PgwIGQSCRa7jLjfUBaWhqioqLw/PlzAPLKg3v27EGTJk203lM2xF+TFyvAIePAIagKtbOo1DhQy8ZbEzhkH5iEToM3IAMN0bGrvAKutZ8flIfK3G2kJKXrCGUpwIU1gxE1ajPuvlQ39PHBV+7zZMjKyIC47K2yXByIHYzfGyzC3KrXcV5MAHhwahIIbx4ge5qMmb0n4p9ChTtAcRoSjypCpnjuCA5XrwjKQ+0B49HbnQeAID67DHN3qcKrpNd/wZiYXcjQs5nl1Q5EY0UYD3fzKBZPXQ7e2G/RXZdy8TwBB4++VCsuUh8tg3SV2GXh1qMf2io9ZmTI/Ws99uRqNpSaZj7UwGXgwKHLqrytbCU0Dmxg+Oktl40Dkzph8IYMoGFHdC23oa+Cj/p3Rkn9BNmzf7B2y13DQsOfHcbUfl8hqcAdfRfOQjsdaXc1wTa8K9oq4nq4BxdxIU+38ZmvElLIsjKQUV5IkXsgFoN/b4BFc6vi+nm51zXPqQkC5UKK5Jm9MfEfI7QzPShM2YK96VLwXJsgUEsFWJ6rO6qXxIWylRH81TKMq69lBp/HY9+RfDX5rIvmzfSUgOaKUHvg94gJLD0BxVdXInoRi8mrRqKu0cf9PNTyr6PmGcTALngK5g+qZYSCWpF4f+RWF+xquEPhuA/GKhDRMR10eojx3dxQErkIXnX0nDIW5VI7mhL5yUg8Lf+OGMEHaBelTdER42Sy6gDNPzhEnnKl4DhmD12Bl/61S3NW8RkkHnsKGXhwD4lAXWPypUlv4lJJ+D3fE+06NDC6YA2ETREz51N48BlA9hgHN++FFkoHuAzs3JqIFwQwfE8MmB6NevpeKHuM3Ut+w3UJIGw4ElP6VKBh5P8AZm7XBg5FtQfi+5jA0p6NxVexMnoR2MmrMNJocjdzuzaYuV0TjOF2GTITk3FNKk+lFVaHD6AA55cNwOAdDfDTvl/wsbfx1VSlNy8pw+/5nu3QoYHxCTaFTWMw51MPyCn/IDbvzdUaGcdl7MTWxBcgMOB7DsD06Hp61xjZ491Y8tt1SCBEw5FT0EdbzjEzysEU82sykBlmmPFWUVBQQJ6engSg1L8ZM2b8200z4zVx9epVcnR0LDWf0dHROu+5e/cuCQSCUvfs2bOn/IWSSzSrqZAY5XUsOX2ynZ7qbRVH+bfjaFl0K3IRMASABE1mUJpE8WfxCfqyvkD5XNYxkuafel7uKeL7CbTg47rk1nwiHczhSv9Reo3mNld7hkM7+um6SNWCvJO0/NPGVPfj3+iWREynptQjAUCAkMKW3CdJThxNDW5A3dfcoJJmSa/OoWaCkjYNoF0vy7ZIStcWhpAtAwIYEtQZSnuyOSLRJVrcvgWNTcjXOzLE5dDyDy3l7WZYsg/7ga5Ldd+St6kHObCquWLsPqbfC/W96Bnt7OdMbMncMZbU/NuLyr6WginmQw2SS7OoqZBRyRfrRJ9s1y81xOXT7bhlFN3KhQQMCBBQkxlpmtsszaD13asTj1G0uUoQTUvIJV1DWXhlIw1rYk8sU4k+iImjPO1d0IEiShzrTXyAwDrTwL3lhES9kXRtbnNFX0BgHajdT9dJKaVcHp1c/ik1rvsx/XZLQuJTU6ieQv6EYUvoviSH4qYGU4Pua+hG2UGQ3qDvWii+Ycaaum3SKxCK++7Q0gg7YgASBMyiyxoHl4hEh2hEDR4BLNmHLtR+HUnpzk+RZMeorSkWHWltefHRC+7RQfqi7ce06rrY+JsVkFyeRQGKMWSsAmjGKZH+m94m3gu51Q3JpW8UY8yj6v120hM913PpiyhEKOdM65bf6ZAl06DowDBy48nHV9B4Bp3X9j7JRZoZoPiG2Go0YHcRkegarenRiNotuUxlpVByfjo1EijGb49x48flrqIoa0a+bnzwtWotLHVRBi0OERLAJ5+Yo1oe9JC29nEjHgNiBPUp9kiBxsue7h9OXnyGwFiQb/Q+g2RGenUeBVkxBNaZem/NpdcSs/cN+sZc698rkNtJSje+a6HYrzBk3W0TGcTu7zC3E/eIDn7Rlj5edb3cd2UozNyuDWZuLwejuD2PfutiRwxYch60l14W3aJtn4dRm5Hb6e5rb0U4yl0VRdYMCIyAPvha0z6Wo4zFISQEiO8To/1JD7dSHzceMWBIUD+WNFP+U9o/3Iv4DIix8KXofXkG8LeUrs4LIisGxDr3pq25/wnGLwdJ2gxqotT7PqU9RYbcZcj8vj2YDapmmPEv4OjRo8Tj8UoZ0/h8Pp09e/bfbpoZRqKgoIC8vLxKzaWbmxu9ePFC5339+vUrdU9UVFT5i6SP6Ni3YaUMeQCIYStR7dbdaMjnsTR1xkz6ZtZsmvXNTJrx1RSKHTuCBn3cgYIbuJEtT82gBgE1mn5ObcHh6NG+UeRnobqGsfag4H4xNPt/7N13dFRV28bhe2aSEHoo0pHelCJGkSZNUEEBgyigVCkKiNL7S/sEEUWaAgJKVQEVBFFBpITeu0EUghildwikzezvDzQSUjgJyUxCftdaWYvZpz1T2DNzzz77jJ9kPnx3mOnxcjVT2K+wqdf/K/NrnJ8Po8zRKfVN9uj6bMYrdwXTsFUb06zOwyZvJl9TNGCq2R9qjDE3zbdtH/gnXLSZzEUfNZUKFjR1391mrt5W08mpT5uM/4SlWRt/Zs7GddjrgaZ3uX/DR5vJVOgRU7loLvPwmz9a/DAcbjb3KW28JGPLVMWM3JPwJ7bQo1+YdiW9bwu1ZeRdwfRcdz7BD+rGGBO6sot50HHbc5fF3/T87g8T+2tIcjwft0Sd3WLeqZvzvyD3n8fJnrWYqRnwmnmz72AzbMRIM+r/RpmRI4aZoYP6mrdeb29ebvSkqVAwS/SXkVv3s5L5354EPqZc3WE+fL5w9Jdam09B82Tn98zCjUfMhfBb9yvs4p/ml8AvzJjODUypbHZjc+QyT/T5zvx9D58dow5/YGplsRnJYYp0/TmOx/O2dY9OMfWz2/97XL1ymwoNW5k2zeqYh/NmMr5FA8zUWy9Sc/PbtuaBf17PtsxFzaOVCpqCdd812+LK6ZMSqDrPmPUj65o8jn+D+ZpmxNYLcX/wjvrF/N9j3sbuV9eM/yWe58B5yRz6spvxz2qP0UfIq7R5/fvTd319xhD+i5na/FkzYO3Fewtyri82Lf3sRjZvU/btdSbuuMnD0sDrNkGX55gmGW3GlsHfDI/3G+1tQheZl7PbjBxFTKfvk5LGJEa42da/3K1wQQ5TvMe6+O/nzSWmda5/Xrs2h8lbJcAEPFbKVOu/2sT+bhlljn1Q0/jYZGzZA8y8uyUNd7i0uNWt/9t2P/PcjBNxv8atBKrGGHN1pxn/bH7jZbMZ7webmWn7b+8gnObi9g/Ms/kcxmbLaEq1/NQEWXqir5vVXYsbh2zG139k3IHv/SjJgWoK9u1JCVRTc99uws0vU5ubZwesNRfvpXOnb48XffsdEtO3X19m2uW1G9mymufenW/61XzAeGV7zsw8eS8v1ktmcatb3znsfs+ZGSfi2pe1QNUYY67uHG+eze9lbDZv82CzaSZml3/RbP/gWZPPYTO2jKVMy0+DrD3/11ebrsUdRjZf4z/Ss4GgJyUtULXy/LoPgSrgIYMGDYo1SrV8+fImPDzpI4Pgfp07d471PC5ZsiTBbd59990Y6xcpUsSEhITctkaYWTusrnkoXyZjtynW/pP0513BDNl559t1pPlj2UBTv0jGmGGhbMaepaip1WaYWbDzLr+yRgWbhZ0rGb8Y4a3NeOd53HT4cK35K/K/Y+0dVtn4/BOW2rM/bF75aKeJ+V3msln4co5bQaAtg6n94fF4j3110/9MlX+/SNl8TbGAj81+S2/CxhjjNKc+fsr42HxM+X4bTXzZZOShaeaVx4obP29bnI+pzZ7R5Cntb+oP+t7E+zE2bJPpXdrrju0ym4IV65pha+78yHWPz0fYWjOs7kMmXyb7Hdsn/c+7whAT62UT6+E8a7ZN72bqFc8aI4y12b1Nxow+/7XZvE2eyi+ZEcuDk/5lI9p1s75nGeNtk/Eq9bYJTHCHUSZ4YWdTyc8R43Gxeecxj3f40Kz970VqIvcOM5X/Gdlrs2c3D7/ykdkZ36DnRAWqTnP+297myVI5/htR9W8djiymYPka5oWxm+4YtXHZzG6a39T98JfYH7TDN5oxz1cxZfLG30fY7L4md8nKpsYzvc3Xd/ti4jxrVvZ6xrzy6e/3/qE+8oAZ8ai3cTzYwXybtOE+7pHqX7cJCFtjuhXxNnle+iKO4DEO4RtNr9LeJmvdieb3xCUxiRd1xIyt9s8PUPYHTJvYpxnEWHdi3ezRP7Q5clQyrcZvMGfj/O572sxslNnYZDMZn5pi/kzUS+uC+bx5TmOXzfiU7282x/deYTVQNcaYsBPmp3dbmIo5vI3Nt5B5IqCjeavXm6ZDE3+Tz8dmvPP4mzYfBpoETiSIeei/Zprn/exGjoKm9dfnE3Pn0rZ7CFRTrG9PVKCayvt24zRnV/Yyz7zyqfn9Xjt3+vYE0Lffua7Vvj18Q09T0uvW5/6shcuZ0rntRjZfU33s4UT+cHCbC5+b5jntRjYfU77/ZhN3l289UDXGmLATP5l3W1Q0ObxtxrfQEyag41um15sdTBP/fMbH5m3y+LcxHwaetviDtNP8NfN542eXcRRsbdJTl3+nJAWqlp5f97EZY4wAuF1kZKSqVq2qPXv2xGgfNGiQxowZ46GqkBgrVqxQ48aNY7Q99thj2rlzZ7zbvPfeexo4cGD07cKFCyswMFDFihVLsTrvKvy09q1ZrS2/nlZYpnwqVrK0Kvo/phI5rM6MFaWzB1bpx8DDOmdyqHDJsvKvXk0l77zibthxBS5Zrd9c+VW53jN6rMC9TfR07fAPWrg6WD6l6qrJMw8rh+WphyK0tV8lPfPzC/ph47uqmeWeykh+9/x8eIjrso6s/0E/bdiuvb+G6NzlqwqzZVK2HHn0YDl/1ajXUA1rFE3cRQUSOtyFH9S16guaeTy3Wn8VpHkBCV9nOOrsAa36MVCHzxnlKFxSZf2rq1pJvzvm/wrT8cAlWv2bS/kr19MzjxWIf95Z528aW7O8Bm2LlGyZFDD/nJa8Gu9lylKxCAVNa6P+f3XXgtG1kuFqzTe0etir+r7Cx/rwJc9dJMCyVP66jZPzhOb3GKILHT9TT38L/ajrb335Vk8Ft5ijIU8m1z1JJtd+07qVu3Q+SxFVrFJVZXLF089dW6xWRVtp4UWHqryzX1uGlLM8d6Pz2BQ98+jbWnuzhF5fvlPTno3nMXed0IS6pdV7g0ul+wTqyAfV777zG39r+8oV2nDwhE5dvCkfv/wqXrm2nm3wuB7MbPXVH6Xdwx5XtXf2y7vqaO3YMOju863eL+72mFt4TpK9b5dTv42tqfKDtilSNmUKmK9zS16N/yKUqVhE0DS16f+Xui8YrVr33LnTtyd4OPr2mCz17VE6NKqqHh2+W64iLTV37UwVm/a4an/wq1S2nzbsH6dqif6q4NSxKc/o0bfX6maJ17V85zTF3eW7dGJCXZXuvUGu0n0UeeQDS3u/8fd2rVyxQQdPnNLFmz7yy19clWs/qwaPPyjrXf5uDXu8mt7Z762qo3dow6C7z7d6v4raP1xVHh+lvZGS/YG2WvLnXDVN8MpcVp9fN/JwoAuka0FBQcbX1zfGL8+NGzf2dFmwIDIy0jz44IOxRg7Mnj07zvXPnDljmjZtGmPdl19+2Zw/n45/lvSQyMOTzdNFa5h3dnn6N03cq4s/9TDlMthNtvpTTHBKj864U1LnUE1VnObsyt6mUdu55pi7H790zKOv2zQq7KfXTWGHjLzKmf7bEnMmz1Wz8vVixmHLYB56a3XC848nZoRqcrq41LQt4DByFDavLb/kvuOmBvc0QjWlJHEO1VTGeXal6d2orZlL5+429O2J5PzTTK7na2xymIKdfjQ3jTGRh94xVTLYjBwFTftlSZjG4OpK83oxh7FleMi8tTqhHj9xI1ST08WlbU0Bh4yj8GsmvXX5d0r0CFXLz6/7pPofl4D7WaFChVSgQIHo28WKFdPcuXPdW0TUNYUcCNS3sz/U/7q11aBvTsd7BUP858svv9Sff/4Zo83Pz08tWrSI0Xb69GkNHz5cDz30kJYtWyZJypUrlxYuXKhFixYpV65cbqsZkkK3653XJsl7wCwN8E/wJ1CkATkajNMXo2rJsf49Df3mFH1XIkUEfaIeU7No0OS2Kp7KB0DfT3jdJlaUDgVu0Wmn5MhbU3Uf8ZFcl7Rv2y+62/XZr6wbrj5zTihbrRGa92595XBLvYnh1LG5k/XNKZcy13hb/Rt5eqgN7gsRQfqkx1RlGTRZbenc3Ya+PZGuBGr9nnAZe1ZVq1dVvpK8ynXQ609nl915UkunLdSf/z6Irsv6++8rd3lMr2jd8D6acyKbao2Yp3frp74eX85jmjv5G51yZVaNt/uLLj8xUufzS6AKeFD79u0VHBwsScqYMaOWLFmiHDnc0DlcW60RTWrrsXIPKmcWPxWpVEcBr/XROzMCdTl7jlTeMUTozK+79euZCI9VYIzRuHHjYrW/8sorypgxoyIjIxUYGKg2bdqoSJEiGjVqlC5cuKCqVatq6tSp+v3332MFr3AD11l937eLllWerNldyqbb02vuL756pO/nmv1aVn37VidNDwr3UB1Ohd246aFjJ43r3Cr1f325Hh89WDWze7qa9Ca1vG7Tikvas+d3RckuvycbqFqGKB1bMFQzDvsqoZ/FXCeXqFeXj/VHqTc0d2F/+afGc7bDtujjaRt1w15UrQd3URmyr1THGXZDaap3d53Tqv6va/njozWYzt3N6NsTI2zLem27ZmTL8Jjq1s52q9FeQC3efkVFHUZX13yo8Rtu/Wx2cfVo/W/hXwkEqi6dXNJLXT7+Q6XemKuF/f1T5TQdYVs+1rSNN2Qv2lqDu5SxPHXNfSvKqShLK6be5zd15ybAfWzs2LFasmRJ9O2pU6fqkUcecc/Bs9bT4IUr9OMPX2lCy5Lyst1qtmevprpPZHBPDUkQFbJSo15qqO5fnVfmHHdOqhOqv/et14qlK3XwYsr+Jrx27VodOnQoVvvNmzfVqFEj5ciRQ3Xq1NGCBQuUL18+DRkyREeOHNHWrVvVtWtX94TmuEOEfp3ZRUNDOmve+EZ6gHe/+4e9gJpO+VbT6v2mQU07aN5vHvgCYyK1+8cVCnG6/9BJEnFY09u305RNq9S/SknV6jpb+697uqh0JjW8btOKqFP6+4xTRnb5ZQ7X1smd1Wv30/pfuxLxfhl1nVmtAU07amn27lq0arIa50uNnb5LZ76eqPlHncpap5f61c/q6YIQi1Hk7h+1Iu107jo8vb3aTdmkVf2rqGStrppN5+5e9CJAG7QAACAASURBVO0WRWjP+k0665S8ytdR3bz/9dGZ6/RT/6dzyBb5uz55vaPGfTJSXT7OoI5vxDfXqEtnVg9Q045Llb37Iq2a3Fips8s/o68nztdRZ1bV6dVPdPlO/bVjl/68a6Kayp9fT885AKRHP/30k3E4HNFzaXbp0sVDlTjNmU+eNRn/ufJ6pmemm1Op9MKdUcHzTasS+U298QfuuBqn05zdPNG0efSBf66w6m3KD9px71eqTsCAAQNizZ1qt9tNkSJFTIMGDUyvXr3MZ599Znbt2mVcLlcKVoK4XF4/zNQplN3kKN3IDPrqsLkeecHsnNbSVGnwjtmShOmYkEZEHjdL3q5i8j7YyIzbctHilVbvwe1zqP5zxeDcZWuap59vYpo0ufUX0POLlK4i8Zxnzcq3/U2BggWMXwbbrSv22hzmgfofmv3/zl11c6MZVqOIKV7/PbMrJTtTuP91myadN1+8lNvYJWPzym0e67bIHEvgdRn2+5emU8X8pnzrT8yexPT57p6vM/KgeadKBmPzKmV6rE3gitn3s1Q/h+qtz8feucuamk8/H923Nwnoab5IdZNkOs3ZlW8b/wIFTQG/DMb2z2d7xwP1zYf/de5m47Aapkjx+uY9OveURd+esKggM7qKt5G8TJk+m82dM2NHBn1sGuZxGJtsxqfg82by/vgm1wwzv3/ZyVTMX960/mSPsd7lu38O1ciDt+aH9SrVw6S/Lj/cbH6/lWn6bx/apLF5ptZD5gFv23/fpeOcQzWpz6/7cMYj4GYnTpxQq1at5HTe+rW7SpUqmjJlioeqidSeXQcVYSTJSxVq106lI/cu6JvBffR1eFMt71ZB/42hDdfRL7upaefZCgo1kiSbV0FVqVo8RYffb9iwIVZbly5dNG3atBQ8KqwJ0+b5M7Xhryty6Qe9+/JqTcniq5y1hmvR4l6qytlv9y+vogqYuE5lqw7W6+1flteylepVNgVPpnLkV+Phc1TofPwj4u05H0654yeVK1S5Xl2m4xMLynHpF62Y+b5Gj/9Cu9YM0ktvFVfg9KbK57ygE0dDdDx8l36/Kfmn+1EUKcjdr9s0KZdazNyofK8elaNMNdUomyv+0yQvLdObLT+WT99V2tKmghL30s2kMk+1UKuCRgUq577nqu/GGRKka6WbqXWD5upXO5Vdodtt7vaYu/c5ucWh/I2Ha06h8/GfXmzPqYf9bG6qxyqXQnO9qmXHJ6qg45J+WTFT748ery92rdGgl95S8cDpaprPqQsnjirkeLh20bmnLPr2hDnKafD2CA2OZ7FXuW5auvNRrd53UyVq1la5nHF/s7u07E21/NhHfVdtUZsKiezxyzylFq0KyhSonMjik8KpkKBrKt2stRo076f01+U7VKjqC3opX4TMba2tO//3b5tvcT3qHXOre3l+3cVmjDF3Xw1AcggLC1ONGjW0Z88eSVLu3Lm1Z88eFS5c2DMFRe3QoEdqaOwvUZJXWfXdsF/vV7vzVPpUIGKL+laorYlhHfXjkelq4CtJ17RrUms16/edQiL/CVMzFFXT95dofo/KypJCpdy8eVPZs2dXZGRkjPZ58+apTZs2KXRUWOfSqcXtVa31Ap2INLJlKq6GfSbqo6GNVSwVvrSRMlzXr+tmlixKd59Xk8h1YafmjBygkZ/t1QOtRmhwy2LaOvRN7X3hay0bUIXH0U143SaHMIWGeitzZoILQK4L2jlnpAaM/Ex7H2ilEYNbqtjWoXpz7wv6etkAVaGzcQv69hQUFqpQ78yiy79PpYHnl0AVcKP27dtr7ty5kiS73a5Vq1apfv36HqvH+eu7qlFxiLZHGjkKdNTyY7PUKDVe+Nx1QUs6PKIW8y+p5As91P4JbwWv/VJfrD6q60ayeeXQQ406qs+QgWpXJVeKjk49evSoSpUqFav90KFDevjhVDgaLV1y6sKhtVp7OErFq9eWf8HUMm05kLqFn9ypH1YE6rcbOfRQvQA9VzEnk+0DQFoXflI7f1ihwN9uKMdD9RTwXEXFM+APAJAIBKqAm0ydOlXdu3ePvj169GgNHhzfiQ7u4FLIR0+rzFtrdNPY5NdsnoK/aa3kuFxSxNkDWrt6i4L+OKlT5y4rzBl3N2PL5K/XRrfXI1YmH7lxTCs/m6mvAn/RsQObtPH3KJVs/Lq6tmyop+rWUIV87kmCDx48qIoVK8ZqDwkJUaFChdxSAwAAAAAA8BzmUAXcYOvWrerZs2f07SZNmmjQoEEerEiSrmpT4G6FGUm2DHq0Tm3d2/SSTp3bOVdjhn+g+T//qguRd/+txubXSrVGWgxUM5XQs2+OVd06Hyng6Z2qO/YnLe3/eCLnR7t3vr5xB7fh4Um7imdISIjnpnwAAAAAAACJRqAKpLDTp0+refPm0XNulixZUvPmzZPN5uHJ7MO2ad3Wa7cmhvZ6WLXq5E/6qZ3Ov/X9oJZ6beJmnY00smV4QA/XraXHyzyovLkyyzueu2rzraByieiFXKeW6c3mAxT01Fxt7ev+MFWS8ubNKy8vL0VFRcVo37Bhg0qUKJGofc2fP19vvPGGNmzYIH9//+QsEwAAAAAApBACVSAFRUZG6qWXXtLJkyclSZkyZdKSJUuUPXvKXGo8JCREN2/eVOnSpe+6bsT+9dp8xilJ8nqwhuqW+ac7uPGLVny+UX8549rKocK12+q5chn+a4o6qrmtn9Hri4MV4V1Idd8eoTGD2qlq3mTuXm7s1fhXX9PcyFb65sNmyu+huZ+yZcumRo0aafny5THaZ8yYoQ4dOljaR1RUlHr37q0pU6Zo8uTJhKkAAAAAAKQhBKpACurTp482bdoUfXvGjBmqUKFCih2vV69eunnzpr7//vu7rOnUH+s36HenJNmVs0Zd+f97BXRHFuXO/4Au/vqdJoycp33XjWTzVt5Hm6plQH2VzHD7cNNr2jyild5cHKzI7FXV94uv9W7Dgkr2C/G5zui7Xi01dFMOtV/6np57wLMz6bdv3z5WoLpt2zYNGTJEo0ePTnDb1atXq2/fvjp27JgWLVqkl19+OSVLBQAAAAAAyYzr+wEpZMGCBZoyZUr07e7du+vVV19N0WPu27dPmTNnvvuKrvMKDDygKCPJlllP1Kmh6K0yFFHV519U65drqpC3TXa/ynpt+mYF7fhKE4e8rvrFfaJ3E7FrnN58f7dCvUrrtblLNTYlwlRF6bdZndT502AVajtR7zbM5fGO6/nnn1e5cuVitY8ZM0atW7fWjh07YrQ7nU5t3bpVzz77rJ5++mmFhoZq69athKkAAAAAAKRBNmPM3a8cAyBR9u3bp+rVq+vmzZuSpGrVqikwMFDe3t4pdsyLFy8qd+7catu2rebMmZPwyte/1itFW+jLCy7ZfJ7U+4fXqU/x26LQ6zs1tkkjjT3XWJMWTlG7h+MIaV0nNadZBXVcdkVFOi3TrpnPKWfy3iVJUuj2EXqqwSjtyt5ai3bP0Yt5PB2n3nLy5EnVqlVLx44di3N50aJFVaBAAblcLgUFBenq1avy9vZWp06dNHr0aOXIkcPNFQMAAAAAgOSQOpIJ4D5y6dIlNWvWLDpMzZMnj7766qsUDVMl6auvvpIxxtII1fAd67TlskuS5FWmluo8+F+Y6rq0Re8GvKgZWQZp5YZZcYepklx/fqV5P12SyfC4Ovd+NkXCVNfFlerf9l3tCM2jpmPeVUCiw9Rw7f+4hR4tU1kvTtyp0GSsrUCBAlqzZo0qV64c5/I//vhDW7Zs0bZt23T9+nW1adNGR44c0dSpUwlTAQAAAABIw5hDFUhGLpdLr7zyio4fPy5JcjgcWrhwoQoWLJjix16wYIGkWxe+SliUgtZt1kmnJDmUv2Ydlf+nJ4g4vkS9X+qpbdUmae2EABVNoIe4smG9doUZeT3RVM1KJ/+J/nKd1Xf9umnm75HKUru/Rr9SMPG/AEVs02cTlmjvsSjtGzleP3RZqJfu9vAkQpEiRbRnzx5t3bpV06dP1+rVq3XlyhXZ7Xblzp1btWvXVoMGDVS/fn3lzZs3+Q4MAAAAAAA8hkAVSEbDhg3TypUro2+PGTNGdevWTfHj/vHHH9q8ebMk3X2EqjNE6zYcVpQk2bOrep0nlEEunVk/Rm3bz5Kj+yKt7lNNORJML6MU/NsxhRmbfCIPa+G77yR+7lRbRpV/8W29UDaubsilk1/1Uo+5fyjK6yF1HdNNZZOS2TqKqFypLLIfu6KMZcqrtM/dN0mKatWqqVq1aimzcwAAAAAAkKoQqALJZNmyZRozZkz07WbNmql///5uOfacOXP073TIdx2henG91u+NlJFk862iOk9GaOuHbdV6yErlGbpT6/uVV4a7HtGpa1euyyWj0N3zNGJ3Eoq259Ar5brHGai6Ti1S796LFOK0KXfTAer1hG8SDiDJUVRvLNyuh7acVJ5qtRRndgsAAAAAAJAIxAtAMvjtt9/Utm3b6FCzTJkymj17tluOvWvXLo0dOzb69t1GqIZuXq/tobfq9Cr+gP7o86T6Ljys68auK3v26YqrvO4+ValNmTJnlE02ZSz7rF6pWVC2xBZuy6wnisXRBbkuaMXQQfrmlFM27/Lq1L+F8t3LbM/ZS6tWw9L3sAMAAAAAAID/EKgC9+j69esKCAjQ1atXJd0KNJcsWaJs2bKl+LEvXryo5s2bKzw8PLot4RGqEdq9fosu3roelSJ/Waj5OWupRKZftT/UpYs/ztC8o63U965zovqoWMmi8rEFKTL3UxoyvY+KJdM0qje2jdOQ+X8qytiUqfpr6vRYCp2nDwAAAAAAkAT3Mu4LgKQOHTooKCgo+vann36qhx56KMWPu3//fjVt2lQnTpyI0Z7gCNWoI1q36cQ/86dm02M9l2rr6kXq3zCH7JJM2DbNmb1bERaOn7NGTVXwtilq7/dafsJ5D/fkNs7jmj1iun6JNJIts2q/2uregtqIy/pj7zot/WaTQpKpRAAAAAAAkL4xQhW4B+PGjdPXX38dfbtRo0YqXbq09u7dmyLHi4iI0Llz5/TZZ5/p22+/jZ5i4HYJjVB1nVqvwF+iJEm2TLXUdWBDFfaxq0mHABVc+qlCnJH69fOZ+nlIFTXKknAtjtIvqWX1MdoRuEnTp2xSxwm1dZdN7ipsyxRNXnft1vyuGR7Xs8/kSfyvPje2aXr/j7Rs2yZtOxSiK+FGGZ+dpmMBNe+xOgAAAAAAAMlm4kpkANzVmjVr9Mwzz8jpTF1DH9euXau6devGuezSgmYq1naprhibMtT6QIfX9r41AjRihwb719TYQ5Eydj81mRWkpR3y3zXMvP5zdz3ScJqCvcqr5w+B+qBujnsY9n5F37YrpxfnnZJLklfp3lp/cLxqJPGM/4jtA1W55nsKcvqoxnu/KLBfSSXTrAQAAAAAACAd45R/IAlOnDihli1bprowVUrolP8b2rJuu64ZSfJS2dr1VPjfhNHHX51fr6XMNkmuK1o1/TMFRd2+bbiO7TukS66Ye8xSb6jeb1NcXuEHNanFixqz6YLuWMW60PX6dtWZ6O1tWbIq6z30UJEn/9Y5lySvsqpbvyhhKgAAAAAASBYEqkAihYWF6cUXX9T58+c9XUqc4j3lP2Kf1m0+eyuwdBTSk/XK3Tbnh0PF2vRUi0IOSUbhuz/WmCVno8PNqF+nqkefJfoj6o592vMrYPLnGvFkTun8Og17ppqav7NcR64nvu6ooO3affG/ONYZvEc7zyY1no3QrnW3Lr7lKFRLTz3E7CYAAAAAACB5kDIAidS1a1ft3r3b02XEK74Rqs5j67Ux+FYias9ZU/UezxBzhewN1fftGlrUb4OuO0/r66GD1aLWDDXNEaQpvRar1JCfVDmu0++zPKHB369Rjg7N1fub37X0fy/o+8nlVOvpBqpeoZjy58wsL1vctdoylNBTr9RVUYfkvHhBl2/LT12Xv1ffxp11bXg3NatbSQ9mTUR3FRWkNRtC5JRdeWvV1513FQAAAAAAIKmYQxVIhGnTpqlbt26eLiNBp0+fVt68ee9odenUtIYq0f0n3TQ2ZW38qY4t76AH7tw4dIP6PF5fEw5HysimTIUqqYxXiCKeX6DASc8qV4Jj2q/ol8Xva/Dwj/XDkcuKstCz2PxaafGpL9TcV3IGT9BT5fso8GYcG9rs8vbNoqzZ/ZTnwXKqUr+Fur7VVlXzxn0ivzN4vOqU66dNkdkUMDdYS9rkvHsxAAAAAAAAFhCoAokQFhYmlyvJs4S6Rdyn/F/RohbF9MriS3LZMqj2+F+1tlfROOf8uLZ5mOo/N1o7rrgkm6+KvTBe337RTRV9rVZwQ3/vWKllq7br1z9P6fSFqwp3xt3N2DI/qf5z+qq6jyRdUuD/Ging3e26FM/6t20p76ItNXvdfL1a9M5Q1aUzsxqrRJcfdMP3KU0+8pPeLMzsJgAAAAAAIHkQqAKI5drhH7RwdbB8StVVk2ceVg635ZHh+nPD55q96Gft/u2kzl++oms3whUZFanw0Ku6dP6CroY7davT8lKpXut06MOaijkTwTUtblVUrRZelKPKO9q/ZYjKcUUqAAAAAACQTAhUAaQdrlCd3P+zPh87QCO+OiJno091ZsVryn77OuGr9UaphvokxKZy/Tdp33tPKK6pXwEAAAAAAJKC82ABpB32zCpQuan6ffqumj3gUMZs2XXn9aaiDgVqy2mn5MirmnUfkY9curRvm34J9UjFAAAAAADgPkOgCiANMjKuDHqkir+871hyac8e/R4l2f2eVINqGRR1bIGGzjgsX8tzwAIAAAAAAMTPy9MFAEDiuHR62Zf62auhxrd4UDGnR43Sqb/PyGkku19mhW+drM5Tj+mFTyaoBPOoAgAAAACAZMAIVQCpUuhvq7Q2KCJWe1TwAr01dI/qT5ykVvnv7MK8VLBMCWW3S1HBc9Xrf0fUcOJ4NY21HgAAAAAAQNJwUSoAqc6VdQNVr+l4nX9pifZ+2lg5Jcl1TUe+G6++w1eq4IB5mtiqtOI8i991Rb8GrtdRRxlVq1FWuRiZCgAAAAAAkhGBKoBUxqlfx9dTlX4bdM2WRcWeqKlyWW7owiWX8lZrqd4DOqt2QR9PFwkAAAAAANIpAlUAqY/rio6s+0EbjlyWPVteFX3YX49VKKLszPoMAAAAAAA8jEAVAAAAAAAAACziSi0AAAAAAAAAYBGBKgAAAAAAAABYRKAKAAAAAAAAABYRqAIAAAAAAACARQSqAAAAAAAAAGARgSoAAAAAAAAAWESgCgAAAAAAAAAWEagCAAAAAAAAgEUEqgAAAAAAAABgEYEqAAAAAAAAAFhEoAoAAAAAAAAAFhGoAgAAAAAAAIBFBKoAAAAAAAAAYBGBKgAAAAAAAABYRKAKAAAAAAAAABYRqAIAAAAAAACARQSqAAAAAAAAAGARgSoAAAAAAAAAWESgCgAAAAAAAAAWEagCAAAAAAAAgEUEqgAAAAAAAABgEYEqAAAAAAAAAFhEoAoAAAAAAAAAFhGoAgAAAAAAAIBFBKoAAAAAAAAAYBGBKgAAAAAAAABYRKAKAAAAAAAAABYRqAIAAAAAAACARQSqAAAAAAAAAGARgSoAAAAAAAAAWESgCgAAAAAAAAAWEagCAAAAAAAAgEUEqgAAAAAAAABgEYEqAAAAAAAAAFhEoAoAAAAAAAAAFhGoAgAAAAAAAIBFBKoAAAAAAAAAYBGBKgAAAAAAAABYRKAKAAAAAAAAABYRqAIAAAAAAACARQSqAAAAAAAAAGARgSoAAAAAAAAAWESgCgAAAAAAAAAWEagCAAAAAAAAgEUEqgAAAAAAAABgEYEqAAAAAAAAAFhEoAoAAAAAAAAAFhGoAgAAAAAAAIBFBKoAAAAAAAAAYBGBKgAAAAAAAABYRKAKAAAAAAAAABYRqAIAAAAAAACARQSqAAAAAAAAAGARgSoAAAAAAAAAWESgCgAAAAAAAAAWEagCAAAAAAAAgEUEqgAAAAAAAABgEYEqAAAAAAAAAFhEoAoAAAAAAAAAFhGoAgAAAAAAAIBFBKoAAAAAAAAAYBGBKgAAAAAAAABYRKAKAAAAAAAAABYRqAIAAAAAAACARQSqAAAAAAAAAGARgSoAAAAAAAAAWESgCgAAAAAAAAAWEagCAAAAAAAAgEUEqgAAAAAAAABgEYEqAAAAAAAAAFhEoAoAAAAAAAAAFhGoAgAAAAAAAIBFBKoAAAAAAAAAYBGBKgAAAAAAAABYRKAKAAAAAAAAABYRqAIAAAAAAACARQSqAAAAAAAAAGARgSoAAAAAAAAAWESgCgAAAAAAAAAWEagCAAAAAAAAgEUEqgAAAAAAAABgEYEqAAAAAAAAAFhEoAoAAAAAAAAAFhGoAgAAAAAAAIBFBKoAAAAAAAAAYBGBKgAAAAAAAABYRKAKAAAAAAAAABYRqAIAAAAAAACARQSqAAAAAAAAAGARgSoAAAAAAAAAWESgCgAAAAAAAAAWEagCAAAAAAAAgEUEqgAAAAAAAABgEYEqAAAAAAAAAFhEoAoAAAAAAAAAFhGoAgAAAAAAAIBFBKoAAAAAAAAAYBGBKgAAAAAAAABYRKAKAAAAAAAAABYRqAIAAAAAAACARQSqAAAAAAAAAGARgSoAAAAAAAAAWESgCgAAAAAAAAAWEagCAAAAAAAAgEUEqgAAAAAAAABgEYEqAAAAAAAAAFhEoAoAAAAAAAAAFhGoAgAAAAAAAIBFBKoAAAAAAAAAYBGBKgAAAAAAAABYRKAKAAAAAAAAABYRqAIAAAAAAACARQSqAAAAAAAAAGARgSoAAAAAAAAAWESgCgAAAAAAAAAWEagCAAAAAAAAgEUEqgAAAAAAAABgEYEqAAAAAAAAAFhEoAoAAAAAAAAAFhGoAgAAAAAAAIBFBKoAAAAAAAAAYBGBKgAAAAAAAABYRKAKAAAAAAAAABYRqAIAAAAAAACARQSqAAAAAAAAAGARgSoAAAAAAAAAWESgCgAAAAAAAAAWEagCAAAAAAAAgEUEqgAAAAAAAABgEYEqAAAAAAAAAFhEoAoAAAAAAAAAFhGoAgAAAAAAAIBFBKoAAAAAAAAAYBGBKgAAAAAAAABYRKAKAAAAAAAAABYRqAIAAAAAAACARQSqAAAAAAAAAGARgSoAAAAAAAAAWESgCgAAAAAAAAAWeXm6AAAAACTOokWL1LFjR0+X4TFLly5VgwYNPF0GAAAA0ikCVQAAgDSmRYsWWrx4sZYsWeLpUjzixo0bni4BAAAA6Rin/AMAAKRBM2bMUL58+TxdhkeEh4d7ugQAAACkY4xQBQAASINy5cqlzz77TI0aNUpwvRkzZqhixYpuqso6Y4zCw8N1/PhxHTp0SFu3btWWLVssbRsWFpbC1QEAAADxI1AFAABIoxo2bKg33nhD06dPj3edjz/+WDt37pS3t7cbK7Oudu3a0f8+dOiQJk2apE8//VTGmHi3YYQqAAAAPIlT/gEAANKw8ePHq3Tp0vEu379/v0aOHOnGipKufPnymjlzppYvX66cOXPGux6BKgAAADyJQBUAACANy5Qpk+bPny8vr/hPPBo7dqx27tzpxqruzfPPP6+tW7fKz88vzuWc8g8AAABPIlAFACCFhP29S6tXbtXx656uBPe7KlWqaMiQIfEudzqdateuXZoKIkuXLq1FixbJ4XDEWsYIVQAAAHgSgSoAACkgKmiKmlauqmca1tBDldtrUYjL0yXhPjd06FBVqVIl3uWHDx9OMHRNjZ5++mn1798/VntaCoYBAABw/yFQBQAg2V3TD++P1ZpzThkZhR1bpAU/X/N0UbjPeXl5af78+cqUKVO860ycOFEbN250Y1X3buDAgcqVK1eMNkaoAgAAwJMIVAEASG5XftLiH07L+c9Nm1cpVSyf2aMlIX0oXbq0Pvjgg3iXu1wutW/fXqGhoW6s6t5ky5ZNgwcPjtFGoAoAAABPIlAFACCZXV71tVad//cUf7tyP99X3f3jv2AQkJy6du2qhg0bxrs8ODhY/fr1c2NF9+71119X5sz//SjBKf8AAADwJAJVAACS1SWt/Ga1Lv6Tp9r96ul/Y19VAd5x4UafffZZrNPkbzd9+nStXr3ajRXdm8yZM+uFF16Ivs0IVQAAAHgSX+8AAEhOF3/UNz9fkkuSbNlUc/BEdS0d+yrlQErKly+fZsyYEe9yY4w6duyoK1euuLGqe9O6devofzNCFQAAAJ5EoAoAQDK68MM3+vmyS5JNmav01cS3HhYn+8MTmjVrpnbt2sW7PCQkRG+//bYbK7o3DRo0iB51ywhVAAAAeBKBKgAAycV1Tt9/s1ZXXJLN9xH1nNhHlTN4uiikZ5MnT1bRokXjXT537lx99913bqwo6RwOh5588klJBKoAAADwLAJVAACSiev8Cn2z7oqMzUcPdZ+ogVUzebokpHPZsmXTvHnzZLfH/5GvS5cuunDhghurSrratWtL4pR/AAAAeBaBKgAAycKls98t0fqrknepTpowtJayeLokQNKTTz6pvn37xrv89OnT6tatmxsrSrpatWpJYoQqAAAAPItAFQCA5OA6o++WBOqao6jafjBKT/l5uiDgP//3f/+nSpUqxbt88eLFWrRokRsrSppHHnlE2bJlI1AFAACARxGoAgCQDFxnV2jphpsq1HKcRj+XizdYpCo+Pj5asGCBMmSIf1Lf7t276/Tp026sKvHsdrsqVarEKf8AAADwKL7vAQAg6fLlyzp16lSSt7f7ltXz/WZp6ZTmysu7K1Kh8uXLa8yYMfEuv3Dhgrp06eLGipKmYsWKjFAFksHRo0cVFRXl6TIAAEiTbMYY4+kiAABwp3Pnzik4OFi7d+/W9u3btX37dv3222/q16+f3nvvPU+Xh3Tq5s2bGj58uHr16qX8+fOnyDGMMapfv77Wrl0b7zqzZ89W+/btU+T4yeH8+fO6ePGi06/etQAAIABJREFUSpcu7elSgDQhKipKJ06c0JEjR6Lf83bu3KmLFy/q2LFjKl68uKdLlCQ5nU716tVLXbp0Ufny5T1dDgAACSJQBQDc90JCQvTWW28pODhYx48f17Vr1+Jc76efflKDBg3cXB0gbd68WR06dJDT6dSqVatUsmTJFDtWSEiIKlSooCtXrsS5PHv27Dp48KAKFy6cYjXg/nPw4EFt3Lgx0dtlzJhRHTp0iL596NAhbdiwIUk1dOrUST4+PnEumz9/frx9/53q1aunsmXLJqmG1GLOnDmaP3++goODFRISIqfTGWudYsWKKTg42APVxe3y5ctq3Lixtm/friFDhmjYsGGy2WyeLgsAgDh5eboAAABSWrZs2dS2bVtlzpxZly5d0ttvv60zZ87EWMfX11dPPvmkhypEejZq1CiNHDlSNWvW1JIlS5QrV64UPV7hwoX10UcfqU2bNnEuv3Llijp27KhVq1YRZsCy8+fPa9WqVdqyZYvOnz9/1/V9fHzk7+8vf3//GIHqxYsXtWfPHh07dkx79+6NN/i/XaVKlVSpUqUY+7nTgQMHdODAAe3bt09nz56Nd71ixYqpfPnyaT5QfeSRR5Q9e3blz59f8+fP17Rp03TnOJr69et7qLq4+fn5ae3aterWrZtGjBihAwcOaMGCBcqYMaOnSwMAIBZGqAIA0p3t27eratWqMdrq1aunNWvWeKgipEcRERHq2LGjFixYoDZt2ujTTz+Vt7e3247fokULLV68ON7lH3/8sbp16+a2enB/cDqd+uSTT9S9e/c4l3t5eWns2LHq2rWrMmXKlOC+Ll++rICAAK1fvz7O5ZUrV9aSJUtUtGhRy/WFhYVp9OjReuedd2K022w2ffjhh+rZs6flfaUlHTp00Jw5c2K0LV68WC+99JKHKkrYwIED9d5776lKlSpavny58ubN6+mSAACIgctmAADSnbiudM6p/nCnCxcuqH79+lqwYIGef/55zZ49261hqiRNnz5dBQoUiHd5//79dezYMTdWhPuBw+FQt27dVLt27TiXN2rUSH369LlrmCrdGrF4Z/B5u1mzZiUqTJVunY0wfPjwGMe32+2aMWPGfRumSrHf9+x2u+rVq+ehau5u7NixGjt2rHbs2KEnnnhCJ06c8HRJAADEQKAKAEh3/vjjj1htqe3UR9y/QkJCVLVqVW3cuFH+/v5auHChHA6H2+vIkSOHZs+eHe9p/aGhoerQoYNcLpebK8P9oHr16nG2+/v7J2o/NWrUUJYsWWK1Z8qUSY8++miSanM4HDFe1+3bt1enTp2StK+04s73vcqVK6f49CL3asCAAerTp49OnDihRo0a6dKlS54uCQCAaASqAIB0585T+3PmzJnkL+ZAYoSGhqpx48Y6evSoihQpohUrVihz5sweq+fpp5+O99RsSdq4caMmTJjgxopwv6hWrVqc7eHh4YneV6lSpWK13cv8vrt27VJYWJikWxfFGjVqVJL3lRZERERo06ZNMdrSyo+IY8eOVe3atRUUFKSAgABFRkZ6uiQAACQRqAIA0qFVq1bFuF2vXj3Z7bwlImUZY9SmTRvt379f0q2rcOfLl8/DVUnjxo1TuXLl4l0+dOhQHT582I0V4X7w+OOPx9keEhKS6H0VK1YsVltoaKhu3LiR6H1J0rfffhv977feeksFCxZM0n7Sik2bNik0NDRGW1oJVL28vLRw4UJlzZpVgYGBCf4ABACAO/HtEQCQrhw9elS///57jDbmT4U7jBs3TkuXLpUktWrVSnXq1PFwRbdkzJhR8+fPj3cO17CwMLVr105RUVFurgxpWb58+eIcff3XX38lel9xBaqSdOrUqUTvKzw8XLNnz5YkZc+eXf3790/0PtKaH374IcZtX19f1axZ00PVJF6+fPnUq1cvSdLMmTM1depUD1cEAACBKgAgnfn5559jtaWVkTpIu7Zu3aohQ4ZIunVxmPfff9/DFcXk7++vYcOGxbt8586dGjt2rBsrwv0griD077//Tpb9SEkLVGfNmhW9Xe/evZUzZ85E7yOtufN9r2bNmvL19fVQNUnTp0+f6Oeqb9++On78uIcrAgCkdwSqAIB0Zd26dTFuFytWTMWLF/dQNUgPjDHq0aOHnE6nJKlNmzap8hTjQYMGxTvvpSSNGjUqeroCwIoSJUrEaktKoBrfvJknT55M1H7CwsI0ZswYSVLu3LmjRz3ezy5cuKADBw7EaEuLZ2Vky5ZNXbt2lSTdvHlT3bp183BFAID0jkAVAJBuGGO0du3aGG1p8Ysl0pZ58+Zp9+7d0bd79OjhwWri53A4NH/+/DivqC7dCrXatm2riIgIN1eGtKpIkSKx2kJDQxN1tfaIiAh9+OGHcS5L7AjV6dOnR4ewAwYMUNasWRO1fVq0du1aGWNitKXVszI6duwY/e+VK1dq0aJFHqwGAJDeEagCANKNffv26fz58zHa0uoXS6QNoaGhGjx4cPTthx9+WBUrVvRgRQkrUaJEvOGVJB04cEAjRoxwY0VIy+IKVKXEjVKdM2dOvBeySkygeuPGjehpK/Lnz59uLm505+n+uXPnVuXKlT1Uzb0pVqyYHnvssejbPXv21JUrVzxYEQAgPSNQBQCkG2vWrIlx226366mnnvJQNUgPPvjggxinJT/77LMerMaazp07q3HjxvEuHzdunLZv3+7GipBWxReoWr0wVWRkZPQp+nFJzCn/U6dO1ZkzZyRJQ4YMUcaMGS1vm5bd+b5Xr1492Ww2D1Vz7wICAqL/ffr0aY0ePdqD1QAA0jMvTxcAAIC73DlSp3Llyne9IMmOHTu0fft2Xb9+XeXLl1fDhg3l5cXbZ1rhcrl05MgR7dq1S6dPn1Z4eLhcLleyH6ds2bJ6+eWXY7Q5nU5Nnz49RtszzzyT7MdOCbNmzVL58uV17ty5WMucTqfatWunvXv3pptQKj7Xrl3T+vXrdezYMd24cUM2m02FCxeWv7+/ypUr5+nyPO7BBx+Ms91qoDpv3jydOHFCWbJkUURERKzpJqyOUA0NDdW4ceMk3Qp5O3fubGm7tO6PP/7QsWPHYrTdbZqb8PBwLV26VCEhIXI4HHruuedUpkyZlCwzUQICAqIv8CfdGsE8evRoeXt7e7AqAEB6xDdCAEC6EBERoY0bN8ZoS+iL5YYNGzRq1KhYo3tKlSqln3/+Od6gAJ7ndDq1fPlyzZgxQ5s3b9a1a9dS/JjvvPNOrLb169fr9OnT0be9vLxUq1atFK8lOeTJk0ezZs1S06ZN41x+5MgRDR48WBMmTHBzZZ53/fp1TZ06Vd999522bdumqKioONerUKGChg8frhdffNHNFaYe93LKf1RUVPTo1KFDh2rRokXau3dvjHWsBqpTpkyJ/nFg+PDh8vHxsbRdWnfn+5cU//vezZs3NX36dL3//vsxHtc+ffrorbfe0qRJk1KszsQoV66cMmfOrNDQUEnSuXPntGLFihgjVwEAcAdO+QcApAtbt27VjRs3YrTFNX9qeHi4WrRoodq1a8f5ZfT333+PNRIRqUNUVJQmTJig4sWLq1mzZtq0aZNat26tr7/+WkFBQfr111/11VdfqXPnznI4HMl67LheS19++WWM20WKFFGGDBmS9bgpqUmTJjEuAnOnSZMmKTAw0I0VeZbT6dTMmTNVqlQpDRgwQGfPntX48eP1559/KjQ0VCdPntSECROin+ODBw+qefPmGjRoUIL7PX36tAIDAzVr1iwNHDgw0RdaSs3y5MkT5yhmKyNUFyxYoODgYOXMmVPdu3dXoUKFYq1j5ZT/a9eu6YMPPpAklSlTRm3btrVQ+f3hzrMySpYsGWfIvXfvXpUsWVK9e/eO8/U3efJkzZkzJ8XqTKwSJUrEuD179mwPVQIASM8YoQoASBfuDEczZsyomjVrxmi7fv26XnjhBa1Zs0Z+fn56+umnFRISoq1bt8ZYb/v27QoKCtJDDz2U4nUnRVhYmP7880+PHNvhcMT6susOQUFBateunXbt2iVJ6tGjh4YNG6bcuXPHWK9MmTJq3ry5GjVqpFatWiksLOyej+3n5xfjQinSrRHR33zzTYy2UqVK3fOx3G3ixIlat26dgoODYy0zxqhDhw46cOCAsmTJ4oHq3OfkyZNq0qSJdu/eLYfDoZkzZ6pjx44x5qLMlCmTevbsqYoVK6phw4bRp6ePHTtW1atXj3Ne2osXL6po0aIKDw+XJHXq1En58+d3z51yk8KFC+u3336L0Xa3QNXpdEaPTu3Zs6eyZMmiwoULx1rv0qVLCgsLk6+vb7z7mjRpki5cuCBJGjlyZLL/mJJaGWO0du3aGG1x/fATGBioJk2a6OrVq6pUqZIefvhh/fzzzzp79myM9T777DO1b98+RWu2qlSpUjpw4ED07R9//FGnT59Wvnz5PFgVACDdMQAApAPVq1c3kqL/GjRoEGP5uXPnzOOPP27sdrvp0qWLOXfunDHGGKfTaZo3bx5jW0nm+++/98TdsGTr1q2x6nXXn5+fn9vv7yeffGIyZMhgJJmMGTOaL7/80tJ2c+bMSZb7HBAQEGvfq1atirVejx49kvuuu8XmzZuNw+GI9/536dLF0yWmqIMHD5rChQsbScbHx8d88803d93mpZdeivEYFShQwERGRsZab9KkSdHrFC5c2Fy5ciUl7oJHNWjQINZrpnz58gluM3/+fCPJZM+e3Vy+fNkYY8yYMWPifP0dP3483v1cvnzZ5MiRw0gylSpVMi6XK1nvW2p24MCBWI/Vna/dZcuWGV9fX5M/f34zb9686McnODjYZMmSJca2hQsX9sTdiNPAgQNj3bcZM2Z4uiwAQDrDKf8AgPvetWvXtGPHjhhtt4/UuXr1qurUqaNffvlFy5cv1yeffBI9stFut6tixYqx9pkrV66ULRqWfPTRR3r99dcVHh4um82mRYsWqWXLlpa2bd68uTJlyhSjbeDAgbpw4UKi/j7//PNY+z548GCstpIlSybtTnpY9erVNWDAgHiXz5gxQ6tWrXJjRe6zc+dO1axZUyEhIZJujXZs1qzZXbfr1KlTjNsnT57Uvn37YrRFRERo/Pjx0bdnzZqlbNmyJUPVqUtcp5gnNIeqy+WKnpO4R48eyp49uyTFecq/lPBp/xMmTNClS5ckSf/3f/+Xpq9un1h3nu5vt9tVr1696NvfffedXnzxRf1/e/cd3mT1/nH8k6RllT1lKWWKgLJ3K1AQ+PlFpiz5igNBUFAUXAhUxQGIgqIXwldEBJQpMlWwrLKXQFu2Aspq2bWlK3l+fxQqaVJI07Rpy/t1XVwXOc1znjvlkDy5n3PuU7duXYWFhem///1vyu/H39/fYSzeaQPHrORstn9YWJgXIgEA3M1IqAIAcr0NGzY4bBxz68YcTz31lM6cOaO1a9fq0UcfdTh+27Ztdo/NZrPuv//+zAkWLps6daqGDh2a8jg4ONjpsuq0+Pn5OTx/4cKFKl68eLr+OKsRGRER4dCWE5f83xQcHKz69eun+fMBAwboypUrWRhR5ouMjFTXrl119epVSVLTpk01aNAgl44NCgqSj499Za3Q0FC7x//73/9SSnMMGDBAjzzyiAeizn6cbeB3+fJlh5rWN82fP1+HDx9WwYIF9fLLL6e0p5VQTavm7OXLlzV58mRJUpMmTdL13pAbpC5z07BhQxUtWlRSci3w//73v3rkkUf022+/OSRL//77b4dEda1atTI34HRwdnMqPDzcC5EAAO5m1FAFAOR6qWfqlCxZUnXr1pUkTZgwQSEhIdq0aZPq1KnjcKzVanVIhNStWzdl1lR29MADDzjUzssqvr6+WXKeLVu26KWXXkp5/OCDD2r06NHp7qdz586aP39+yuPjx49rx44daty4cYbiO3jwoENb+fLlM9SnN/n6+mrOnDmqX7++07qzf//9t4YNG6bZs2d7ITrPs1qt6tWrl91Myi+//NLlGY4Wi0UVKlTQiRMnUtp27tyZ8ve4uDi9//77kpJrjN46UzW3cTZDVUoeM9WrV7dru3V26pAhQ+xWAqQ3oTpp0qSUZPjN3/XdIikpyWHDuJurMmJjY9W9e3c9/PDDWrx4sUPiX5LWr1/v0NaqVavMCdYNzm5OkVAFAGQ1EqoAgFwv9UydoKAgmUwmrVu3TmPGjNGyZcucJlMlaceOHbp27ZpdW+vWrTMtVk8oXLhwto8xI2JjY/XUU0/JZrOltI0bN86t5bypN62SpJMnT2ZKQjVPnjwZ6tPbatasqY8++shu1uCtvvvuO3Xr1k1dunTJ4sg8b8KECXZJpebNm6tevXrp6qNixYp2CdXo6OiUv0+bNi1lBmBuXep/U1oJ1dOnTzskVBctWqSIiAgVKFBAr776qt3P0rPk/+LFi/rss88kJb9fBwUFuRO6R5w6dUqffPKJ9u/fr9q1a+uVV15RpUqVMvWc27dv1z///GPXdnNVxsCBA2WxWDRv3jynyVRJWrNmjUNbdvpMcbZx27lz53Tp0qVsVZoAAJC7seQfAJCrnT9/3qG2Wtu2bXX69Gn17t1bn3zyyW2X2qae3Splr5k6d6NRo0bp6NGjKY8bNmzo9nJeZ7vT35zV5q7Lly87Xf6e0xOqkjRs2DCnO4XfNGjQIF24cCELI/K8yMhIffjhh3Zt/fv3T3c/qWdr33x84cIFvfvuu5LcWeofq8PLJ2vs2E/108GYdMeUfladC/1a740ep1lbI2W78wEOnC35l5JnqN7KMAy99957kpKTfqVLl7b7ef78+Z3WrnY2Q3XixIkpCWxvzk49ceKEmjZtqilTpmjdunX6/PPP1aRJEx05ciRTz5v6c6tAgQJq3ry5pk6dqpCQEC1fvlx+fn5pHp/6JmSFChU8UwPaek6hX7+n0eNmaWukO6PpX86SwZn9ewUA4FbMUAUA5GqpvxhKyTNU+/btq86dO2vIkCG3PT71F1OLxaKAgACPxgjXXbhwQdOmTbNrc3UTKmecfSm/dearO9KqDZlV5RAyk8lk0qxZs1SnTp2UzX5uVbhw4Rz/OoODg+1mk+bLl089e/ZMdz+pSyPcnIX6xhtv6PLly7r33nvTvdT/6sqX1L7r1zpplSzTt2jW7vnqVy7z5kckhU1Qt/ajtDXWkOmTpTqxYbOCG+ZNVx8VKlSQ2Wx2+H+VOqG6ZMkShYWFKW/evBo5cmSafV28eNGuLXVCNSoqSlOnTpUkPfroo2rWrFm64vWkCRMmOMQXGRmpd955x+lmdp6S+nMvICBABw8e1Ouvv66QkJA0Z/tKybPrU28a9vDDD3sgqiSFTeim9qO2KtYw6ZOlJ7Rhc7DSOZxS+Pj4ONRGT+u9FwCAzMAMVQBArpY6IVq1alWtXLlSZ86c0aeffnrbY2NiYhw2pMru9VNzuxkzZjgkqrp27ep2f87qgTrbZCo9EhISnLbnhhmqUnIt2Jub/dyqQIECWrx4cY7+/3H+/HnNmDHDrq1Tp04pm/mkR0yM/QzScuXKafv27Zo5c6ZMJpNmzpyZzqX+CTq4YbNOWw1Jhqznf9HSDdfTHVd6XNsWqj3XDUmSEbtfK1amfwagr6+vypUr59B+a0L11tmpzz77rNPnS86X/ade8j9+/HjFxMTIZDKl1GP1li1btjhtT13f1JOcfW61atVKTz/9tF577TU1adLktsdn3qqMa9oWukfJw8lQ7P4VWnkk6U4HpcnZjZu03nsBAMgMJFQBALla6pk6VatW1VtvvaVvvvnmtkseJWnjxo0OX9Bu1qFD1rNarQ6zU2vVqqXKlSu73edff/3l0FalShW3+7sdwzAypV9vWLlypUPb9OnT9eCDD3ohGs+ZO3euw6y3Fi1auNXXrfVTpeQ6rC+88IIMw9CQIUPcqOvpo3urV5bfjVLBpjxVVKu6m9P7XFSwWlVVsNx4YC6m6jXd21jN2bL/W2dBLlu2TPv27ZOvr69ef/31NPtxllC9dQbouXPn9OWXX0qSevTokbL5oLeUKVPGabuzGqCesnHjRiUmJtq17d69W1JyuZQ7cZZQ9cznXkFVq1pB/w6n6qpZ3v3Fks5WF1itVrf7AwAgvVjyDwDItY4ePapTp07ZtYWEhOipp55Sy5Yt73i8sy+W//nPfzwWH9Ln999/d/j3fOihhzLU57Fjx+we+/r6qn79+hnqM62ZqKmTHDnVpEmTtGDBAru2F154QU888YSXIvKc7777zqGtVq1a6e4nMjLSrhavxWJReHi4du/erapVq2r8+PFuRGdWuSenaObJIvp6d5JqPzFGrzXI3Ev5PAFv69tJ8Zq4+qxKtR2ucT3c2/Dnvvvuc5iteesM1Zs1Zfv3759mzVXJeUL14sWLSkxMlK+vrz766CNdv35dFoslpU9veu211/Tbb7/ZJfrMZrPGjBmTaed09rm1fPlybdmyJc1NqG6yWq12m7FJUu3atdPcWCx98ijg7W81KX6iVp8tpbbDx8nN4STJ+ftpTi83AgDIWUioAgByLWf1U318fPTOO++4dXzJkiW9Wo/vbrdr1y6HtmrVqmWoz+PHj9s9fuihh5QvX74M9Zk3r/NZg7khobpu3TqHGYTNmjW7Y/mMnODkyZP6/fffHdrdSaim3hynbNmy+vDDD2U2mzVr1qw7zo5PU54q6vbeXHVz7+j0M5dSi2HT1GJYxrpxlpC7mVBdsWKF9uzZIx8fH7355pu37cdZQtUwDJ09e1YWi0VfffWVJKlfv366//77Mxa0BwQFBWnjxo0aNGiQjh49qmrVqunLL7/M1Drczj73unXr5tKNop07d+ratWt2be5u+OeMuVQLDZvWQhkcTpKcv5+m9d4LAEBmIKEKAMi1nM3UGTZsmO655547HhsVFaX9+/fbtXXs2FFmczqr5cQe1vLp87TLqK/eAzurppt5FDhPqGZ05+nNmzfbPXZl5vKdlChRQn5+fg41NHN6QvXvv/9Wr1697GbblS5dWgsXLswVM8NuLou+VfHixd1ann306FG7xzeThyNGjHC7hEBO5mzWaWRkpBITE1Nmkvbt2/eO5TsqVqzotP3s2bOaPXu24uLi5Ovrq7Fjx2Y8aA9p3ry5Dhw4kCXncva55ePj4/Js3Zy0KsPZ+2lmllIAACA1EqoAgFzJZrNp3bp1dm0+Pj4aPny4S8f/9ttvDjUv0z9T56pWvtReXb8+Kassmr5llnbP76dM3JRbkhQWFqannnoqc0+ShsKFCyskJCRT+k6dKJCkSpUqud3f4cOH7WaomkwmPffcc273d2s/NWvWdEgAX7lyJcN9e0t8fLy6d++uqKiolDaLxaL58+erfHn36mpmN3v37nVoe+CBB9zqa8eOHU778vYmSd7ibIaqYRj6+uuvtXPnTpnNZr311lt37Cet3em3b9+u//3vf5KkAQMGyN/fP2MB51AhISEOn1vdunVz+cZT6oRqqVKl1LRpU4/F5ylWq1U2m82uLW/evJlW/xoAAGdIqAIAcqXff/9dly5dsmtr166dSpcu7dLxqb9Y+vr6qn379ukLIuGgNmw+LashSVad/2WpNlzvpz6ZPEv1n3/+cTrbLiu4sxu6q26tSXlT/vz53e5v1apVdo87dOjgdgIttVq1ajkkVI8dO3bHHbazqxdffNEhSfjhhx96aPfv7CH1rFIpebaxO1Lv4u7j46Nvv/32rl2SnFYNzpubJPXs2VM1atS4Yz9pJVTfeecdJSQkKH/+/Hr77bfdDzSHc7bc39XaxrGxsdq6datdm1urMrJA6s92Kbn8i8VicfJsAAAyBwlVAECu5GzpYno2zUl9fGBgoAoXLpy+IHzuVfXKfjIdvCpDJuWpUkuZvCl3rubJTUgMw9CMGTPs2kaMGOFWX844q7uZegOsnGLGjBkps/9u6t69u0aOHOmliDJHXFycQ9udNvFxJjIyUgcPHrRre/PNN9WwYUP3AkuK1pmjEQoPO6D9YQcUduCADqqTvl4wXLUy40reFquLJ48qIiJCERERCg8PV/ihaLWctFLvtHC+4dqdpLXR1KVLl2QymVxOgvr5+alo0aIOs71vJtiGDBmicuXKuRVjbpD6c6t48eLq2LGjS8du3LhRCQkJdm2eqJ9qi72ok0cjboyncIWHh+tQdEtNWvmO3BxOTm9+1KxZM4ORAgCQPiRUAQC5UuqZOn5+furSpYtLxx4/flwnT560a3Orjpy5nJ6cMlMni3yt3Um19cSY15TJm3JLSl6m2b9//8w/kRNub7bjggIFCji0xcbGutXX8uXL7ZJePXr0UJs2bdyOLbXatWs7tDlLAmR3O3bs0NChQ+3a7r//fn3zzTdeiijzOJs9ev369XT3k3qX9JIlS2r06NFuRPSPfhndQ8E/HdHRoyd1Kc6m5MXcFt03eJSqevy95B+tCe6niRuiFPVHmA78de3G7HrJVLS7nqnlZvZLUqFChVSsWDFdvnzZ4WfdunVL18ZfFSpUcFo+o1ChQnrjjTfcjjGn+/PPP/Xnn3/atfXo0cPlm06pPzPdWpVxq3/WKLjfRG2IitIfYQf01zXrjfFrUtHuzygDw8npzSkSqgCArEZCFQCQ68THxys0NNSurXPnzi4n+5wtm0w9UycmJkYff/yx3n777dsuM8xTpZvem5tle3JLkqpUqaJZs2Zl6TmzQrFixRzajhw5ku4afzabTe+//37K4woVKmj69OkZju9WzZo1U758+exmPea0hGpUVJS6d++u+Pj4lLaCBQtqyZIlKlSokBcjyxzOlve7k7BPvdz/4YcfTjOpFRsbK5PJlEbpioJq/97Pav+eFLN2sGp3mKYTVknm4mrZtok8P9m9oNoFL1U7SUrYpVGNmuuD/YmSTMpTL1AB6Zygn9p9993nNKGa3iX6FStWVFhYmEP7yy+/rJIlS7odX06X0VUZqT/3AgMDHf6f//LLLzKZTHrkkUfu3GEKkZCaAAAgAElEQVTBdgpe2k6SlLBrlBo1/0DJwymP6gUGKCPDydl7abt27TLQIwAA6Zf9iuIAAJBBW7dudUiE9OjRw+XjU2+qVKVKFbvNLgzDUP/+/bVhwwaZTKaMBQuXOavXeejQoXT38+mnn6bUA7VYLPr222+dJmszomjRog4zonNSQtVqtapXr14pu9PfNHPmzFw7E8xZkujgwYMOm/zcjmEYWr16tV3bPffc4/S5NptNnTp1clobODVLXLzibs4W9Wumtg8XdDkmt1hKqHhKxstHNQMCM7yZnrM6qp06dVLdunXT1Y+zOqrFihXTq6++6nZsuUHqhGiZMmUUEBDg0rGXLl3Svn377No6dOhg9/jo0aPq3bu30/qld2IpUfzfBKpPTQUElsvQl9DU76X33nuvWrRokYEeAQBIPxKqAIBcJ/VMHYvFotatW7t8/Lp16+wep659+P777yskJESzZ8/Olht25FaPPfaYQ9uPP/6Yrj4OHDiQshGOj4+P5s2b59Gl/rd65pln7B5fvnxZFy9ezJRzedrrr7/u8P/glVde0eOPP+6liDJf+/btHcpKnD9/Pl0bvE2aNMlh2XVatZc//vhjFS5cOM2E678StC90uy7YJMmkPA3aqLVn8/+O4g/owBFr8t8tZdUsoGaGl7U5q6PqTikEZwnVkSNHqkiRIm7FlRsYhuFwI7BNmzYu3/DbsGGDbDabXdutn3vR0dHq0qWLHn30UfXu3Tvd8cUfOKB/h1MzBdTM2GhKveS/d+/e3NwEAGQ5vgUCAHKd1DN1GjRo4PLu8wcPHlRkZKRdW/369VP+PnnyZL377rtauHBhmjtOI3M0aNBADzzwgF3boUOHnC51debgwYN65JFHFB8frzx58mjhwoXq2bNnZoQqSQoKCnJIIkVERGTa+TxlwYIFmjRpkl1bYGCgxo8f76WIskb+/PmdbuCzcuVKl45/5513nG7UdWvJhJvCwsIUHByckty/LeufWrfhqJLzUT6q3TpI5TP5Cj4pfJt2XU5OsJkLN1Fgo4wXGEg9Q7V9+/Zq1KhRuvtJ/b5bpkwZDRs2LEOx5XT79+9XVFSUXVvbtm1dPj51mQpJqlevniTp6tWrat++vfLnz+9maZQkhW/bpeThZFbhJoHKyHD6559/tH//fru2Pn36uN8hAABuIqEKAMhVrl27pp07d9q1peeLpbMl5MeOHUupuzl8+HB98cUXCgoKSrOPpOgzOrh9jRb+b5LGvvS0urVpqm6fhivJ9ZcBJ0wmkz7//HOH9g8++ECJiYm3PTY0NFStWrXSuXPn5O/vr7Vr17q8SZm7zGazw+ZgK1asyNRzZlR4eLjDzNpy5cppwYIFbu14n9N89NFHDjdf5s2bp+jo6DSPMQxDQ4cOVXBwsNPSIr/++qvd4wMHDqhLly4KDg52mP3ujO18iEL2JSVv6OPjr1Ztq2fyJgg2/R26WUeTJMmkPPUDFeCBkrmpE6rubdTlmFB98803M3UzvJzA2U2l9Hzu3bpB301Hjx5VVFSU2rRpo1OnTmnZsmVONwa8I9vfCt18NPnzz5RH9QMDlJHhFBISYvd+/+CDD6a7bAQAAB5hAACQi/z000+GJLs/ISEhLh//1VdfORwvyTCbzYYkY8yYMWkfHP2z8Xb7pkYd/xJGPrPp3+Mt9xmD18Z54NXBMAzjs88+c/j36dixoxETE+Pw3FOnThnPPPOMYTKZDJPJZAwePNiIjo7OslgvXLhglCxZMiXOatWqZdm50+vKlStGtWrV7H6vvr6+RmhoqLdDy1KrV682LBaL3e+hdevWRlyc/f/hpKQkY/78+UbDhg2N0qVLGwsXLjQMwzCaNWvmMD6HDx9uLF682HjppZcMPz8/Y8CAAS7Hc3luD6OoObkfS/lnjVXXPfpynbhkfNe1iGGSDMnXqB+830j0QK/bt2+3+326Kzw8PKWfihUrOvy73I06duxoN97S+z5Tr149hzFrMiV/hpUpU8bYs2eP+8Fd+s7oWuTG56FvfSN4f8ZG0+DBg+3iXL16dYb6AwDAXSRUAQC5ytChQ+2+bOXPnz9dX7jDw8NTvkje+qdgwYLGggULXOzlH2PN85UMy81kbKknjMVZl8O7KyxdutSoUKGC3b9R8eLFjWeffdYYM2aM8fLLLxt169Y1JBl58uQx+vfvb+zdu9crsc6aNcsuzgMHDngljtux2WxGp06dHMb9lClTvB2aV4SGhhr+/v52v4uyZcsazz//vDFq1Chj0KBBhr+/v2E2m40+ffoYUVFRKcdu27bNISF780+BAgWMDz74wEhMdDWpFGOseLbcjfcSs1Gs5w/Glcx5yf+K+9kYWOFG/BZ/48UQzyQsz50759ZNrtSuXbuW0s/06dM9EltOlpCQYPj5+dmNs8GDB6erj5dfftnpeG3evLlx+vTpDMUX9/NAo4Llxg0B/xeNjAynxMREo1y5cinxdejQIUOxAQCQESbDSMfWpQAAZHNr167V+fPnUx4XL17caV3E21mwYIHGjx+vyMhIlS1bVt26ddMTTzyhihUruthDnFY846/O35yTTSYVemym/vzpKZVIVxS4k7i4OP3yyy9asmSJ1q5dq0uXLikuLk4Wi0WVKlVS8+bN1bx5c3Xt2lVlypTxaqytW7fW+vXrJSVvoDNhwgSvxpPau+++q7Fjx9q19e3bV3PnzvVSRN6XmJiopUuXasGCBfr99991/PhxGYahQoUKqVatWurVq5d69uypcuXKORx7/PhxTZgwQRs3blR0dLRKly6tdu3aaciQIU53u09TQqheqdNanx5Jkkx+6jDtmFYOvCdTa3Yl7R2tBk3GaX+iZC7eRz+cnKfHC2a8X8MwVKBAATVo0EChoaEZ6qtIkSIqXbq0Dh48eFeUorida9euafny5XZtjRs3VrVq1Vzu4/r16xoxYoRWrlwpk8mkBg0aqHfv3urcubN8fX0zEF2S9o5uoCbj9itRZhXv84NOzntc7g6nxYsXp5TV8PHx0b59+xzqagMAkFVIqAIA4GkJ2/VGvZYaH5EkmfKq1aeH9dtL91G4PAvYbDaZzdnvN3348GE9+OCDSkhIUKlSpfTnn39mm7qPq1atUqdOnex2+a5Tp462bdvmXs3EXCyrx1fSgXfUtEGwdidKpjwtND5ig0ZWsWTiGW069VlbVX95neINk/I/8qWOr35eZT30kqdPn67GjRtnuObl119/rZo1a6p58+aeCQyZw3ZKn7WtrpfXxcsw5dcjXx7X6ufLuv1Z2KxZM23btk2S9MILL2jq1KmeixUAgHTKft84AADI4ax/rtOGo8l7csuntloHlecDN4tkx2SqJNWoUSNlR/eoqCh99tlnXo4o2R9//KF+/frZJVOLFCmixYsXk0x1ImvHl02nQ9Yr7MZudj41W6vtfZmZTJWkaG0J3avE5B2wVCsgUKU9+JIHDhzokQ2Enn32WZKpOUH0FoXuTbyxoVotBQSWdvuz8KeffkpJptaqVUvjx4/3VJQAALgle37rAAAgx7LpfEiI9iUlLwDx8W+lttXv7iWpSPb222+rU6dOkqSJEyfqypUrXo0nNjZWXbt21eXLl1PaTCaTZs+ena7lwsgsV7Rh/R4lGJJkUcXAID2Q2W8l8bu0cUe0bJLkc59aBFZVZqdwkXvF79qoHdHJN2t87muhwKrujabr16/r5ZdfliQVKlRIixcvzjYz/AEAdy8SqgAAeNQ1rQ/ZqfgbSZAyAUGqn8fbMSE7MJvNmjt3rmrXrq3Lly9r8ODBXo1n4MCB2r9/v13bG2+8occee8xLEcFO3DZt3BGTPLvPXEIt2zRSXklSvMIWzdMWZ/l4W5yiTp1QZKzNyQ/vLOnwJm0/kzy73ly0qQIb8OYFdyXp8KbtSh5OZhVtGih3h9OoUaN04sQJmc1mff/996pRo4YnAwUAwC0kVAEA8KTYzQrZcmOGl7mwWrRrrnzejgnZRqFChbRixQqVLVtWP/zwgyZPnuyVOKZMmeKw4VTbtm01btw4r8STEW3atNGQIUO8HYbHJR3Zob1RyclNU6EWCgrwk2TTpd9GafiCGJUplOr5x75V/zr3qGylyipXtqY6jVmpv6zpOaNNkaGbFZEkSSblbxSoFvk981pwF7JFKnRzhJKHU341Cmwhd4bTtGnT9Omnn0qSPv74Yz366KOejBIAALeRUAUAwIMS9vymTZE3kiD5myjo4UJ3OAJ3m/vuu08rV65UoUKFNHLkSC1btixLz79x40aNGDHCrq1ixYr6/vvvs20N2rTExMRo/fr1Xi+fkBkSjhzWHzfrp9ZprpZFpSvbJ6nfW1EaOPlZ2e9NFaNlwSM0J+KqrIYh67UjWvF+Pw2Y9odcz6nGaPOmmyUGfFQ7IEAlc9ZwQHYSs1mb9iTcqJ9aWwEBJdP9xXPVqlV68cUX5evrqxkzZmj48OGZECgAAO7hMgkAAI9J0uHfNurPGzO8fOu2UVApPmrhqF69elq/fr1Kly6t7t27a86cOVly3jNnzqhnz55KSkpKacubN68WL16skiVLZkkMnhQWFibDMFSwYEFvh+J5NltyMkqS9dAijXm+s1r2+1UPfz5Vj5dL/b4Sr8uXY1Ken3z8Va2f/6NOuppRjd+tTTuu3qif6q8WgZWpnwq3xe/epB1Xb9RP9W+hwMrpG007d+5Ur169VKhQIa1evVoDBgzIjDABAHAb3/IAAPAU22mFrA9LXuIoH9Vs3VaZvik3cqz69etr+/btqlWrlp588kl9/vnnmXq+hIQEde/eXefPn7drnzJliho1apSp584smzdvlqRcmVDN27i1mhVJvlS3Xdypldv89PzcRXq9sbNZ70XVaegQNShqkSmlzZD19EmdSnLydCesx0O19UaNAEuZAAXVo34q3GXV8dCtN0pOJNcST89wWrRokVq1aqVSpUppy5YtCgoKyqxAAQBwG9sOAwDgKVc2aP3NJY6WigoMeoAPWtxWhQoVFBoaqr59+2rYsGEKDw/X559/Ll9fX4+f66WXXtK2bdvs2p5++mkNGjTI4+fKKhs3bpSUOxOqlkoDNW/DPfoh5G8VqNxE7To0Urk0k1Jmle7wsbafeFF7951QQmGTVg1sp/HWEirh0k0dmyI3blJ4UnJfRQPaq0UBT70S3HVskdq4KTz55qK5qALat5Crw+m9997T2LFj1atXL02dOlUlSpTIxEABAHAfM1QBAPCQuG0btSMmedGtuURLtWmUvCe34sO0aN4W5b4qj/CEggULatmyZfr222+1fPlyHT582OPnmDVrlqZNm2bXVq9ePX355ZceP1dWMQxDoaGhkiQ/Pz8vR5MZzCr2YBcNfvlF9X/sdsnUW44oUkkNAlupWU3p2mWzqj/SUTVcuqsTo03rdynekGQupjaPBalIBqPHXSxmk9bvilfycGqjx4JcG02RkZGaOXOmFi1apO+//55kKgAgW2PiDAAAHpGkIzv2KnlTbpMKtQhS8qbcl/TbqOFaUGOauno5QmRvTz75pPr06ePx2al79uzR4MGD7dqKFy+uxYsXK1++fB49V1YKDw/XxYsXJeXOGaruS9KRGe9r7vUumjqsoVxaaR0XqjWhyfVTzWUeVd//FM/kGJGbxYWuUehVmySzyjzaV64Op9KlS+vo0aPy8eErKgAg++PTCgAAj0jQkcN/pNRPrdO8pYrqirZP6qe3ogbqxwlV2OAFd+TpZOrFixfVrVs3xcXFpbSZzWbNnTtX/v7+Hj1XVlu1alXK30mo3mTTudUj1Oe9s+o9c456lnVtMVr81lUKOWeVTL6q8cRAdXBWphVwSby2rgpR8nCqoScGdlB6hhPJVABATsGSfwAAPMRmS9mTW4cWjdHznVuq368P6/Opj8thU24gk1mtVvXu3VsnT560ax8zZow6dOjgpag8Z968eSl/z51L/tPJdlFbp/RWq+e2K2jWr/rs0dIOF/pJx+ZrRNc2ats7WKtO2260xil04QqdtErmYu316rBmyrnzlpF1knRs/gh1bdNWvYNX6d/hFKqFK07KKrOKtX9Vw5oxmgAAuRO3AAEA8Ii8aty6mYos+llXbDZd3LlS23q9p7mzX5TTTbmBTDZq1CitXbvWru3//u//NGbMGC9F5DkRERHat29fymNmqEoyrurPi/cr+JeZ6l3L2e8jVivfG6pPl0bJpk36u2J7tZ3YTD6RS/TVolOymospaOxE9a/I3R+4IHal3hv6qZZG2aRNf6ti+7aa2MxHkUu+0qJTVpmLBWnsxP5iOAEAcisSqgAAeIRFlQbO04Z7flDI3wVUuUk7dWhUzrX6hYCHLVmyROPHj7dr8/f315w5c2QymbwUled8//33do9JqEqyVFbfd9+9zRPM/y6nNpfUQ/X95WM7pfkvvakfL+RRjaena+YL9/PlAK4x++jf4fSQ6vv7yHZqvl5680ddyFNDT0+fqRfuZzQBAHIvk2EYxp2fBgAAgJzg4MGDatKkiaKjo1Pa8ufPry1btqhu3bpejMwzYmJiVKlSJV24cCGlbc+ePapXr54Xo8oZko7N1oDOwzTnkI/qdf+PKpxcq7WH/NR25FRNfaOdypP/gsuSdGz2AHUeNkeHfOqp+38q6OTatTrk11Yjp07VG+3Kk5wHAORqJFQBAAByiWvXrqlx48Y6fPiwXfusWbPUv39/L0XlWRMnTtRrr71m13bkyBFVq1bNSxHlMEnntW/teu0+eU2+pWuoSZuWql6EddlwT9L5fVq7frdOXvNV6RpN1KZldTGcAAB3AxKqAAAAuYBhGOrWrZuWLl1q1z5o0CBNmzbNS1F5VmxsrPz9/RUZGWnXfubMGZUtW9ZLUQEAAOBuw/1DAACAXOCjjz5ySKY2btxYn332mZci8rzRo0c7JFMlyc/PzwvRAAAA4G7FDFUAAIAcbs2aNerQoYNsNltKW6lSpbR7925VrFjRi5F5zpo1a9S+fXs5u3S1Wq0ym5knAAAAgKxBQhUAACAHO3HihBo2bKiLFy+mtFksFv36669q06aNFyPznNOnT6tRo0Y6e/asw8/y58+v2NhYL0QFAACAuxW38gEAAHKo69evq1u3bnbJVEkaN25crkmmHj9+XC1btnSaTJWkggULZnFEAAAAuNuRUAUAAMihnn/+ee3du9eurWvXrnrjjTe8FJFnrV+/Xi1bttSJEyfSfA71UwEAAJDVSKgCAADkQF988YVmz55t11a9enXNmjXLSxF5TlhYmLp06aLWrVvr3Llzt30uM1QBAACQ1Xy8HQAAAADSZ8uWLRo+fLhDe8uWLTVjxgwvRJRx169f17FjxxQSEqK//vrL5eNIqAIAACCrkVAFAADIQc6dO6cePXooMTHR4WczZ870QkTexZJ/AAAAZDWW/AMAAOQQiYmJevzxx9PcoOluxAxVAAAAZDUSqgAAADnEq6++qtDQUG+Hka2QUAUAAEBWI6EKAACQA8yZM0eff/65t8PIdljyDwAAgKxGQhUAACCb+/333zVw4EBvh5EtMUMVAAAAWY1NqQAAALKxhIQEjR07VlWqVPF2KNlS5cqVvR0CAAAA7jImwzAMbwcBAAAAAAAAADkBS/4BAAAAAAAAwEUkVAEAAAAAAADARSRUAQAAAAAAAMBFJFQBAAAAAAAAwEUkVAEAAAAAAADARSRUAQAAAAAAAMBFJFQBAAAAAAAAwEUkVAEAAAAAAADARSRUAQAA7gLWc6H6+r3RGjdrqyJt3o5GUsJ5Hdp9SOcTvB0IAAAAkD4kVAEAAHK7pDBN6NZez40Zp9HPtNX/vbvLm8Hor5/f1eMdX9DCC34qlifVj2NO6/f1K/Tjzwd0KTskfgEAAIBUSKgCAADkdte2KXTPdRmSZMRq/4qVXgrEqj/nPKnWz2xQs8lzNbp9RaXkU21R2jLlSTXw91f91p3U7bG++nh3kpfiBAAAANLm4+0AAAAAkMkKVlPVChbpeJIks4pVr+mdOC4u1luvLlJ852UaUifvv+3xx/T9kM567psIxRiSZJJP+cZqWpl7/wAAAMh+SKgCAADkdnkC9Pa3kxQ/cbXOlmqr4eN6eCWMhMM7tOeSTWaz5d/G6F2a0q+bRi7/S4k3kql5K3XWxCVT9FgJEqoAAADIfkyGYRjeDgIAAAC5n+3iEj1dt5e+u1xVXYY+pSa+fyjk+3lac+wfGTLJp9gD+r9nX9WoN/qrMclUAAAAZFMkVAEAAOBEgiL3h2jNlgidOHNWUVfiZHV61WhSgQbP6P2n6rq09Cn2+M+aOWOhNoQf1/7QTTqaVFWdBg1W745Bat2iju7J5+GXAQAAAHgYCVUAAAD8yxqlnd9+oLEff6e1hy7eWIZ/OyYV7bNAZ+f1kOu50HiFTe2qR8Yl6OXlP+q1RoUyFDIAAACQlaihCgAAAEmS9fRKvdn7GU3eHKlEw6S8pWqpdWAj1bi3jEr4+crk9CiT8tWpmY6LSpvO/vSierweoaBvt2oEyVQAAADkMCRUAQAAciWbYi+e1NGICEVERCgiPFzh4YcU3XKSVr7TQnlSPTvp2Lfq136QFvyRIN8KrfVS8Ad6s39TlfHw1WLs3kl64plvldhnsT7pVlZUSgUAAEBOQ0IVAAAgl/lnTbD6TdygqKg/FHbgL127WfzUVFTdn6nlkExV9GYF93lRC/5IVJGmIzRv0YfqWN7i8bhs55dreO+3FVrsKf04/lGVIpsKAACAHIgaqgAAALlWgnaNaqTmH+xXoiRT3taafGStht1rtn/O6CZq8f4+GdWe1aINX+mxezIh05l0RNO7BmrIz3566scdmv6fEsxOBQAAQI7EDFUAAIBcy6ISxQunPPKpGaDAcvZpTNuZeRr35X4lmCtpwCfjMyeZqhhtH/ekRqy8oLL9vtAH/0cyFQAAADkX17IAAAC5VrwOHDgiqyTJorLNAlTT7na6TacWztavlw3lbfScXulQPBNisOnSz6/pyQ93KKZ0Z33wYVeVTvcVaLz2fdFL9WvUU/fJOxWTCVECAAAAriKhCgAAkFslhWvbrsuySZK5sJoENlJeuydc1cb1uxRn+Khe526q7vmyqbJFLtfIITN0NLGgAl97X33Lu3H5mbBNMz9dor1HfteP70zSqljPxwkAAAC4iiX/AAAAuZTt71BtPpokSTLlqa/AgEL2T0j6Q0eOx8kw5VHiwR/04bj0Z1RN+Wur+0tddL+zq0rbGS0cPlTfnkiSzwOD9cGQ++VWztZyn2pWKyjz8avKX6O2qjvsqgUAAABkHRKqAAAAudTV0E3al5i8/6jPAwF6uEyq2aHWaF39xyYZMdo9O1i73TiHuVhf1XzBWULVprPzX9Er8/+S1VRSnV8frib53HkVkiyV9PwP2/XAljMq3SzQefIWAAAAyCJcjgIAAORK8dqxaaf+MSTJogrNA1U99ZWfqYD88pskU37d36GvWpY3pfssJr8m8ndyRWm7uEJvv7lYZ60m+dYeoNd63ZOxWlNFqiuwY/WM9AAAAAB4BAlVAACA3CgpQqHbzidvSGUuoqYO9VMl5fFX1Up5ZIpIVMmgUZr2qr97S/IdxGrbhFH67lSSDFMBNX9mgBqyTB8AAAC5BJtSAQAA5EK2M5u0+fCN+ql5GyqwZQEnzyquFi3ryNeUpL0rl+mk1TPntv75jYKnhSvRkEx+D+uJPhlM1CZc0Ym96/Tj4lD95aEYAQAAAHeRUAUAAMiForeEau/N+qm1AhRY2tlln0XVH++t5n5SbOg0fR76jwfOHKctn3+mddGGJJPyNuqg9k7PfQex2zTtxX7q2LCSihUuocr1g9Tvf+HyTX9VAgAAAMCjSKgCAADkOvHatXGHom2S5KP7WgSqahpTRC1VB2jUk5VlSTqsaUPHaN1lW8ZOffVn/e+HY0q6Ubv13noNdI87V5wFmur5qXP00xe9Vc5qk2HyVb02QSrF1SsAAAC8jEtSAACA3CbpsDZtP3OjfmpRNQ1soLRLmBZUm7cn6r+VfRR/YIp6df9AoRfdT6rGrF+qX87fPN6kgoUKZeiCM/HMaUXZJPncr9ZtK3moxisAAADgPhKqAAAAuYwtMlSbI27UT83fSIEt8t/2+eayXfXZ3GAFFJcurBuj9s16aNyyw0p/AYAkRWzfrUsp+Vir/tizU5Fu52cTtGvdFl2ySZYKgQp6gP1UAQAA4H1clQIAAOQyMZs3aU/CjfqptQMUUPLO99ALNnlLK38rpqd7vKLFR3/U6C4r9VnNQD3Srrnq+JdVcT8fOS9falLeKkHq27qSLLLq0sUr+jd/atOVlSPU6blojR3STa0fuleF0nP1mRSh3zb+JavMKhPYVo3ypuNYAAAAIJOQUAUAAMhV4rV70w5dvVE/1b9FoCq7uE6+YN3BWrg7UAsmvqWxX6zS4Yi1mhux9g5HmVS0zwI93rqSLPJRtfurKI/pb103bvzYdkV7Zg5X55nDZTL7Kl/BQipStLTurdlYbXsN1rAnm6pMGvFZT/2mdQeTJFNhNQ8KkJ9rLwMAAADIVCRUAQAAchPrcYVu/Su5fqqljAKC6t2mfqoTRWqp57if1POt09rx80/6ZfshnTp7ThevxctqODvAJL/65W7UkbKo8lPv6NUFXfXh9ssOzzdsibp+7ZKuX7ukc6cOacev32vemm+07rsnVMkhqWrThZAQ7U00ZMrXUG1aFU3PqwAAAAAyjckwDKeXxgAAAMh5bGenqWOVIfr1uiFzid764fj3erxIFgcRf0ob536j+Wt368iZC7pyNVqx8YlKSoxXzLXLunDxmuJvZlt9qmn4ujB90jJ12jdaC/pUUp8fLsnSeJz2bRmlmuxIBQAAgGyAGaoAAAC5SMym9doVb0gyq1ibxxSU1clUScp7rwKfGavAZ5z/2BZzRvvWztVHrwdr4eFTOnLkupQ6oRq/TSGbr8omH9Vo1VZVSEmoNo0AAANsSURBVKYCAAAgm7jzDgUAAADIIeIUuiY0uX6quYwe7fsfFfd2SE6Y/cqpXueR+vrDbiplya/CRRx3m0oK26At56ySpYxatq6rPLLp8u/bFB7jhYABAACAW5BQBQAAyC3it2pVyDlZZZJvjSc0sEMhb0d0e4YhW966atzA1+FHl/fs0dEkyVw0QO2a5VXS8Tl6e/pB5cvnhTgBAACAW5BQBQAAyGmSjmn+iK5q07a3gledlu1Gc1zoQq04aZXMxdT+1WFqlp2Tj7Zz+un7tfLpOEC97k29nj9JZ0+fl9WQzEX9FL/1Mz03fLceGd2fpf8AAADwOhKqAAAAOUzsyvc09NOlWvfbfL3/ymRtT5Bki9SSrxbplNWsYq3HamL/itngQi9GR34JUURC6vYk/TFnmN7e01aTp/RRWYdAfVS+RhUVMUtJf3yr4aMPq+PkSers+EQAAAAgy7EpFQAAQA5j9vG5cRFnVsmH6svfx6ZT81/Smz9eUJ4aT2v6zBd0v9ev8q5q3Rtt1HnSBT2+ZK++7pRczdUWfVjLJ43Q2J/L64PVk9WrvPMkaYleM7Tpnid0zFJDzVrcrxLMTAUAAEA2YTIMw/B2EAAAAEiHpGOaPaCzhs05JJ963fWfCie1du0h+bUdqalT31C78l7PpkrWQ5rUprFGboyWqaC/mrSsqYKxF3XZVkbNer+i1597WOXzeDtIAAAAIP1IqAIAAORISTq/b63W7z6pa76lVaNJG7WsXiQbLPP/l+3qYa1btVGHr5hVuEwl1WrQUHXuK8ISKQAAAORoJFQBAAAAAAAAwEXZaRIDAAAAAAAAAGRrJFQBAAAAAAAAwEUkVAEAAAAAAADARSRUAQAAAAAAAMBFJFQBAAAAAAAAwEUkVAEAAAAAAADARSRUAQAAAAAAAMBFJFQBAAAAAAAAwEUkVAEAAAAAAADARSRUAQAAAAAAAMBFJFQBAAAAAAAAwEUkVAEAAAAAAADARSRUAQAAAAAAAMBFJFQBAAAAAAAAwEUkVAEAAAAAAADARSRUAQAAAAAAAMBFJFQBAAAAAAAAwEUkVAEAAAAAAADARSRUAQAAAAAAAMBFJFQBAAAAAAAAwEUkVAEAAAAAAADARSRUAQAAAAAAAMBFJFQBAAAAAAAAwEUkVAEAAAAAAADARf8Pzy69tFabeV4AAAAASUVORK5CYII=)"
      ],
      "metadata": {
        "id": "R4eIBY5klJpX"
      }
    },
    {
      "cell_type": "code",
      "source": [
        "import torch\n",
        "import pennylane as qml\n",
        "import torch.nn.functional as F\n",
        "from torch import nn\n",
        "from torch_geometric.utils import to_dense_adj\n",
        "\n",
        "\n",
        "dev = qml.device('default.qubit', wires=4)\n",
        "\n",
        "\n",
        "def H_layer(nqubits):\n",
        "    \"\"\"Layer of single-qubit Hadamard gates.\n",
        "    \"\"\"\n",
        "    for idx in range(nqubits):\n",
        "        qml.Hadamard(wires=idx)\n",
        "\n",
        "\n",
        "def RY_layer(w):\n",
        "    \"\"\"Layer of parametrized qubit rotations around the y axis.\n",
        "    \"\"\"\n",
        "    for idx, element in enumerate(w):\n",
        "        qml.RY(element, wires=idx)\n",
        "\n",
        "\n",
        "def entangling_layer(nqubits):\n",
        "    \"\"\"Layer of CNOTs followed by another shifted layer of CNOT.\n",
        "    \"\"\"\n",
        "    # In other words it should apply something like :\n",
        "    # CNOT  CNOT  CNOT  CNOT...  CNOT\n",
        "    #   CNOT  CNOT  CNOT...  CNOT\n",
        "    for i in range(0, nqubits - 1, 2):  # Loop over even indices: i=0,2,...N-2\n",
        "        qml.CNOT(wires=[i, i + 1])\n",
        "    for i in range(1, nqubits - 1, 2):  # Loop over odd indices:  i=1,3,...N-3\n",
        "        qml.CNOT(wires=[i, i + 1])\n",
        "\n",
        "\n",
        "@qml.qnode(dev, interface=\"torch\")\n",
        "def quantum_net(q_input_features, q_weights_flat, q_depth, n_qubits):\n",
        "    \"\"\"\n",
        "    The variational quantum circuit.\n",
        "    \"\"\"\n",
        "\n",
        "    # Reshape weights\n",
        "    q_weights = q_weights_flat.reshape(q_depth, n_qubits)\n",
        "\n",
        "    # Start from state |+> , unbiased w.r.t. |0> and |1>\n",
        "    H_layer(n_qubits)\n",
        "\n",
        "    # Embed features in the quantum node\n",
        "    RY_layer(q_input_features)\n",
        "\n",
        "    # Sequence of trainable variational layers\n",
        "    for k in range(q_depth):\n",
        "        entangling_layer(n_qubits)\n",
        "        RY_layer(q_weights[k])\n",
        "\n",
        "    # Expectation values in the Z basis\n",
        "    exp_vals = [qml.expval(qml.PauliZ(position)) for position in range(n_qubits)]\n",
        "    return tuple(exp_vals)\n",
        "\n",
        "\n",
        "class DressedQuantumNet(nn.Module):\n",
        "    \"\"\"\n",
        "    Torch module implementing the *dressed* quantum net.\n",
        "    \"\"\"\n",
        "\n",
        "    def __init__(self, n_qubits, q_depth = 1, q_delta=0.001):\n",
        "        \"\"\"\n",
        "        Definition of the *dressed* layout.\n",
        "        \"\"\"\n",
        "\n",
        "        super().__init__()\n",
        "        self.n_qubits = n_qubits\n",
        "        self.q_depth = q_depth\n",
        "        self.q_params = nn.Parameter(q_delta * torch.randn(q_depth * n_qubits))\n",
        "\n",
        "    def forward(self, input_features):\n",
        "        \"\"\"\n",
        "        Defining how tensors are supposed to move through the *dressed* quantum\n",
        "        net.\n",
        "        \"\"\"\n",
        "\n",
        "        # Quantum Embedding (U(X))\n",
        "        q_in = torch.tanh(input_features) * np.pi / 2.0\n",
        "\n",
        "        # Apply the quantum circuit to each element of the batch and append to q_out\n",
        "        q_out = torch.Tensor(0, self.n_qubits)\n",
        "        q_out = q_out.to(device)\n",
        "        for batch in q_in:\n",
        "            for elem in batch:\n",
        "                q_out_elem = quantum_net(elem, self.q_params, self.q_depth, self.n_qubits).float().unsqueeze(0)\n",
        "                q_out = torch.cat((q_out, q_out_elem))\n",
        "\n",
        "        # return the batch measurement of the PQC\n",
        "        return q_out.unsqueeze(0)\n",
        "\n",
        "\n",
        "\n",
        "class GATLayer(nn.Module):\n",
        "\n",
        "    def __init__(self, c_in, c_out, num_heads=1, concat_heads=True, alpha=0.2):\n",
        "        \"\"\"\n",
        "        Inputs:\n",
        "            c_in - Dimensionality of input features\n",
        "            c_out - Dimensionality of output features\n",
        "            num_heads - Number of heads, i.e. attention mechanisms to apply in parallel. The\n",
        "                        output features are equally split up over the heads if concat_heads=True.\n",
        "            concat_heads - If True, the output of the different heads is concatenated instead of averaged.\n",
        "            alpha - Negative slope of the LeakyReLU activation.\n",
        "        \"\"\"\n",
        "        super().__init__()\n",
        "        self.num_heads = num_heads\n",
        "        self.concat_heads = concat_heads\n",
        "        self.PQC = DressedQuantumNet(c_out)\n",
        "        if self.concat_heads:\n",
        "            assert c_out % num_heads == 0, \"Number of output features must be a multiple of the count of heads.\"\n",
        "            c_out = c_out // num_heads\n",
        "\n",
        "        # Sub-modules and parameters needed in the layer\n",
        "        self.projection = nn.Linear(c_in, c_out * num_heads)\n",
        "        self.a = nn.Parameter(torch.Tensor(num_heads, 2 * c_out)) # One per head\n",
        "        self.leakyrelu = nn.LeakyReLU(alpha)\n",
        "\n",
        "        # Initialization from the original implementation\n",
        "        nn.init.xavier_uniform_(self.projection.weight.data, gain=1.414)\n",
        "        nn.init.xavier_uniform_(self.a.data, gain=1.414)\n",
        "\n",
        "\n",
        "\n",
        "    def forward(self, node_feats, adj_matrix, print_attn_probs=False):\n",
        "        \"\"\"\n",
        "        Inputs:\n",
        "            node_feats - Input features of the node. Shape: [batch_size, c_in]\n",
        "            adj_matrix - Adjacency matrix including self-connections. Shape: [batch_size, num_nodes, num_nodes]\n",
        "            print_attn_probs - If True, the attention weights are printed during the forward pass (for debugging purposes)\n",
        "        \"\"\"\n",
        "        batch_size, num_nodes = node_feats.size(0), node_feats.size(1)\n",
        "\n",
        "        # Apply linear layer and sort nodes by head\n",
        "        node_feats = self.projection(node_feats)\n",
        "        node_feats = self.PQC(node_feats)\n",
        "        node_feats = node_feats.view(batch_size, num_nodes, self.num_heads, -1)\n",
        "\n",
        "        # We need to calculate the attention logits for every edge in the adjacency matrix\n",
        "        # Doing this on all possible combinations of nodes is very expensive\n",
        "        # => Create a tensor of [W*h_i||W*h_j] with i and j being the indices of all edges\n",
        "        edges = adj_matrix.nonzero(as_tuple=False) # Returns indices where the adjacency matrix is not 0 => edges\n",
        "        node_feats_flat = node_feats.view(batch_size * num_nodes, self.num_heads, -1)\n",
        "        edge_indices_row = edges[:,0] * num_nodes + edges[:,1]\n",
        "        edge_indices_col = edges[:,0] * num_nodes + edges[:,2]\n",
        "        a_input = torch.cat([\n",
        "            torch.index_select(input=node_feats_flat, index=edge_indices_row, dim=0),\n",
        "            torch.index_select(input=node_feats_flat, index=edge_indices_col, dim=0)\n",
        "        ], dim=-1) # Index select returns a tensor with node_feats_flat being indexed at the desired positions along dim=0\n",
        "\n",
        "        # Calculate attention MLP output (independent for each head)\n",
        "        attn_logits = torch.einsum('bhc,hc->bh', a_input, self.a)\n",
        "        attn_logits = self.leakyrelu(attn_logits)\n",
        "\n",
        "        # Map list of attention values back into a matrix\n",
        "        attn_matrix = attn_logits.new_zeros(adj_matrix.shape+(self.num_heads,)).fill_(-9e15)\n",
        "        attn_matrix[adj_matrix[...,None].repeat(1,1,1,self.num_heads) == 1] = attn_logits.reshape(-1)\n",
        "\n",
        "        # Weighted average of attention\n",
        "        attn_probs = F.softmax(attn_matrix, dim=2)\n",
        "        if print_attn_probs:\n",
        "            print(\"Attention probs\\n\", attn_probs.permute(0, 3, 1, 2))\n",
        "        node_feats = torch.einsum('bijh,bjhc->bihc', attn_probs, node_feats)\n",
        "\n",
        "        # If heads should be concatenated, we can do this by reshaping. Otherwise, take mean\n",
        "        if self.concat_heads:\n",
        "            node_feats = node_feats.reshape(batch_size, num_nodes, -1)\n",
        "        else:\n",
        "            node_feats = node_feats.mean(dim=2)\n",
        "\n",
        "        return node_feats"
      ],
      "metadata": {
        "id": "a6G5HZ2zqste"
      },
      "execution_count": 5,
      "outputs": []
    },
    {
      "cell_type": "code",
      "source": [
        "from torch_geometric.data import Data\n",
        "from torch_geometric.nn import GATConv\n",
        "from torch_geometric.datasets import Planetoid\n",
        "import torch_geometric.transforms as T\n",
        "\n",
        "import matplotlib.pyplot as plt\n",
        "\n",
        "name_data = 'Cora'\n",
        "dataset = Planetoid(root= '/tmp/' + name_data, name = name_data)\n",
        "dataset.transform = T.NormalizeFeatures()\n",
        "\n",
        "print(f\"Number of Classes in {name_data}:\", dataset.num_classes)\n",
        "print(f\"Number of Node Features in {name_data}:\", dataset.num_node_features)"
      ],
      "metadata": {
        "colab": {
          "base_uri": "https://localhost:8080/"
        },
        "id": "CffJW3t2okoS",
        "outputId": "4a829c43-0a5d-4e0e-e179-d4025814d353"
      },
      "execution_count": 6,
      "outputs": [
        {
          "output_type": "stream",
          "name": "stderr",
          "text": [
            "Downloading https://github.com/kimiyoung/planetoid/raw/master/data/ind.cora.x\n",
            "Downloading https://github.com/kimiyoung/planetoid/raw/master/data/ind.cora.tx\n",
            "Downloading https://github.com/kimiyoung/planetoid/raw/master/data/ind.cora.allx\n",
            "Downloading https://github.com/kimiyoung/planetoid/raw/master/data/ind.cora.y\n",
            "Downloading https://github.com/kimiyoung/planetoid/raw/master/data/ind.cora.ty\n",
            "Downloading https://github.com/kimiyoung/planetoid/raw/master/data/ind.cora.ally\n",
            "Downloading https://github.com/kimiyoung/planetoid/raw/master/data/ind.cora.graph\n",
            "Downloading https://github.com/kimiyoung/planetoid/raw/master/data/ind.cora.test.index\n"
          ]
        },
        {
          "output_type": "stream",
          "name": "stdout",
          "text": [
            "Number of Classes in Cora: 7\n",
            "Number of Node Features in Cora: 1433\n"
          ]
        },
        {
          "output_type": "stream",
          "name": "stderr",
          "text": [
            "Processing...\n",
            "Done!\n"
          ]
        }
      ]
    },
    {
      "cell_type": "code",
      "source": [
        "data"
      ],
      "metadata": {
        "colab": {
          "base_uri": "https://localhost:8080/"
        },
        "id": "Kgw3CC6dNHWf",
        "outputId": "7136b909-a08f-4278-eb5e-69c8f7bd7956"
      },
      "execution_count": null,
      "outputs": [
        {
          "output_type": "execute_result",
          "data": {
            "text/plain": [
              "Data(x=[2708, 1433], edge_index=[2, 10556], y=[2708], train_mask=[2708], val_mask=[2708], test_mask=[2708])"
            ]
          },
          "metadata": {},
          "execution_count": 7
        }
      ]
    },
    {
      "cell_type": "markdown",
      "source": [
        "# Let's see if we have convergence using our proposed quantum attention mechanism:"
      ],
      "metadata": {
        "id": "uYnP5tECQEkq"
      }
    },
    {
      "cell_type": "code",
      "source": [
        "import numpy as np\n",
        "\n",
        "class GAT(torch.nn.Module):\n",
        "    def __init__(self):\n",
        "        super(GAT, self).__init__()\n",
        "        self.hid = 4\n",
        "        self.in_head = 4\n",
        "        self.out_head = 1\n",
        "        \n",
        "        \n",
        "        # self.conv1 = GATConv(dataset.num_features, self.hid, heads=self.in_head, dropout=0.6)\n",
        "        self.conv1 = GATLayer(dataset.num_features, self.hid, num_heads=self.in_head)\n",
        "        self.conv2 = GATLayer(self.hid*self.in_head, dataset.num_classes, concat_heads=False,\n",
        "                             num_heads=self.out_head)\n",
        "        \n",
        "        self.linear = nn.Linear(self.hid, dataset.num_classes)\n",
        "\n",
        "        # self.conv2 = GATConv(self.hid*self.in_head, dataset.num_classes, concat=False,\n",
        "        #                      heads=self.out_head, dropout=0.6)\n",
        "\n",
        "    def forward(self, data):\n",
        "        x, edge_index = data.x, data.edge_index\n",
        "        adj = to_dense_adj(edge_index)\n",
        "                \n",
        "        x = F.dropout(x, p=0.6, training=self.training)\n",
        "        x = self.conv1(x.unsqueeze(0), adj)\n",
        "        x = F.elu(x)\n",
        "        x = F.dropout(x, p=0.6, training=self.training)\n",
        "        x = self.linear(x)\n",
        "        # x = self.conv2(x.unsqueeze(0), adj)\n",
        "        \n",
        "        return F.log_softmax(x, dim=2)\n",
        "    \n",
        "    \n",
        "    \n",
        "device = torch.device('cuda' if torch.cuda.is_available() else 'cpu')\n",
        "device = \"cpu\"\n",
        "\n",
        "model = GAT().to(device)\n",
        "data = dataset[0].to(device)\n",
        "\n",
        "\n",
        "optimizer = torch.optim.Adam(model.parameters(), lr=0.005, weight_decay=5e-4)\n",
        "\n",
        "model.train()\n",
        "for epoch in range(1000):\n",
        "    model.train()\n",
        "    optimizer.zero_grad()\n",
        "    out = model(data)\n",
        "    loss = F.nll_loss(out[0][data.train_mask], data.y[data.train_mask])\n",
        "    \n",
        "    if epoch%1 == 0:\n",
        "        print(loss)\n",
        "    \n",
        "    loss.backward()\n",
        "    optimizer.step()"
      ],
      "metadata": {
        "id": "rOJ-LsDHnqYB",
        "colab": {
          "base_uri": "https://localhost:8080/"
        },
        "outputId": "84c6ff84-3440-4878-e046-06cf0fa64642"
      },
      "execution_count": null,
      "outputs": [
        {
          "output_type": "stream",
          "name": "stdout",
          "text": [
            "tensor(1.9672, grad_fn=<NllLossBackward0>)\n",
            "tensor(1.9641, grad_fn=<NllLossBackward0>)\n",
            "tensor(1.9679, grad_fn=<NllLossBackward0>)\n",
            "tensor(1.9656, grad_fn=<NllLossBackward0>)\n",
            "tensor(1.9593, grad_fn=<NllLossBackward0>)\n",
            "tensor(1.9605, grad_fn=<NllLossBackward0>)\n",
            "tensor(1.9610, grad_fn=<NllLossBackward0>)\n",
            "tensor(1.9583, grad_fn=<NllLossBackward0>)\n",
            "tensor(1.9534, grad_fn=<NllLossBackward0>)\n",
            "tensor(1.9532, grad_fn=<NllLossBackward0>)\n",
            "tensor(1.9541, grad_fn=<NllLossBackward0>)\n",
            "tensor(1.9535, grad_fn=<NllLossBackward0>)\n",
            "tensor(1.9474, grad_fn=<NllLossBackward0>)\n",
            "tensor(1.9443, grad_fn=<NllLossBackward0>)\n",
            "tensor(1.9502, grad_fn=<NllLossBackward0>)\n",
            "tensor(1.9429, grad_fn=<NllLossBackward0>)\n",
            "tensor(1.9447, grad_fn=<NllLossBackward0>)\n",
            "tensor(1.9449, grad_fn=<NllLossBackward0>)\n",
            "tensor(1.9356, grad_fn=<NllLossBackward0>)\n",
            "tensor(1.9404, grad_fn=<NllLossBackward0>)\n",
            "tensor(1.9388, grad_fn=<NllLossBackward0>)\n",
            "tensor(1.9310, grad_fn=<NllLossBackward0>)\n",
            "tensor(1.9368, grad_fn=<NllLossBackward0>)\n",
            "tensor(1.9345, grad_fn=<NllLossBackward0>)\n",
            "tensor(1.9277, grad_fn=<NllLossBackward0>)\n",
            "tensor(1.9360, grad_fn=<NllLossBackward0>)\n",
            "tensor(1.9325, grad_fn=<NllLossBackward0>)\n",
            "tensor(1.9303, grad_fn=<NllLossBackward0>)\n",
            "tensor(1.9284, grad_fn=<NllLossBackward0>)\n",
            "tensor(1.9323, grad_fn=<NllLossBackward0>)\n",
            "tensor(1.9217, grad_fn=<NllLossBackward0>)\n",
            "tensor(1.9264, grad_fn=<NllLossBackward0>)\n",
            "tensor(1.9319, grad_fn=<NllLossBackward0>)\n",
            "tensor(1.9198, grad_fn=<NllLossBackward0>)\n",
            "tensor(1.9151, grad_fn=<NllLossBackward0>)\n",
            "tensor(1.9171, grad_fn=<NllLossBackward0>)\n",
            "tensor(1.9203, grad_fn=<NllLossBackward0>)\n",
            "tensor(1.9090, grad_fn=<NllLossBackward0>)\n",
            "tensor(1.9270, grad_fn=<NllLossBackward0>)\n",
            "tensor(1.9203, grad_fn=<NllLossBackward0>)\n",
            "tensor(1.9126, grad_fn=<NllLossBackward0>)\n",
            "tensor(1.9208, grad_fn=<NllLossBackward0>)\n",
            "tensor(1.9146, grad_fn=<NllLossBackward0>)\n",
            "tensor(1.9043, grad_fn=<NllLossBackward0>)\n",
            "tensor(1.8933, grad_fn=<NllLossBackward0>)\n",
            "tensor(1.8982, grad_fn=<NllLossBackward0>)\n",
            "tensor(1.8948, grad_fn=<NllLossBackward0>)\n",
            "tensor(1.9093, grad_fn=<NllLossBackward0>)\n",
            "tensor(1.9010, grad_fn=<NllLossBackward0>)\n",
            "tensor(1.8985, grad_fn=<NllLossBackward0>)\n",
            "tensor(1.8979, grad_fn=<NllLossBackward0>)\n",
            "tensor(1.8959, grad_fn=<NllLossBackward0>)\n",
            "tensor(1.8956, grad_fn=<NllLossBackward0>)\n",
            "tensor(1.8913, grad_fn=<NllLossBackward0>)\n",
            "tensor(1.8891, grad_fn=<NllLossBackward0>)\n",
            "tensor(1.9067, grad_fn=<NllLossBackward0>)\n",
            "tensor(1.8966, grad_fn=<NllLossBackward0>)\n",
            "tensor(1.8784, grad_fn=<NllLossBackward0>)\n",
            "tensor(1.8580, grad_fn=<NllLossBackward0>)\n",
            "tensor(1.8794, grad_fn=<NllLossBackward0>)\n",
            "tensor(1.8789, grad_fn=<NllLossBackward0>)\n",
            "tensor(1.8795, grad_fn=<NllLossBackward0>)\n",
            "tensor(1.8762, grad_fn=<NllLossBackward0>)\n",
            "tensor(1.8734, grad_fn=<NllLossBackward0>)\n",
            "tensor(1.8715, grad_fn=<NllLossBackward0>)\n",
            "tensor(1.8633, grad_fn=<NllLossBackward0>)\n",
            "tensor(1.8711, grad_fn=<NllLossBackward0>)\n",
            "tensor(1.8591, grad_fn=<NllLossBackward0>)\n",
            "tensor(1.8814, grad_fn=<NllLossBackward0>)\n",
            "tensor(1.8478, grad_fn=<NllLossBackward0>)\n",
            "tensor(1.8503, grad_fn=<NllLossBackward0>)\n",
            "tensor(1.8431, grad_fn=<NllLossBackward0>)\n",
            "tensor(1.8407, grad_fn=<NllLossBackward0>)\n",
            "tensor(1.8447, grad_fn=<NllLossBackward0>)\n",
            "tensor(1.8555, grad_fn=<NllLossBackward0>)\n",
            "tensor(1.8553, grad_fn=<NllLossBackward0>)\n",
            "tensor(1.8303, grad_fn=<NllLossBackward0>)\n",
            "tensor(1.8554, grad_fn=<NllLossBackward0>)\n",
            "tensor(1.8245, grad_fn=<NllLossBackward0>)\n",
            "tensor(1.8288, grad_fn=<NllLossBackward0>)\n",
            "tensor(1.8367, grad_fn=<NllLossBackward0>)\n",
            "tensor(1.8120, grad_fn=<NllLossBackward0>)\n",
            "tensor(1.8139, grad_fn=<NllLossBackward0>)\n",
            "tensor(1.7993, grad_fn=<NllLossBackward0>)\n",
            "tensor(1.8121, grad_fn=<NllLossBackward0>)\n",
            "tensor(1.8049, grad_fn=<NllLossBackward0>)\n",
            "tensor(1.8294, grad_fn=<NllLossBackward0>)\n",
            "tensor(1.8049, grad_fn=<NllLossBackward0>)\n",
            "tensor(1.8018, grad_fn=<NllLossBackward0>)\n",
            "tensor(1.7781, grad_fn=<NllLossBackward0>)\n",
            "tensor(1.7862, grad_fn=<NllLossBackward0>)\n",
            "tensor(1.7577, grad_fn=<NllLossBackward0>)\n",
            "tensor(1.7753, grad_fn=<NllLossBackward0>)\n",
            "tensor(1.7916, grad_fn=<NllLossBackward0>)\n",
            "tensor(1.7880, grad_fn=<NllLossBackward0>)\n",
            "tensor(1.7473, grad_fn=<NllLossBackward0>)\n",
            "tensor(1.7500, grad_fn=<NllLossBackward0>)\n",
            "tensor(1.7744, grad_fn=<NllLossBackward0>)\n",
            "tensor(1.7643, grad_fn=<NllLossBackward0>)\n",
            "tensor(1.7262, grad_fn=<NllLossBackward0>)\n",
            "tensor(1.7203, grad_fn=<NllLossBackward0>)\n",
            "tensor(1.7336, grad_fn=<NllLossBackward0>)\n",
            "tensor(1.7251, grad_fn=<NllLossBackward0>)\n",
            "tensor(1.7292, grad_fn=<NllLossBackward0>)\n",
            "tensor(1.7179, grad_fn=<NllLossBackward0>)\n",
            "tensor(1.7199, grad_fn=<NllLossBackward0>)\n",
            "tensor(1.6528, grad_fn=<NllLossBackward0>)\n",
            "tensor(1.6802, grad_fn=<NllLossBackward0>)\n",
            "tensor(1.6689, grad_fn=<NllLossBackward0>)\n",
            "tensor(1.7185, grad_fn=<NllLossBackward0>)\n",
            "tensor(1.6848, grad_fn=<NllLossBackward0>)\n",
            "tensor(1.7087, grad_fn=<NllLossBackward0>)\n",
            "tensor(1.6754, grad_fn=<NllLossBackward0>)\n",
            "tensor(1.6941, grad_fn=<NllLossBackward0>)\n",
            "tensor(1.6936, grad_fn=<NllLossBackward0>)\n",
            "tensor(1.6669, grad_fn=<NllLossBackward0>)\n",
            "tensor(1.6642, grad_fn=<NllLossBackward0>)\n",
            "tensor(1.6288, grad_fn=<NllLossBackward0>)\n",
            "tensor(1.6558, grad_fn=<NllLossBackward0>)\n",
            "tensor(1.6530, grad_fn=<NllLossBackward0>)\n",
            "tensor(1.6354, grad_fn=<NllLossBackward0>)\n",
            "tensor(1.6441, grad_fn=<NllLossBackward0>)\n",
            "tensor(1.6197, grad_fn=<NllLossBackward0>)\n",
            "tensor(1.6359, grad_fn=<NllLossBackward0>)\n",
            "tensor(1.6249, grad_fn=<NllLossBackward0>)\n",
            "tensor(1.5962, grad_fn=<NllLossBackward0>)\n",
            "tensor(1.6202, grad_fn=<NllLossBackward0>)\n",
            "tensor(1.6348, grad_fn=<NllLossBackward0>)\n",
            "tensor(1.5777, grad_fn=<NllLossBackward0>)\n",
            "tensor(1.5936, grad_fn=<NllLossBackward0>)\n",
            "tensor(1.6091, grad_fn=<NllLossBackward0>)\n",
            "tensor(1.6135, grad_fn=<NllLossBackward0>)\n",
            "tensor(1.5894, grad_fn=<NllLossBackward0>)\n",
            "tensor(1.5553, grad_fn=<NllLossBackward0>)\n",
            "tensor(1.5983, grad_fn=<NllLossBackward0>)\n",
            "tensor(1.5554, grad_fn=<NllLossBackward0>)\n",
            "tensor(1.5799, grad_fn=<NllLossBackward0>)\n",
            "tensor(1.5579, grad_fn=<NllLossBackward0>)\n",
            "tensor(1.5445, grad_fn=<NllLossBackward0>)\n",
            "tensor(1.5250, grad_fn=<NllLossBackward0>)\n",
            "tensor(1.5158, grad_fn=<NllLossBackward0>)\n",
            "tensor(1.5846, grad_fn=<NllLossBackward0>)\n",
            "tensor(1.5581, grad_fn=<NllLossBackward0>)\n",
            "tensor(1.5905, grad_fn=<NllLossBackward0>)\n",
            "tensor(1.5287, grad_fn=<NllLossBackward0>)\n",
            "tensor(1.5694, grad_fn=<NllLossBackward0>)\n",
            "tensor(1.5170, grad_fn=<NllLossBackward0>)\n",
            "tensor(1.4889, grad_fn=<NllLossBackward0>)\n",
            "tensor(1.5149, grad_fn=<NllLossBackward0>)\n",
            "tensor(1.4758, grad_fn=<NllLossBackward0>)\n",
            "tensor(1.4919, grad_fn=<NllLossBackward0>)\n",
            "tensor(1.5152, grad_fn=<NllLossBackward0>)\n",
            "tensor(1.4716, grad_fn=<NllLossBackward0>)\n",
            "tensor(1.5151, grad_fn=<NllLossBackward0>)\n",
            "tensor(1.5245, grad_fn=<NllLossBackward0>)\n",
            "tensor(1.4562, grad_fn=<NllLossBackward0>)\n",
            "tensor(1.5455, grad_fn=<NllLossBackward0>)\n",
            "tensor(1.4927, grad_fn=<NllLossBackward0>)\n",
            "tensor(1.5148, grad_fn=<NllLossBackward0>)\n",
            "tensor(1.4909, grad_fn=<NllLossBackward0>)\n",
            "tensor(1.4914, grad_fn=<NllLossBackward0>)\n",
            "tensor(1.5034, grad_fn=<NllLossBackward0>)\n",
            "tensor(1.5014, grad_fn=<NllLossBackward0>)\n",
            "tensor(1.4791, grad_fn=<NllLossBackward0>)\n",
            "tensor(1.4188, grad_fn=<NllLossBackward0>)\n",
            "tensor(1.4852, grad_fn=<NllLossBackward0>)\n",
            "tensor(1.4689, grad_fn=<NllLossBackward0>)\n",
            "tensor(1.4748, grad_fn=<NllLossBackward0>)\n",
            "tensor(1.5203, grad_fn=<NllLossBackward0>)\n",
            "tensor(1.5115, grad_fn=<NllLossBackward0>)\n",
            "tensor(1.4256, grad_fn=<NllLossBackward0>)\n",
            "tensor(1.5080, grad_fn=<NllLossBackward0>)\n",
            "tensor(1.4911, grad_fn=<NllLossBackward0>)\n",
            "tensor(1.4525, grad_fn=<NllLossBackward0>)\n",
            "tensor(1.4219, grad_fn=<NllLossBackward0>)\n",
            "tensor(1.3735, grad_fn=<NllLossBackward0>)\n",
            "tensor(1.4875, grad_fn=<NllLossBackward0>)\n",
            "tensor(1.4461, grad_fn=<NllLossBackward0>)\n",
            "tensor(1.5062, grad_fn=<NllLossBackward0>)\n",
            "tensor(1.4561, grad_fn=<NllLossBackward0>)\n",
            "tensor(1.3720, grad_fn=<NllLossBackward0>)\n",
            "tensor(1.4810, grad_fn=<NllLossBackward0>)\n",
            "tensor(1.4294, grad_fn=<NllLossBackward0>)\n",
            "tensor(1.4394, grad_fn=<NllLossBackward0>)\n",
            "tensor(1.4245, grad_fn=<NllLossBackward0>)\n",
            "tensor(1.4747, grad_fn=<NllLossBackward0>)\n",
            "tensor(1.4649, grad_fn=<NllLossBackward0>)\n",
            "tensor(1.4673, grad_fn=<NllLossBackward0>)\n",
            "tensor(1.4480, grad_fn=<NllLossBackward0>)\n",
            "tensor(1.3946, grad_fn=<NllLossBackward0>)\n",
            "tensor(1.4124, grad_fn=<NllLossBackward0>)\n",
            "tensor(1.3571, grad_fn=<NllLossBackward0>)\n",
            "tensor(1.3768, grad_fn=<NllLossBackward0>)\n",
            "tensor(1.3819, grad_fn=<NllLossBackward0>)\n",
            "tensor(1.4073, grad_fn=<NllLossBackward0>)\n",
            "tensor(1.4097, grad_fn=<NllLossBackward0>)\n",
            "tensor(1.3448, grad_fn=<NllLossBackward0>)\n",
            "tensor(1.3797, grad_fn=<NllLossBackward0>)\n",
            "tensor(1.3664, grad_fn=<NllLossBackward0>)\n",
            "tensor(1.4419, grad_fn=<NllLossBackward0>)\n",
            "tensor(1.3608, grad_fn=<NllLossBackward0>)\n",
            "tensor(1.3920, grad_fn=<NllLossBackward0>)\n",
            "tensor(1.4177, grad_fn=<NllLossBackward0>)\n",
            "tensor(1.4029, grad_fn=<NllLossBackward0>)\n",
            "tensor(1.3472, grad_fn=<NllLossBackward0>)\n",
            "tensor(1.3419, grad_fn=<NllLossBackward0>)\n",
            "tensor(1.3792, grad_fn=<NllLossBackward0>)\n",
            "tensor(1.3548, grad_fn=<NllLossBackward0>)\n",
            "tensor(1.4596, grad_fn=<NllLossBackward0>)\n",
            "tensor(1.3738, grad_fn=<NllLossBackward0>)\n",
            "tensor(1.3483, grad_fn=<NllLossBackward0>)\n",
            "tensor(1.4325, grad_fn=<NllLossBackward0>)\n",
            "tensor(1.3970, grad_fn=<NllLossBackward0>)\n",
            "tensor(1.4349, grad_fn=<NllLossBackward0>)\n",
            "tensor(1.3543, grad_fn=<NllLossBackward0>)\n",
            "tensor(1.3466, grad_fn=<NllLossBackward0>)\n",
            "tensor(1.3111, grad_fn=<NllLossBackward0>)\n",
            "tensor(1.3818, grad_fn=<NllLossBackward0>)\n",
            "tensor(1.3509, grad_fn=<NllLossBackward0>)\n",
            "tensor(1.3703, grad_fn=<NllLossBackward0>)\n",
            "tensor(1.3649, grad_fn=<NllLossBackward0>)\n",
            "tensor(1.3874, grad_fn=<NllLossBackward0>)\n",
            "tensor(1.3997, grad_fn=<NllLossBackward0>)\n",
            "tensor(1.3598, grad_fn=<NllLossBackward0>)\n",
            "tensor(1.3498, grad_fn=<NllLossBackward0>)\n",
            "tensor(1.3293, grad_fn=<NllLossBackward0>)\n",
            "tensor(1.3085, grad_fn=<NllLossBackward0>)\n",
            "tensor(1.3550, grad_fn=<NllLossBackward0>)\n",
            "tensor(1.3284, grad_fn=<NllLossBackward0>)\n",
            "tensor(1.3269, grad_fn=<NllLossBackward0>)\n",
            "tensor(1.3733, grad_fn=<NllLossBackward0>)\n",
            "tensor(1.2995, grad_fn=<NllLossBackward0>)\n",
            "tensor(1.3566, grad_fn=<NllLossBackward0>)\n",
            "tensor(1.3227, grad_fn=<NllLossBackward0>)\n",
            "tensor(1.3093, grad_fn=<NllLossBackward0>)\n",
            "tensor(1.3850, grad_fn=<NllLossBackward0>)\n",
            "tensor(1.3655, grad_fn=<NllLossBackward0>)\n",
            "tensor(1.3641, grad_fn=<NllLossBackward0>)\n",
            "tensor(1.3138, grad_fn=<NllLossBackward0>)\n",
            "tensor(1.3281, grad_fn=<NllLossBackward0>)\n",
            "tensor(1.3319, grad_fn=<NllLossBackward0>)\n",
            "tensor(1.3604, grad_fn=<NllLossBackward0>)\n",
            "tensor(1.3363, grad_fn=<NllLossBackward0>)\n",
            "tensor(1.2950, grad_fn=<NllLossBackward0>)\n",
            "tensor(1.3478, grad_fn=<NllLossBackward0>)\n",
            "tensor(1.3674, grad_fn=<NllLossBackward0>)\n",
            "tensor(1.3251, grad_fn=<NllLossBackward0>)\n",
            "tensor(1.3329, grad_fn=<NllLossBackward0>)\n",
            "tensor(1.2792, grad_fn=<NllLossBackward0>)\n",
            "tensor(1.3380, grad_fn=<NllLossBackward0>)\n",
            "tensor(1.3272, grad_fn=<NllLossBackward0>)\n",
            "tensor(1.3563, grad_fn=<NllLossBackward0>)\n",
            "tensor(1.3851, grad_fn=<NllLossBackward0>)\n",
            "tensor(1.3650, grad_fn=<NllLossBackward0>)\n",
            "tensor(1.2960, grad_fn=<NllLossBackward0>)\n",
            "tensor(1.3311, grad_fn=<NllLossBackward0>)\n",
            "tensor(1.4264, grad_fn=<NllLossBackward0>)\n",
            "tensor(1.2387, grad_fn=<NllLossBackward0>)\n",
            "tensor(1.2824, grad_fn=<NllLossBackward0>)\n",
            "tensor(1.3642, grad_fn=<NllLossBackward0>)\n",
            "tensor(1.3764, grad_fn=<NllLossBackward0>)\n",
            "tensor(1.3547, grad_fn=<NllLossBackward0>)\n",
            "tensor(1.2982, grad_fn=<NllLossBackward0>)\n",
            "tensor(1.3211, grad_fn=<NllLossBackward0>)\n",
            "tensor(1.3585, grad_fn=<NllLossBackward0>)\n",
            "tensor(1.2934, grad_fn=<NllLossBackward0>)\n",
            "tensor(1.2707, grad_fn=<NllLossBackward0>)\n",
            "tensor(1.2842, grad_fn=<NllLossBackward0>)\n",
            "tensor(1.2990, grad_fn=<NllLossBackward0>)\n",
            "tensor(1.3261, grad_fn=<NllLossBackward0>)\n",
            "tensor(1.3120, grad_fn=<NllLossBackward0>)\n",
            "tensor(1.3644, grad_fn=<NllLossBackward0>)\n",
            "tensor(1.2824, grad_fn=<NllLossBackward0>)\n",
            "tensor(1.2344, grad_fn=<NllLossBackward0>)\n",
            "tensor(1.4029, grad_fn=<NllLossBackward0>)\n",
            "tensor(1.3690, grad_fn=<NllLossBackward0>)\n",
            "tensor(1.3040, grad_fn=<NllLossBackward0>)\n",
            "tensor(1.2583, grad_fn=<NllLossBackward0>)\n",
            "tensor(1.3477, grad_fn=<NllLossBackward0>)\n",
            "tensor(1.3330, grad_fn=<NllLossBackward0>)\n",
            "tensor(1.2888, grad_fn=<NllLossBackward0>)\n",
            "tensor(1.3217, grad_fn=<NllLossBackward0>)\n",
            "tensor(1.3922, grad_fn=<NllLossBackward0>)\n",
            "tensor(1.2939, grad_fn=<NllLossBackward0>)\n",
            "tensor(1.3124, grad_fn=<NllLossBackward0>)\n",
            "tensor(1.3633, grad_fn=<NllLossBackward0>)\n",
            "tensor(1.2838, grad_fn=<NllLossBackward0>)\n",
            "tensor(1.2233, grad_fn=<NllLossBackward0>)\n",
            "tensor(1.2285, grad_fn=<NllLossBackward0>)\n",
            "tensor(1.2685, grad_fn=<NllLossBackward0>)\n",
            "tensor(1.2953, grad_fn=<NllLossBackward0>)\n",
            "tensor(1.3100, grad_fn=<NllLossBackward0>)\n",
            "tensor(1.3295, grad_fn=<NllLossBackward0>)\n",
            "tensor(1.3280, grad_fn=<NllLossBackward0>)\n",
            "tensor(1.2313, grad_fn=<NllLossBackward0>)\n",
            "tensor(1.2536, grad_fn=<NllLossBackward0>)\n",
            "tensor(1.2981, grad_fn=<NllLossBackward0>)\n",
            "tensor(1.3421, grad_fn=<NllLossBackward0>)\n",
            "tensor(1.2599, grad_fn=<NllLossBackward0>)\n",
            "tensor(1.3601, grad_fn=<NllLossBackward0>)\n",
            "tensor(1.2926, grad_fn=<NllLossBackward0>)\n",
            "tensor(1.2996, grad_fn=<NllLossBackward0>)\n",
            "tensor(1.2913, grad_fn=<NllLossBackward0>)\n",
            "tensor(1.3089, grad_fn=<NllLossBackward0>)\n",
            "tensor(1.2082, grad_fn=<NllLossBackward0>)\n",
            "tensor(1.3473, grad_fn=<NllLossBackward0>)\n",
            "tensor(1.2496, grad_fn=<NllLossBackward0>)\n",
            "tensor(1.2853, grad_fn=<NllLossBackward0>)\n",
            "tensor(1.3598, grad_fn=<NllLossBackward0>)\n",
            "tensor(1.3538, grad_fn=<NllLossBackward0>)\n",
            "tensor(1.2524, grad_fn=<NllLossBackward0>)\n",
            "tensor(1.2853, grad_fn=<NllLossBackward0>)\n",
            "tensor(1.3269, grad_fn=<NllLossBackward0>)\n",
            "tensor(1.2505, grad_fn=<NllLossBackward0>)\n",
            "tensor(1.3682, grad_fn=<NllLossBackward0>)\n",
            "tensor(1.2321, grad_fn=<NllLossBackward0>)\n",
            "tensor(1.3101, grad_fn=<NllLossBackward0>)\n",
            "tensor(1.2701, grad_fn=<NllLossBackward0>)\n",
            "tensor(1.2791, grad_fn=<NllLossBackward0>)\n",
            "tensor(1.2961, grad_fn=<NllLossBackward0>)\n",
            "tensor(1.3366, grad_fn=<NllLossBackward0>)\n",
            "tensor(1.2907, grad_fn=<NllLossBackward0>)\n",
            "tensor(1.2945, grad_fn=<NllLossBackward0>)\n",
            "tensor(1.2842, grad_fn=<NllLossBackward0>)\n",
            "tensor(1.3561, grad_fn=<NllLossBackward0>)\n",
            "tensor(1.2889, grad_fn=<NllLossBackward0>)\n",
            "tensor(1.2869, grad_fn=<NllLossBackward0>)\n",
            "tensor(1.2982, grad_fn=<NllLossBackward0>)\n",
            "tensor(1.3289, grad_fn=<NllLossBackward0>)\n",
            "tensor(1.3009, grad_fn=<NllLossBackward0>)\n",
            "tensor(1.2512, grad_fn=<NllLossBackward0>)\n",
            "tensor(1.3091, grad_fn=<NllLossBackward0>)\n",
            "tensor(1.3112, grad_fn=<NllLossBackward0>)\n",
            "tensor(1.2765, grad_fn=<NllLossBackward0>)\n",
            "tensor(1.1720, grad_fn=<NllLossBackward0>)\n"
          ]
        }
      ]
    },
    {
      "cell_type": "markdown",
      "source": [
        "# Indeed, we observe convergence, although slower than if it was trained with a more complex classical model."
      ],
      "metadata": {
        "id": "HNXLkzjCQU-t"
      }
    },
    {
      "cell_type": "markdown",
      "source": [
        "# Let's consider the following graph:"
      ],
      "metadata": {
        "id": "NdTQY7t1Dix-"
      }
    },
    {
      "cell_type": "markdown",
      "source": [
        "![image.png](data:image/png;base64,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)"
      ],
      "metadata": {
        "id": "vgMPmwfQDf2Q"
      }
    },
    {
      "cell_type": "code",
      "source": [
        "# Let's create its representation\n",
        "\n",
        "node_feats = torch.arange(8, dtype=torch.float32).view(1, 4, 2)\n",
        "adj_matrix = torch.Tensor([[[1, 1, 0, 0],\n",
        "                            [1, 1, 1, 1],\n",
        "                            [0, 1, 1, 1],\n",
        "                            [0, 1, 1, 1]]])\n",
        "\n",
        "print(\"Node features:\\n\", node_feats)\n",
        "print(\"\\nAdjacency matrix:\\n\", adj_matrix)"
      ],
      "metadata": {
        "colab": {
          "base_uri": "https://localhost:8080/"
        },
        "id": "bHkmeQ0EDQWR",
        "outputId": "a21c6ed3-2104-4d21-e5ff-82ec0d7a808d"
      },
      "execution_count": null,
      "outputs": [
        {
          "output_type": "stream",
          "name": "stdout",
          "text": [
            "Node features:\n",
            " tensor([[[0., 1.],\n",
            "         [2., 3.],\n",
            "         [4., 5.],\n",
            "         [6., 7.]]])\n",
            "\n",
            "Adjacency matrix:\n",
            " tensor([[[1., 1., 0., 0.],\n",
            "         [1., 1., 1., 1.],\n",
            "         [0., 1., 1., 1.],\n",
            "         [0., 1., 1., 1.]]])\n"
          ]
        }
      ]
    },
    {
      "cell_type": "code",
      "source": [
        "import numpy as np\n",
        "\n",
        "device = 'cpu'\n",
        "\n",
        "layer = GATLayer(2, 4, num_heads=4)\n",
        "# layer.projection.weight.data = torch.Tensor([[1., 0.], [0., 1.]])\n",
        "# layer.projection.bias.data = torch.Tensor([0., 0.])\n",
        "# layer.a.data = torch.Tensor([[-0.2, 0.3], [0.1, -0.1]])\n",
        "\n",
        "with torch.no_grad():\n",
        "    out_feats = layer(node_feats, adj_matrix, print_attn_probs=True)\n",
        "\n",
        "print(\"Adjacency matrix\", adj_matrix)\n",
        "print(\"Input features\", node_feats)\n",
        "print(\"Output features\", out_feats)"
      ],
      "metadata": {
        "colab": {
          "base_uri": "https://localhost:8080/"
        },
        "id": "5VkdWKVBqsv1",
        "outputId": "817c5606-5f05-4ddb-e9a4-084f5530d91b"
      },
      "execution_count": null,
      "outputs": [
        {
          "output_type": "stream",
          "name": "stdout",
          "text": [
            "Attention probs\n",
            " tensor([[[[0.5072, 0.4928, 0.0000, 0.0000],\n",
            "          [0.2558, 0.2485, 0.2478, 0.2478],\n",
            "          [0.0000, 0.3340, 0.3330, 0.3330],\n",
            "          [0.0000, 0.3340, 0.3330, 0.3330]],\n",
            "\n",
            "         [[0.6774, 0.3226, 0.0000, 0.0000],\n",
            "          [0.3155, 0.2315, 0.2265, 0.2264],\n",
            "          [0.0000, 0.3383, 0.3310, 0.3308],\n",
            "          [0.0000, 0.3383, 0.3310, 0.3308]],\n",
            "\n",
            "         [[0.2709, 0.7291, 0.0000, 0.0000],\n",
            "          [0.2142, 0.2611, 0.2635, 0.2612],\n",
            "          [0.0000, 0.3323, 0.3353, 0.3324],\n",
            "          [0.0000, 0.3323, 0.3353, 0.3324]],\n",
            "\n",
            "         [[0.5011, 0.4989, 0.0000, 0.0000],\n",
            "          [0.2500, 0.2490, 0.2495, 0.2515],\n",
            "          [0.0000, 0.3320, 0.3327, 0.3354],\n",
            "          [0.0000, 0.3320, 0.3327, 0.3354]]]])\n",
            "Adjacency matrix tensor([[[1., 1., 0., 0.],\n",
            "         [1., 1., 1., 1.],\n",
            "         [0., 1., 1., 1.],\n",
            "         [0., 1., 1., 1.]]])\n",
            "Input features tensor([[[0., 1.],\n",
            "         [2., 3.],\n",
            "         [4., 5.],\n",
            "         [6., 7.]]])\n",
            "Output features tensor([[[ 0.7705, -0.1210, -0.5794, -0.9354],\n",
            "         [ 0.8836, -0.5831, -0.6580, -0.9232],\n",
            "         [ 0.9864, -0.9704, -0.9065, -0.9235],\n",
            "         [ 0.9864, -0.9704, -0.9065, -0.9235]]])\n"
          ]
        }
      ]
    },
    {
      "cell_type": "code",
      "source": [],
      "metadata": {
        "id": "cT-NMnLfqsx3"
      },
      "execution_count": null,
      "outputs": []
    },
    {
      "cell_type": "code",
      "source": [],
      "metadata": {
        "id": "60abhv5Bqs0Q"
      },
      "execution_count": null,
      "outputs": []
    },
    {
      "cell_type": "markdown",
      "metadata": {
        "id": "nuplNscxW-1P"
      },
      "source": [
        "**Task VI - Quantum Representation Learning:**\n",
        "\n",
        "\n",
        "\n",
        "*   Load the MNIST dataset\n",
        "\n",
        "*   Write a function which takes an image and prepares a quantum state. This function should have trainable parameters which we want to learn in order to have good quantum representations\n",
        "\n",
        "*   Create a circuit with which takes two images and embeds both as quantum states with the function you wrote before. Afterwards the circuit should perform a SWAP test between the two states. In the end the measurement should give the fidelity of the quantum states.\n",
        "\n",
        "*   Train the circuit parameters with a contrastive loss: For two MNIST images in the same class the fidelity should be maximized, while for images of different classes the fidelity should be minimized.\n",
        "\n"
      ]
    },
    {
      "cell_type": "markdown",
      "source": [
        "Some important notes regarding the contrastive loss: classically, it is based on the cosine distance. In our case, we aim for the fidelity - I modify the **InfoNCE loss**, specifically. Given an image pair (**query**,**positive**) or (**query**,**negative**):\n",
        "\n",
        "\n",
        "\n",
        "*   we extract two representations from the given pair, **h1** and **h2**.\n",
        "*   These are embedded into the quantum circuit showed.\n",
        "\n",
        "\n",
        "*   In the end, a **SWAP test** is made between the two quantum states.\n",
        "*   Since we are running on a simulator, we know the fidelity reduces to the squared inner product **|<Ψ|φ>|^2** .\n",
        "\n",
        "\n",
        "*   Each qubit i measured from the SWAP test gives **P(0) = 1/2 + (1/2)*|< i | j >|^2** . So we estimate |< i | j >| as:\n",
        "\n",
        "\n",
        "\n",
        "\n"
      ],
      "metadata": {
        "id": "JDPgcPu6fg-r"
      }
    },
    {
      "cell_type": "markdown",
      "source": [
        "![image.png](data:image/png;base64,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)"
      ],
      "metadata": {
        "id": "sxtkxzYSUefW"
      }
    },
    {
      "cell_type": "markdown",
      "source": [
        "## Important: in my tests, I noticed that this leads to **numerical instabilities!** Even adding a small epsilon to the formula before taking the square root does not solve it. So, instead, the final similarity is the sum of the squares of each inner product, instead of the sum of the smaller inner products.\n"
      ],
      "metadata": {
        "id": "o62viUEbUhda"
      }
    },
    {
      "cell_type": "markdown",
      "source": [
        "![image.png](data:image/png;base64,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)"
      ],
      "metadata": {
        "id": "d44lxUzoSzPf"
      }
    },
    {
      "cell_type": "code",
      "source": [
        "import os\n",
        "import urllib.request\n",
        "from urllib.error import HTTPError\n",
        "\n",
        "import matplotlib\n",
        "import matplotlib.pyplot as plt\n",
        "import pytorch_lightning as pl\n",
        "import seaborn as sns\n",
        "import torch\n",
        "import torch.nn as nn\n",
        "import torch.nn.functional as F\n",
        "import torch.optim as optim\n",
        "import torch.utils.data as data\n",
        "import torchvision\n",
        "from IPython.display import set_matplotlib_formats\n",
        "from pytorch_lightning.callbacks import LearningRateMonitor, ModelCheckpoint\n",
        "from torchvision import transforms\n",
        "from torchvision.datasets import  MNIST\n",
        "\n",
        "test_transform = transforms.Compose(\n",
        "    [\n",
        "        transforms.ToTensor(),\n",
        "        transforms.Resize((224, 224)),\n",
        "        transforms.Lambda(lambda x: x.repeat(3,1,1)),\n",
        "        transforms.Normalize([0.49139968, 0.48215841, 0.44653091], [0.24703223, 0.24348513, 0.26158784]),\n",
        "    ]\n",
        ")\n",
        "# For training, we add some augmentation. Networks are too powerful and would overfit.\n",
        "train_transform = transforms.Compose(\n",
        "    [\n",
        "        transforms.RandomHorizontalFlip(),\n",
        "        transforms.Resize((224, 224)),\n",
        "        transforms.ToTensor(),\n",
        "        transforms.Lambda(lambda x: x.repeat(3,1,1)),\n",
        "        transforms.Normalize([0.49139968, 0.48215841, 0.44653091], [0.24703223, 0.24348513, 0.26158784]),\n",
        "    ]\n",
        ")\n",
        "\n",
        "\n",
        "# Loading the training dataset. We need to split it into a training and validation part\n",
        "# We need to do a little trick because the validation set should not use the augmentation.\n",
        "train_dataset = MNIST(root=\".sample_data\", train=True, transform=train_transform, download=True)\n",
        "val_dataset = MNIST(root=\".sample_data\", train=True, transform=test_transform, download=True)\n",
        "pl.seed_everything(42)\n",
        "train_set, _ = torch.utils.data.random_split(train_dataset, [55000, 5000])\n",
        "pl.seed_everything(42)\n",
        "_, val_set = torch.utils.data.random_split(val_dataset, [55000, 5000])\n",
        "\n",
        "# Loading the test set\n",
        "test_set = MNIST(root=\".sample_data\", train=False, transform=test_transform, download=True)\n",
        "\n",
        "# We define a set of data loaders that we can use for various purposes later.\n",
        "train_loader = data.DataLoader(train_set, batch_size=128, shuffle=True, drop_last=True, pin_memory=True, num_workers=4)\n",
        "val_loader = data.DataLoader(val_set, batch_size=128, shuffle=False, drop_last=False, num_workers=4)\n",
        "test_loader = data.DataLoader(test_set, batch_size=128, shuffle=False, drop_last=False, num_workers=4)\n",
        "\n",
        "# Visualize some examples\n",
        "NUM_IMAGES = 4\n",
        "MNIST_images = torch.stack([val_set[idx][0] for idx in range(NUM_IMAGES)], dim=0)\n",
        "img_grid = torchvision.utils.make_grid(MNIST_images, nrow=4, normalize=True, pad_value=0.9)\n",
        "img_grid = img_grid.permute(1, 2, 0)\n",
        "\n",
        "plt.figure(figsize=(8, 8))\n",
        "plt.title(\"Image examples of the MNIST dataset\")\n",
        "plt.imshow(img_grid)\n",
        "plt.axis(\"off\")\n",
        "plt.show()\n",
        "plt.close()"
      ],
      "metadata": {
        "id": "Cr-D1An7M30b",
        "colab": {
          "base_uri": "https://localhost:8080/",
          "height": 686
        },
        "outputId": "5f349f39-3cdc-4de1-f6f7-5ec58d8126a6"
      },
      "execution_count": 6,
      "outputs": [
        {
          "output_type": "stream",
          "name": "stdout",
          "text": [
            "Downloading http://yann.lecun.com/exdb/mnist/train-images-idx3-ubyte.gz\n",
            "Downloading http://yann.lecun.com/exdb/mnist/train-images-idx3-ubyte.gz to .sample_data/MNIST/raw/train-images-idx3-ubyte.gz\n"
          ]
        },
        {
          "output_type": "stream",
          "name": "stderr",
          "text": [
            "100%|██████████| 9912422/9912422 [00:00<00:00, 198747119.80it/s]\n"
          ]
        },
        {
          "output_type": "stream",
          "name": "stdout",
          "text": [
            "Extracting .sample_data/MNIST/raw/train-images-idx3-ubyte.gz to .sample_data/MNIST/raw\n",
            "\n",
            "Downloading http://yann.lecun.com/exdb/mnist/train-labels-idx1-ubyte.gz\n",
            "Downloading http://yann.lecun.com/exdb/mnist/train-labels-idx1-ubyte.gz to .sample_data/MNIST/raw/train-labels-idx1-ubyte.gz\n"
          ]
        },
        {
          "output_type": "stream",
          "name": "stderr",
          "text": [
            "100%|██████████| 28881/28881 [00:00<00:00, 111031800.02it/s]"
          ]
        },
        {
          "output_type": "stream",
          "name": "stdout",
          "text": [
            "Extracting .sample_data/MNIST/raw/train-labels-idx1-ubyte.gz to .sample_data/MNIST/raw\n",
            "\n",
            "Downloading http://yann.lecun.com/exdb/mnist/t10k-images-idx3-ubyte.gz\n"
          ]
        },
        {
          "output_type": "stream",
          "name": "stderr",
          "text": [
            "\n"
          ]
        },
        {
          "output_type": "stream",
          "name": "stdout",
          "text": [
            "Downloading http://yann.lecun.com/exdb/mnist/t10k-images-idx3-ubyte.gz to .sample_data/MNIST/raw/t10k-images-idx3-ubyte.gz\n"
          ]
        },
        {
          "output_type": "stream",
          "name": "stderr",
          "text": [
            "100%|██████████| 1648877/1648877 [00:00<00:00, 74237501.44it/s]\n"
          ]
        },
        {
          "output_type": "stream",
          "name": "stdout",
          "text": [
            "Extracting .sample_data/MNIST/raw/t10k-images-idx3-ubyte.gz to .sample_data/MNIST/raw\n",
            "\n",
            "Downloading http://yann.lecun.com/exdb/mnist/t10k-labels-idx1-ubyte.gz\n",
            "Downloading http://yann.lecun.com/exdb/mnist/t10k-labels-idx1-ubyte.gz to .sample_data/MNIST/raw/t10k-labels-idx1-ubyte.gz\n"
          ]
        },
        {
          "output_type": "stream",
          "name": "stderr",
          "text": [
            "100%|██████████| 4542/4542 [00:00<00:00, 20331407.44it/s]"
          ]
        },
        {
          "output_type": "stream",
          "name": "stdout",
          "text": [
            "Extracting .sample_data/MNIST/raw/t10k-labels-idx1-ubyte.gz to .sample_data/MNIST/raw\n",
            "\n"
          ]
        },
        {
          "output_type": "stream",
          "name": "stderr",
          "text": [
            "\n",
            "INFO:lightning_fabric.utilities.seed:Global seed set to 42\n",
            "INFO:lightning_fabric.utilities.seed:Global seed set to 42\n",
            "/usr/local/lib/python3.9/dist-packages/torch/utils/data/dataloader.py:561: UserWarning: This DataLoader will create 4 worker processes in total. Our suggested max number of worker in current system is 2, which is smaller than what this DataLoader is going to create. Please be aware that excessive worker creation might get DataLoader running slow or even freeze, lower the worker number to avoid potential slowness/freeze if necessary.\n",
            "  warnings.warn(_create_warning_msg(\n",
            "/usr/local/lib/python3.9/dist-packages/torchvision/transforms/functional.py:1603: UserWarning: The default value of the antialias parameter of all the resizing transforms (Resize(), RandomResizedCrop(), etc.) will change from None to True in v0.17, in order to be consistent across the PIL and Tensor backends. To suppress this warning, directly pass antialias=True (recommended, future default), antialias=None (current default, which means False for Tensors and True for PIL), or antialias=False (only works on Tensors - PIL will still use antialiasing). This also applies if you are using the inference transforms from the models weights: update the call to weights.transforms(antialias=True).\n",
            "  warnings.warn(\n"
          ]
        },
        {
          "output_type": "display_data",
          "data": {
            "text/plain": [
              "<Figure size 800x800 with 1 Axes>"
            ],
            "image/png": "[encoded data removed]"
          },
          "metadata": {}
        }
      ]
    },
    {
      "cell_type": "code",
      "execution_count": 7,
      "metadata": {
        "id": "Fvzc4inraw20"
      },
      "outputs": [],
      "source": [
        "def H_layer(n_qubits, n_ancillas):\n",
        "    for idx in range(n_ancillas, n_qubits): # 0th qubits reserved for ancilla purposes\n",
        "        qml.Hadamard(idx)\n",
        "\n",
        "def RY_layer(w, n_ancillas):\n",
        "    \"\"\"Layer of parametrized qubit rotations around the y axis.\n",
        "    \"\"\"\n",
        "    for idx, element in enumerate(w, start=n_ancillas): # 1st qubit is ancilla, used for SWAP test here.\n",
        "        qml.RY(element, wires=idx)\n",
        "\n",
        "\n",
        "def entangling_layer(nqubits, n_ancillas):\n",
        "    \"\"\"Layer of CNOTs followed by another shifted layer of CNOT.\n",
        "    \"\"\"\n",
        "    # In other words it should apply something like :\n",
        "    # CNOT  CNOT  CNOT  CNOT...  CNOT\n",
        "    #   CNOT  CNOT  CNOT...  CNOT\n",
        "    for i in range(n_ancillas, nqubits - 1, 2):  # Loop over even indices: i=0,2,...N-2\n",
        "        qml.CNOT(wires=[i, i + 1])\n",
        "    for i in range(n_ancillas + 1, nqubits - 1, 2):  # Loop over odd indices:  i=1,3,...N-3\n",
        "        qml.CNOT(wires=[i, i + 1])"
      ]
    },
    {
      "cell_type": "code",
      "source": [
        "import torch\n",
        "import torch.nn.functional as F\n",
        "from torch import nn\n",
        "\n",
        "\n",
        "\n",
        "class InfoNCE(nn.Module):\n",
        "    \"\"\"\n",
        "    Calculates the InfoNCE loss for self-supervised learning.\n",
        "    This contrastive loss enforces the embeddings of similar (positive) samples to be close\n",
        "        and those of different (negative) samples to be distant.\n",
        "    A query embedding is compared with one positive key and with one or more negative keys.\n",
        "    References:\n",
        "        https://arxiv.org/abs/1807.03748v2\n",
        "        https://arxiv.org/abs/2010.05113\n",
        "    Args:\n",
        "        temperature: Logits are divided by temperature before calculating the cross entropy.\n",
        "        reduction: Reduction method applied to the output.\n",
        "            Value must be one of ['none', 'sum', 'mean'].\n",
        "            See torch.nn.functional.cross_entropy for more details about each option.\n",
        "        negative_mode: Determines how the (optional) negative_keys are handled.\n",
        "            Value must be one of ['paired', 'unpaired'].\n",
        "            If 'paired', then each query sample is paired with a number of negative keys.\n",
        "            Comparable to a triplet loss, but with multiple negatives per sample.\n",
        "            If 'unpaired', then the set of negative keys are all unrelated to any positive key.\n",
        "    Input shape:\n",
        "        query: (N, D) Tensor with query samples (e.g. embeddings of the input).\n",
        "        positive_key: (N, D) Tensor with positive samples (e.g. embeddings of augmented input).\n",
        "        negative_keys (optional): Tensor with negative samples (e.g. embeddings of other inputs)\n",
        "            If negative_mode = 'paired', then negative_keys is a (N, M, D) Tensor.\n",
        "            If negative_mode = 'unpaired', then negative_keys is a (M, D) Tensor.\n",
        "            If None, then the negative keys for a sample are the positive keys for the other samples.\n",
        "    Returns:\n",
        "         Value of the InfoNCE Loss.\n",
        "     Examples:\n",
        "        >>> loss = InfoNCE()\n",
        "        >>> batch_size, num_negative, embedding_size = 32, 48, 128\n",
        "        >>> query = torch.randn(batch_size, embedding_size)\n",
        "        >>> positive_key = torch.randn(batch_size, embedding_size)\n",
        "        >>> negative_keys = torch.randn(num_negative, embedding_size)\n",
        "        >>> output = loss(query, positive_key, negative_keys)\n",
        "    \"\"\"\n",
        "\n",
        "    def __init__(self, n_qubits, n_ancillas, q_depth, q_params, temperature=0.1, epsilon = 1e-4, reduction='mean', negative_mode='unpaired'):\n",
        "        super().__init__()\n",
        "        self.temperature = temperature\n",
        "        self.reduction = reduction\n",
        "        self.negative_mode = negative_mode\n",
        "        \n",
        "        self.n_qubits = n_qubits\n",
        "        self.n_ancillas = n_ancillas\n",
        "        self.q_depth = q_depth\n",
        "        self.q_params = q_params\n",
        "        self.epsilon = epsilon\n",
        "\n",
        "    def forward(self, query, positive_key, negative_keys=None):\n",
        "        return info_nce(query, positive_key, negative_keys,\n",
        "                        temperature=self.temperature,\n",
        "                        epsilon = self.epsilon,\n",
        "                        reduction=self.reduction,\n",
        "                        negative_mode=self.negative_mode,\n",
        "                        q_params = self.q_params,\n",
        "                        q_depth = self.q_depth,\n",
        "                        n_qubits = self.n_qubits,\n",
        "                        n_ancillas = self.n_ancillas)\n",
        "\n",
        "\n",
        "def info_nce(query, positive_key, negative_keys=None, temperature=0.1, epsilon = 1e-4, reduction='mean', negative_mode='unpaired',\n",
        "             q_params=None, q_depth=None, n_qubits=None, n_ancillas=None):\n",
        "    \n",
        "    assert q_params is not None\n",
        "    assert q_depth is not None\n",
        "    assert n_qubits is not None\n",
        "    assert n_ancillas is not None\n",
        "    \n",
        "    # Check input dimensionality.\n",
        "    if query.dim() != 2:\n",
        "        raise ValueError('<query> must have 2 dimensions.')\n",
        "    if positive_key.dim() != 2:\n",
        "        raise ValueError('<positive_key> must have 2 dimensions.')\n",
        "    if negative_keys is not None:\n",
        "        if negative_mode == 'unpaired' and negative_keys.dim() != 2:\n",
        "            raise ValueError(\"<negative_keys> must have 2 dimensions if <negative_mode> == 'unpaired'.\")\n",
        "        if negative_mode == 'paired' and negative_keys.dim() != 3:\n",
        "            raise ValueError(\"<negative_keys> must have 3 dimensions if <negative_mode> == 'paired'.\")\n",
        "\n",
        "    # Check matching number of samples.\n",
        "    if len(query) != len(positive_key):\n",
        "        raise ValueError('<query> and <positive_key> must must have the same number of samples.')\n",
        "    if negative_keys is not None:\n",
        "        if negative_mode == 'paired' and len(query) != len(negative_keys):\n",
        "            raise ValueError(\"If negative_mode == 'paired', then <negative_keys> must have the same number of samples as <query>.\")\n",
        "\n",
        "    # Embedding vectors should have same number of components.\n",
        "    if query.shape[-1] != positive_key.shape[-1]:\n",
        "        raise ValueError('Vectors of <query> and <positive_key> should have the same number of components.')\n",
        "    if negative_keys is not None:\n",
        "        if query.shape[-1] != negative_keys.shape[-1]:\n",
        "            raise ValueError('Vectors of <query> and <negative_keys> should have the same number of components.')\n",
        "\n",
        "    # Normalize to unit vectors\n",
        "    # query, positive_key, negative_keys = normalize(query, positive_key, negative_keys)\n",
        "    q_in_query = torch.tanh(query) * np.pi / 2.0\n",
        "    q_in_pos = torch.tanh(positive_key) * np.pi / 2.0\n",
        "\n",
        "    \n",
        "    if negative_keys is not None:\n",
        "        # Explicit negative keys\n",
        "        q_in_neg = torch.tanh(negative_keys) * np.pi / 2.0\n",
        "        # Cosine between positive pairs\n",
        "        # should return: Tensor([[0.81], [0.009], [-1.2], ...]]) \n",
        "        # positive_logit = torch.sum(query * positive_key, dim=1, keepdim=True)\n",
        "        positive_logit = torch.Tensor(0, 1)#query.shape[0])\n",
        "        for h1, h2 in zip(q_in_query, q_in_pos): # CHECK THAT h1 and h2 have single dim.\n",
        "\n",
        "            q_pair = torch.cat((h1, h2), axis=0) # hidden representations concatenated into single vector.\n",
        "\n",
        "            similarity = embed_image(q_input_features=q_pair, q_weights_flat=q_params, q_depth=q_depth, n_qubits=n_qubits, n_ancillas=n_ancillas, train=True)\n",
        "\n",
        "            similarity = (2*similarity - 1 + epsilon)#**0.5\n",
        "            similarity = torch.sum(similarity) # = sum(<i|j>) = <q_in_1 | q_in_2 >; i,j=1...n_qubits\n",
        "            similarity = similarity**2\n",
        "\n",
        "            positive_logit = torch.cat((positive_logit, similarity.unsqueeze(0).unsqueeze(0)), 0)\n",
        "\n",
        "            \n",
        "        if negative_mode == 'unpaired':\n",
        "            # Cosine between all query-negative combinations\n",
        "            # should return: cosine similarity matrix\n",
        "            # or: fidelity matrix.\n",
        "\n",
        "            negative_logits = torch.Tensor(0, query.shape[0])\n",
        "            for h_query in query:\n",
        "                row_aux = torch.Tensor(0)\n",
        "                for h_neg in negative_keys:\n",
        "\n",
        "                    q_pair = torch.cat((h_query, h_neg), axis=0) # hidden representations concatenated into single vector.\n",
        "\n",
        "                    similarity = embed_image(q_input_features=q_pair, q_weights_flat=q_params, q_depth=q_depth, n_qubits=n_qubits, n_ancillas=n_ancillas, train=True)\n",
        "                    similarity = (2*similarity - 1 + epsilon)#**0.5\n",
        "                    similarity = torch.sum(similarity) # = sum(<i|j>) = <q_in_1 | q_in_2 >; i,j=1...n_qubits\n",
        "                    similarity = similarity**2\n",
        "\n",
        "                    row_aux = torch.cat((row_aux, similarity.unsqueeze(0)), 0) # row_aux = [] -> [1.0] -> [1.0, -3.2] - > ...\n",
        "\n",
        "                negative_logits = torch.cat((negative_logits, row_aux.unsqueeze(0)), 0)\n",
        "\n",
        "\n",
        "        elif negative_mode == 'paired':\n",
        "            # should return: cosine similarity matrix\n",
        "            # or: fidelity matrix.\n",
        "\n",
        "            negative_logits = torch.Tensor(0, query.shape[0])\n",
        "            for idx, h_query in enumerate(query):\n",
        "                row_aux = torch.Tensor(0)\n",
        "                for h_neg in negative_keys[idx]:\n",
        "\n",
        "                    q_pair = torch.cat((h_query, h_neg), axis=1) # hidden representations concatenated into single vector.\n",
        "\n",
        "                    similarity = embed_image(q_input_features=q_pair, q_weights_flat=self.q_params, q_depth=q_depth, n_qubits=n_qubits, n_ancillas=n_ancillas, train=True)\n",
        "                    similarity = (2*similarity - 1 + epsilon)#**0.5\n",
        "                    similarity = torch.sum(similarity) # = sum(<i|j>) = <q_in_1 | q_in_2 >; i,j=1...n_qubits\n",
        "                    similarity = similarity**2\n",
        "\n",
        "                    row_aux = torch.cat((row_aux, similarity.unsqueeze(0)), 0) # row_aux = [] -> [1.0] -> [1.0, -3.2] - > ...\n",
        "\n",
        "                negative_logits = torch.cat((negative_logits, row_aux.unsqueeze(0)), 0)\n",
        "\n",
        "        # First index in last dimension are the positive samples\n",
        "        logits = torch.cat([positive_logit, negative_logits], dim=1)\n",
        "        labels = torch.zeros(len(logits), dtype=torch.long, device=query.device)\n",
        "    else:\n",
        "        # Negative keys are implicitly off-diagonal positive keys.\n",
        "\n",
        "        # Cosine between all combinations\n",
        "        # should return: cosine similarity matrix\n",
        "        # or: fidelity matrix.\n",
        "        # logits = query @ transpose(positive_key)\n",
        "\n",
        "        # print(\"SHAPES QUERY: {}\\nSHAPES POSITIVE KEY: {}\".format(query.shape, positive_key.shape))\n",
        "        logits = torch.Tensor(0, query.shape[0])\n",
        "        for h_query in query:\n",
        "            row_aux = torch.Tensor(0)\n",
        "            for h_pos in positive_key:\n",
        "                q_pair = torch.cat((h_query, h_pos), axis=0) # hidden representations concatenated into single vector.\n",
        "\n",
        "                similarity = embed_image(q_input_features=q_pair, q_weights_flat=q_params, q_depth=q_depth, n_qubits=n_qubits, n_ancillas=n_ancillas, train=True)\n",
        "                similarity = (2*similarity - 1 + epsilon)#**0.5\n",
        "                similarity = torch.sum(similarity) # = sum(<i|j>) = <q_in_1 | q_in_2 >; i,j=1...n_qubits\n",
        "                similarity = similarity**2\n",
        "\n",
        "                row_aux = torch.cat((row_aux, similarity.unsqueeze(0)), 0) # row_aux = [] -> [1.0] -> [1.0, -3.2] - > ...\n",
        "                \n",
        "            logits = torch.cat((logits, row_aux.unsqueeze(0)), 0)\n",
        "\n",
        "        # Positive keys are the entries on the diagonal\n",
        "        labels = torch.arange(len(query), device=query.device)\n",
        "\n",
        "    return F.cross_entropy(logits / temperature, labels, reduction=reduction)"
      ],
      "metadata": {
        "id": "_mTf5Jqr4-bw"
      },
      "execution_count": 8,
      "outputs": []
    },
    {
      "cell_type": "code",
      "source": [
        "import pennylane as qml\n",
        "\n",
        "dev = qml.device(\"default.qubit\", wires=12)\n",
        "\n",
        "\n",
        "@qml.qnode(dev, interface=\"torch\")\n",
        "def embed_image(q_input_features, q_weights_flat, q_depth, n_qubits, n_ancillas, train=False):\n",
        "    \"\"\"\n",
        "    The variational quantum circuit. It takes the image hidden representation\n",
        "    and prepares a quantum state using trainable parameters.\n",
        "\n",
        "    Given 2 images, they go through a classical resnet, which in the end gives a classical feature vector of dim = (n_qubits = 4 in this example).\n",
        "        - Image 1 is then encoded in a Parametrized Quantum Circuit (PQC), giving the state |Ψ>.\n",
        "        - Image 2 is then encoded in the same Parametrized Quantum Circuit (PQC), giving the state |φ>.\n",
        "    We have then proceed to define a PQC consisting of 3*n_qubits, that is:\n",
        "        - n_qubits as ancilliary ones.\n",
        "        - n qubits for the first image.\n",
        "        - n qubits for the second image.\n",
        "    In the end, through a CSAWP test, we estimate the inner product <Ψ|φ>. More specifically, we estimate |<Ψ|φ>|^2, which is\n",
        "    the fidelity measure for pure states.\n",
        "\n",
        "    If train == True, then it performs a SWAP test, returning the fidelity in the end. Else, it return the measurements in the Z basis.\n",
        "    \"\"\"\n",
        "\n",
        "    # Reshape weights\n",
        "    q_weights = q_weights_flat.reshape(q_depth, n_qubits - 4)\n",
        "\n",
        "    # Start from state |+> , unbiased w.r.t. |0> and |1>\n",
        "    H_layer(n_qubits, n_ancillas)\n",
        "\n",
        "    # Embed features in the quantum node\n",
        "    RY_layer(q_input_features, n_ancillas)\n",
        "\n",
        "    # Sequence of trainable variational layers\n",
        "    for k in range(q_depth):\n",
        "        entangling_layer(n_qubits, n_ancillas)\n",
        "        RY_layer(q_weights[k], n_ancillas)\n",
        "\n",
        "    if train == False:\n",
        "        # Expectation values in the Z basis\n",
        "        exp_vals = [qml.expval(qml.PauliZ(position)) for position in range(n_ancillas, n_qubits)]\n",
        "        return tuple(exp_vals)\n",
        "\n",
        "    else: # performs SWAP test & returns fidelity estimate.\n",
        "        \n",
        "        for idx in range(n_ancillas):\n",
        "            qml.Hadamard(idx)\n",
        "            qml.CSWAP(wires = [idx, idx + n_ancillas, idx + 2*n_ancillas])\n",
        "            qml.Hadamard(idx)\n",
        "\n",
        "        # exp = qml.probs(wires=[0]) #qml.expval(qml.PauliZ(0)) # expected value of ancilla qubit (0-th qubit)\n",
        "\n",
        "        # P(0) = 1/2 + (1/2)*|<psi|phi>|^2\n",
        "\n",
        "        # s = 2*exp - 1 # s is the estimate of the inner product |<psi|phi>|^2, also the fidelity\n",
        "        \n",
        "        exp_vals = [qml.expval(qml.PauliZ(position)) for position in range(n_ancillas)]\n",
        "\n",
        "        return tuple(exp_vals) #qml.expval(qml.PauliZ(0)) #expval"
      ],
      "metadata": {
        "id": "ua8ZjMYN8VNe"
      },
      "execution_count": 9,
      "outputs": []
    },
    {
      "cell_type": "code",
      "source": [
        "import torch\n",
        "import numpy as np\n",
        "from torch import nn\n",
        "\n",
        "class QuantumFidelityNet(nn.Module): # Hybrid NN trained on contrastive learning using fidelity as measure of similarity.\n",
        "    \"\"\"\n",
        "    Torch module implementing the *dressed* quantum net.\n",
        "    \"\"\"\n",
        "\n",
        "    def __init__(self, classical_net, n_qubits, q_depth = 1, q_delta=0.001, negative_mode='unpaired'):\n",
        "        \"\"\"\n",
        "        Definition of the *dressed* layout.\n",
        "\n",
        "        Attention: n_qubits includes the ancillas !!!\n",
        "        \"\"\"\n",
        "\n",
        "        super().__init__()\n",
        "        self.n_qubits = n_qubits\n",
        "        self.n_ancillas = int(n_qubits / 3)\n",
        "        self.q_depth = q_depth\n",
        "        self.q_params = nn.Parameter(q_delta * torch.randn(q_depth * (n_qubits - self.n_ancillas) ))\n",
        "\n",
        "        self.classical_net = classical_net\n",
        "        self.loss = InfoNCE(self.n_qubits, self.n_ancillas, \n",
        "                            self.q_depth, self.q_params,\n",
        "                            epsilon = 0,\n",
        "                            negative_mode='unpaired')\n",
        "\n",
        "        for param in self.classical_net.parameters():\n",
        "            param.requires_grad = False\n",
        "\n",
        "        self.classical_net.fc = nn.Linear(512, (self.n_qubits -  self.n_ancillas)// 2)\n",
        "\n",
        "        # showscase our PQC\n",
        "        print(qml.draw(embed_image)(q_input_features=torch.rand(8), q_weights_flat=self.q_params, q_depth=self.q_depth, n_qubits=self.n_qubits, n_ancillas=self.n_ancillas, train=True))\n",
        "\n",
        "    def forward(self, query, positives, negatives = None, train=False):\n",
        "\n",
        "        \"\"\"\n",
        "        Given 2 images, they go through a classical resnet, which in the end gives a classical feature vector of dim = (n_qubits = 4 in this example).\n",
        "            - Image 1 is then encoded in a Parametrized Quantum Circuit (PQC), giving the state |Ψ>.\n",
        "            - Image 2 is then encoded in a Parametrized Quantum Circuit (PQC), giving the state |φ>.\n",
        "        We have then proceed to define a PQC consisting of 2*n_qubits + 1, that is:\n",
        "            - 1 ancilliary qubit.\n",
        "            - n qubits for the first image.\n",
        "            - n qubits for the second image.\n",
        "        In the end, through a CSAWP test, we estimate the inner product <Ψ|φ>. More specifically, we estimate |<Ψ|φ>|^2, which is\n",
        "        the fidelity measure for pure states.\n",
        "        \"\"\"\n",
        "\n",
        "        repr_1 = self.classical_net(query) # [B, n_qubits] : (batch_size, n_qubits)\n",
        "        if negatives is not None and train == True:\n",
        "            repr_2 = self.classical_net(positives) \n",
        "            repr_3 = self.classical_net(negatives) \n",
        "            return self.loss(repr_1, repr_2, repr_3)\n",
        "        else:\n",
        "            repr_2 = self.classical_net(positives) \n",
        "            return self.loss(repr_1, repr_2)\n",
        "\n",
        "        return embed_image(q_input_features=repr_1, q_weights_flat=self.q_params, q_depth=self.q_depth, n_qubits=self.n_qubits, n_ancillas=self.n_ancillas, train=train)\n",
        "        \n",
        "        # q_in_1 = torch.tanh(repr_1) * np.pi / 2.0\n",
        "        # q_in_2 = torch.tanh(repr_2) * np.pi / 2.0\n",
        "\n",
        "        # q_in = torch.cat((q_in_1, q_in_2), axis=0)\n",
        "\n",
        "\n",
        "        # print(\"Shape after classical net: {}\".format(q_in_1.shape))\n",
        "\n",
        "        # # print(\"|Ψ>: {}\\n|φ>: {}\\n<φ|Ψ>: {}\".format(q_in_1, q_in_2, q_in_1@q_in_2.T))\n",
        "\n",
        "        # print(qml.draw(embed_image)(q_input_features=q_in[0], q_weights_flat=self.q_params, q_depth=self.q_depth, n_qubits=self.n_qubits, n_ancillas=self.n_ancillas, train=train))\n",
        "        # similarity = embed_image(q_input_features=q_in[0], q_weights_flat=self.q_params, q_depth=self.q_depth, n_qubits=self.n_qubits, n_ancillas=self.n_ancillas, train=train) #.float().unesqueeze(0)\n",
        "        # similarity = (2*similarity - 1)**0.5\n",
        "        # similarity = torch.sum(similarity) # = sum(<i|j>) = <q_in_1 | q_in_2 >; i,j=1...n_qubits\n",
        "\n",
        "        # return similarity**2 # fidelity\n",
        "\n",
        "        # return self.loss(repr_1, repr_2)"
      ],
      "metadata": {
        "id": "K3YNSvpD5uwM"
      },
      "execution_count": 10,
      "outputs": []
    },
    {
      "cell_type": "markdown",
      "source": [
        "# Let's define a dataset of triplets for MNIST:"
      ],
      "metadata": {
        "id": "U8MuQ3XQXrFq"
      }
    },
    {
      "cell_type": "code",
      "source": [
        "def generate_pairs(dataset, max_size = None):\n",
        "    \"\"\"\n",
        "    Creates a collection of positive and negative image pairs from the supplied\n",
        "    array of images.\n",
        "\n",
        "    A positive pair contains two images of the same digit. A negative pair contains\n",
        "    two images representing different digits.\n",
        "    \"\"\"\n",
        "\n",
        "    x_triplets = []\n",
        "\n",
        "    for i in range(len(dataset)):\n",
        "\n",
        "        label = dataset[i][1]\n",
        "\n",
        "        complete = [False, False]\n",
        "        aux = [dataset[i][0]]\n",
        "        for j in range(len(dataset)):\n",
        "            if dataset[j][1] == label and complete[1] == False:\n",
        "                aux.append(dataset[j][0])\n",
        "                complete[1] = True\n",
        "            elif dataset[j][1] != label and complete[0] == False:\n",
        "                aux.append(dataset[j][0])\n",
        "                complete[0] = True\n",
        "\n",
        "            if complete[0] == True and complete[1] == True:\n",
        "                break\n",
        "\n",
        "        x_triplets.append(torch.stack(aux))\n",
        "\n",
        "        \n",
        "        if max_size != None and i >= max_size:\n",
        "            break\n",
        "\n",
        "\n",
        "    return torch.stack(x_triplets)"
      ],
      "metadata": {
        "id": "5G83jz6HgVcs"
      },
      "execution_count": 10,
      "outputs": []
    },
    {
      "cell_type": "code",
      "source": [
        "train_triplets_tensor = generate_pairs(train_dataset, max_size = 128)\n",
        "val_triplets_tensor = generate_pairs(val_dataset, max_size = 32)\n",
        "test_triplets_tensor = generate_pairs(test_set, max_size = 32)"
      ],
      "metadata": {
        "id": "NbWOgbgpvD-l"
      },
      "execution_count": 11,
      "outputs": []
    },
    {
      "cell_type": "code",
      "source": [
        "from torch.utils.data import Dataset, DataLoader\n",
        "\n",
        "class MNISTTripletsDataset(Dataset):\n",
        "    \"\"\"Face Landmarks dataset.\"\"\"\n",
        "\n",
        "    def __init__(self, triplets_tensor):\n",
        "        \"\"\"\n",
        "        Arguments:\n",
        "            csv_file (string): Path to the csv file with annotations.\n",
        "            root_dir (string): Directory with all the images.\n",
        "            transform (callable, optional): Optional transform to be applied\n",
        "                on a sample.\n",
        "        \"\"\"\n",
        "        self.triplets_tensor = triplets_tensor\n",
        "\n",
        "    def __len__(self):\n",
        "        return len(self.triplets_tensor)\n",
        "\n",
        "    def __getitem__(self, idx):\n",
        "        if torch.is_tensor(idx):\n",
        "            idx = idx.tolist()\n",
        "\n",
        "        sample = {'query': self.triplets_tensor[idx, 0], 'positive': self.triplets_tensor[idx, 1], 'negative': self.triplets_tensor[idx, 2]}\n",
        "\n",
        "        return sample"
      ],
      "metadata": {
        "id": "4lIvSKxWq25C"
      },
      "execution_count": 12,
      "outputs": []
    },
    {
      "cell_type": "code",
      "source": [
        "train_triplets_dataset = MNISTTripletsDataset(train_triplets_tensor)"
      ],
      "metadata": {
        "id": "zcbFxpk8rdWd"
      },
      "execution_count": 13,
      "outputs": []
    },
    {
      "cell_type": "code",
      "source": [
        "val_triplets_dataset = MNISTTripletsDataset(val_triplets_tensor)"
      ],
      "metadata": {
        "id": "_qZeN0Obs2Sn"
      },
      "execution_count": 14,
      "outputs": []
    },
    {
      "cell_type": "code",
      "source": [
        "test_triplets_dataset = MNISTTripletsDataset(test_triplets_tensor)"
      ],
      "metadata": {
        "id": "svmCNn22s2Vx"
      },
      "execution_count": 15,
      "outputs": []
    },
    {
      "cell_type": "markdown",
      "source": [
        "# **Declare the classical net**"
      ],
      "metadata": {
        "id": "OXaGu6G4mtCd"
      }
    },
    {
      "cell_type": "code",
      "execution_count": 11,
      "metadata": {
        "id": "sAgsI5g4alwb",
        "colab": {
          "base_uri": "https://localhost:8080/"
        },
        "outputId": "4ca5eaca-f846-4b09-d3b1-aa31d4675130"
      },
      "outputs": [
        {
          "output_type": "stream",
          "name": "stderr",
          "text": [
            "/usr/local/lib/python3.9/dist-packages/torchvision/models/_utils.py:208: UserWarning: The parameter 'pretrained' is deprecated since 0.13 and may be removed in the future, please use 'weights' instead.\n",
            "  warnings.warn(\n",
            "/usr/local/lib/python3.9/dist-packages/torchvision/models/_utils.py:223: UserWarning: Arguments other than a weight enum or `None` for 'weights' are deprecated since 0.13 and may be removed in the future. The current behavior is equivalent to passing `weights=ResNet18_Weights.IMAGENET1K_V1`. You can also use `weights=ResNet18_Weights.DEFAULT` to get the most up-to-date weights.\n",
            "  warnings.warn(msg)\n",
            "Downloading: \"https://download.pytorch.org/models/resnet18-f37072fd.pth\" to /root/.cache/torch/hub/checkpoints/resnet18-f37072fd.pth\n",
            "100%|██████████| 44.7M/44.7M [00:00<00:00, 122MB/s] \n"
          ]
        }
      ],
      "source": [
        "import torchvision\n",
        "\n",
        "classical_net = torchvision.models.resnet18(pretrained=True)\n"
      ]
    },
    {
      "cell_type": "markdown",
      "source": [
        "# Let's create our QuantumFidelityNet and see how our PQC looks like:"
      ],
      "metadata": {
        "id": "E0KP37cxYzJO"
      }
    },
    {
      "cell_type": "code",
      "source": [
        "qfn = QuantumFidelityNet(classical_net, n_qubits = 12, q_depth=1, q_delta=0.001)"
      ],
      "metadata": {
        "id": "a-mh4k5rNS1M",
        "colab": {
          "base_uri": "https://localhost:8080/"
        },
        "outputId": "5865b9fe-9a1a-4c67-8cae-b545b183a7e6"
      },
      "execution_count": 12,
      "outputs": [
        {
          "output_type": "stream",
          "name": "stdout",
          "text": [
            " 0: ──H───────────────────────────────────╭●─────H────────────────────────────┤  <Z>\n",
            " 1: ──────────────────────────────────────│──────H─╭●─────H───────────────────┤  <Z>\n",
            " 2: ──────────────────────────────────────│────────│──────H─╭●─────H──────────┤  <Z>\n",
            " 3: ──────────────────────────────────────│────────│────────│──────H─╭●─────H─┤  <Z>\n",
            " 4: ──H──RY(0.63)─╭●──RY(0.00)────────────├SWAP────│────────│────────│────────┤     \n",
            " 5: ──H──RY(0.11)─╰X─╭●─────────RY(-0.00)─│────────├SWAP────│────────│────────┤     \n",
            " 6: ──H──RY(0.51)─╭●─╰X─────────RY(0.00)──│────────│────────├SWAP────│────────┤     \n",
            " 7: ──H──RY(0.40)─╰X─╭●─────────RY(0.00)──│────────│────────│────────├SWAP────┤     \n",
            " 8: ──H──RY(0.18)─╭●─╰X─────────RY(-0.00)─╰SWAP────│────────│────────│────────┤     \n",
            " 9: ──H──RY(0.64)─╰X─╭●─────────RY(-0.00)──────────╰SWAP────│────────│────────┤     \n",
            "10: ──H──RY(0.54)─╭●─╰X─────────RY(-0.00)───────────────────╰SWAP────│────────┤     \n",
            "11: ──H──RY(0.35)─╰X──RY(0.00)───────────────────────────────────────╰SWAP────┤     \n"
          ]
        }
      ]
    },
    {
      "cell_type": "code",
      "source": [
        "def train_one_epoch():\n",
        "    running_loss = 0.\n",
        "    last_loss = 0.\n",
        "\n",
        "    # Here, we use enumerate(training_loader) instead of\n",
        "    # iter(training_loader) so that we can track the batch\n",
        "    # index and do some intra-epoch reporting\n",
        "    for batch_idx in range(len(train_triplets_dataset)):\n",
        "        # Every data instance is an input + label pair\n",
        "        # inputs, labels = data\n",
        "\n",
        "        if (batch_idx + 1) * 16 >= len(train_triplets_dataset):\n",
        "            data_idx = [i for i in range(batch_idx*16, len(train_triplets_dataset) - 1)]\n",
        "        else:\n",
        "            data_idx = [i for i in range(batch_idx*16, (batch_idx + 1)*16)]\n",
        "\n",
        "        if len(data_idx) == 0:\n",
        "            break\n",
        "\n",
        "\n",
        "        query = train_triplets_dataset[data_idx][\"query\"]\n",
        "        pos = train_triplets_dataset[data_idx][\"positive\"]\n",
        "        neg = train_triplets_dataset[data_idx][\"negative\"]\n",
        "\n",
        "        \n",
        "        # Zero the gradients for every batch!\n",
        "        optimizer.zero_grad()\n",
        "\n",
        "        loss = qfn(query, pos, neg, train=True)\n",
        "        loss.backward()\n",
        "        \n",
        "        # Adjust learning weights\n",
        "        optimizer.step()\n",
        "\n",
        "        # Gather data and report\n",
        "        running_loss += loss.item()\n",
        "        last_loss = running_loss / 1000 # loss per batch\n",
        "        print('  batch {} loss: {}'.format(batch_idx + 1, last_loss))\n",
        "        running_loss = 0.\n",
        "\n",
        "    return last_loss"
      ],
      "metadata": {
        "id": "GPwnhScc_Ctz"
      },
      "execution_count": 18,
      "outputs": []
    },
    {
      "cell_type": "code",
      "source": [
        "# Optimizers specified in the torch.optim package\n",
        "optimizer = torch.optim.SGD(qfn.parameters(), lr=0.001, momentum=0.9)"
      ],
      "metadata": {
        "id": "mhloYVnczxfE"
      },
      "execution_count": 19,
      "outputs": []
    },
    {
      "cell_type": "markdown",
      "source": [
        "## Let's see the training convergence:"
      ],
      "metadata": {
        "id": "LB-I_UzMUxC1"
      }
    },
    {
      "cell_type": "code",
      "source": [
        "for epoch in range(10):\n",
        "    print(\"=================== EPOCH {} ====================\".format(epoch + 1))\n",
        "    train_one_epoch()"
      ],
      "metadata": {
        "colab": {
          "base_uri": "https://localhost:8080/"
        },
        "id": "kRwilfPawS1v",
        "outputId": "42db3ed1-aaf9-45e9-97c9-c5fa460e1f8a"
      },
      "execution_count": null,
      "outputs": [
        {
          "output_type": "stream",
          "name": "stdout",
          "text": [
            "=================== EPOCH 1 ====================\n",
            "  batch 1 loss: 0.06422137579264132\n",
            "  batch 2 loss: 0.015061427396595054\n",
            "  batch 3 loss: 0.0008624591649782367\n",
            "  batch 4 loss: 0.00012838049341382777\n",
            "  batch 5 loss: 4.979787530659902e-10\n",
            "  batch 6 loss: 2.3412454275018166e-07\n",
            "  batch 7 loss: 0.0024345254437963884\n",
            "  batch 8 loss: 1.3433659414463038e-08\n",
            "=================== EPOCH 2 ====================\n",
            "  batch 1 loss: 5.5943943800046204e-11\n",
            "  batch 2 loss: 5.3711367309493674e-09\n"
          ]
        }
      ]
    },
    {
      "cell_type": "markdown",
      "metadata": {
        "id": "ONM43BQfV9Ts"
      },
      "source": [
        "**Task VII - Equivariant quantum neural networks:**\n",
        "\n",
        "\n",
        "\n",
        "*   Generate a classification dataset with two classes and two features x_1 and x_2 which respects the Z_2 x Z_2 symmetry (this corresponds to mirroring along y=x). An example can be found in the first reference paper.\n",
        "\n",
        "*   Train a QNN to solve the classification problem\n",
        "\n",
        "*   Train an Z_2 x Z_2 equivariant QNN to solve the classification problem and compare the results.\n",
        "\n"
      ]
    },
    {
      "cell_type": "code",
      "execution_count": null,
      "metadata": {
        "id": "dNgmDKeqScf_"
      },
      "outputs": [],
      "source": [
        "X = np.random.randn(50, 2)\n",
        "X += X.take([1,0], axis = 1)\n",
        "X = np.concatenate((X, X.take([1,0], axis=1 ) ) )"
      ]
    },
    {
      "cell_type": "code",
      "source": [
        "Y = []\n",
        "for vector in X:\n",
        "    if vector[1] >= vector[0]:\n",
        "        Y.append(1)\n",
        "    else:\n",
        "        Y.append(0)"
      ],
      "metadata": {
        "id": "KvmvRjyeZT0L"
      },
      "execution_count": null,
      "outputs": []
    },
    {
      "cell_type": "code",
      "source": [
        "# calculate the mean square error for this classification problem\n",
        "def cost_function(params, input, target):\n",
        "    output = torch.stack([circuit(x, params) for x in input])\n",
        "    vec = output - target\n",
        "    sum_sqr = torch.sum(vec * vec, dim=1)\n",
        "    return torch.mean(sum_sqr)"
      ],
      "metadata": {
        "id": "zAykUfx1Zr0X"
      },
      "execution_count": null,
      "outputs": []
    },
    {
      "cell_type": "code",
      "source": [
        "from torch import optim\n",
        "import numpy as np\n",
        "\n",
        "params = 0.01 * torch.randn(9)\n",
        "params.requires_grad = True\n",
        "opt = optim.Adam([params], lr=1e-2)\n",
        "\n",
        "\n",
        "max_epoch = 15\n",
        "max_step = 30\n",
        "batch_size = 10\n",
        "\n",
        "encoded_dataset = list(zip(*[encode_game(game) for game in dataset]))\n",
        "encoded_dataset_val = list(zip(*[encode_game(game) for game in dataset_val]))\n",
        "\n",
        "\n",
        "def accuracy(p, x_val, y_val):\n",
        "    with torch.no_grad():\n",
        "        y_val = torch.tensor(y_val)\n",
        "        y_out = torch.stack([circuit(x, p) for x in x_val])\n",
        "        acc = torch.sum(torch.argmax(y_out, axis=1) == torch.argmax(y_val, axis=1))\n",
        "        return acc / len(x_val)\n",
        "\n",
        "\n",
        "print(f\"accuracy without training = {accuracy(params, *encoded_dataset_val)}\")\n",
        "\n",
        "x_dataset = torch.stack(encoded_dataset[0])\n",
        "y_dataset = torch.tensor(encoded_dataset[1], requires_grad=False)\n",
        "\n",
        "saved_costs_sym = []\n",
        "saved_accs_sym = []\n",
        "for epoch in range(max_epoch):\n",
        "    rand_idx = torch.randperm(len(x_dataset))\n",
        "    # Shuffled dataset\n",
        "    x_dataset = x_dataset[rand_idx]\n",
        "    y_dataset = y_dataset[rand_idx]\n",
        "\n",
        "    costs = []\n",
        "\n",
        "    for step in range(max_step):\n",
        "        x_batch = x_dataset[step * batch_size : (step + 1) * batch_size]\n",
        "        y_batch = y_dataset[step * batch_size : (step + 1) * batch_size]\n",
        "\n",
        "        def opt_func():\n",
        "            opt.zero_grad()\n",
        "            loss = cost_function(params, x_batch, y_batch)\n",
        "            costs.append(loss.item())\n",
        "            loss.backward()\n",
        "            return loss\n",
        "\n",
        "        opt.step(opt_func)\n",
        "\n",
        "    cost = np.mean(costs)\n",
        "    saved_costs_sym.append(cost)\n",
        "\n",
        "    if (epoch + 1) % 1 == 0:\n",
        "        # Compute validation accuracy\n",
        "        acc_val = accuracy(params, *encoded_dataset_val)\n",
        "        saved_accs_sym.append(acc_val)\n",
        "\n",
        "        res = [epoch + 1, cost, acc_val]\n",
        "        print(\"Epoch: {:2d} | Loss: {:3f} | Validation accuracy: {:3f}\".format(*res))"
      ],
      "metadata": {
        "id": "pEKppGfwZr59"
      },
      "execution_count": null,
      "outputs": []
    },
    {
      "cell_type": "code",
      "source": [],
      "metadata": {
        "id": "cs0fPV7fZr79"
      },
      "execution_count": null,
      "outputs": []
    },
    {
      "cell_type": "code",
      "source": [],
      "metadata": {
        "id": "blO1hMCPZr-U"
      },
      "execution_count": null,
      "outputs": []
    },
    {
      "cell_type": "markdown",
      "metadata": {
        "id": "HszMfoFGU2Va"
      },
      "source": [
        "**Task VIII: Vision transformer/Quantum Vision Transformer**"
      ]
    },
    {
      "cell_type": "code",
      "execution_count": null,
      "metadata": {
        "id": "pN0FdoxjU495"
      },
      "outputs": [],
      "source": [
        "# https://arxiv.org/pdf/2209.08167.pdf"
      ]
    },
    {
      "cell_type": "code",
      "execution_count": null,
      "metadata": {
        "id": "neeqno40StFf"
      },
      "outputs": [],
      "source": [
        "# https://github.com/lucidrains/vit-pytorch\n",
        "\n",
        "# we could change:\n",
        "#    - mlp to variational circuit.\n",
        "#    - Quantum Attention Mechanism."
      ]
    }
  ],
  "metadata": {
    "colab": {
      "provenance": []
    },
    "kernelspec": {
      "display_name": "Python 3",
      "name": "python3"
    },
    "language_info": {
      "name": "python"
    },
    "accelerator": "GPU",
    "gpuClass": "standard"
  },
  "nbformat": 4,
  "nbformat_minor": 0
}